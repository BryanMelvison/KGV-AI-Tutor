{
 "cells": [
  {
   "cell_type": "code",
   "execution_count": null,
   "metadata": {},
   "outputs": [],
   "source": [
    "from langchain_ollama import OllamaEmbeddings\n",
    "from pathlib import Path\n",
    "from rag import textbookRAG"
   ]
  },
  {
   "cell_type": "code",
   "execution_count": 32,
   "metadata": {},
   "outputs": [],
   "source": [
    "from test_metadata import metadata\n"
   ]
  },
  {
   "cell_type": "code",
   "execution_count": 33,
   "metadata": {},
   "outputs": [],
   "source": [
    "book_dir = Path(\"../utilities/book\")"
   ]
  },
  {
   "cell_type": "code",
   "execution_count": 34,
   "metadata": {},
   "outputs": [],
   "source": [
    "rag = textbookRAG(metadata=metadata, book_dir=book_dir)\n",
    "# rag.extract_from_metadata()"
   ]
  },
  {
   "cell_type": "code",
   "execution_count": 35,
   "metadata": {},
   "outputs": [
    {
     "data": {
      "text/plain": [
       "1300"
      ]
     },
     "execution_count": 35,
     "metadata": {},
     "output_type": "execute_result"
    }
   ],
   "source": [
    "rag.text_splitter._chunk_size"
   ]
  },
  {
   "cell_type": "code",
   "execution_count": 36,
   "metadata": {},
   "outputs": [
    {
     "data": {
      "text/plain": [
       "576"
      ]
     },
     "execution_count": 36,
     "metadata": {},
     "output_type": "execute_result"
    }
   ],
   "source": [
    "len(rag.vector_store.get()[\"ids\"])"
   ]
  },
  {
   "cell_type": "code",
   "execution_count": 37,
   "metadata": {},
   "outputs": [],
   "source": [
    "from langchain_ollama.llms import OllamaLLM\n",
    "from langchain_core.output_parsers import StrOutputParser\n"
   ]
  },
  {
   "cell_type": "code",
   "execution_count": 132,
   "metadata": {},
   "outputs": [],
   "source": [
    "student_input = \"Investigate diffusion in a non-living system (agar jelly)\""
   ]
  },
  {
   "cell_type": "code",
   "execution_count": 208,
   "metadata": {},
   "outputs": [],
   "source": [
    "resultrag = rag.search(student_input, subject = \"Biology\", chapter=1)"
   ]
  },
  {
   "cell_type": "code",
   "execution_count": 218,
   "metadata": {},
   "outputs": [
    {
     "name": "stdout",
     "output_type": "stream",
     "text": [
      "- Understand the processes of diffusion, osmosis and active transport by which substances move into and out of cells\n",
      "- Understand how factors affect the rate of movement of substances into and out of cells\n",
      "- Investigate diffusion in a non-living system (agar jelly)\n",
      "- Describe the levels of organisation within organisms – organelles, cells, tissues, organ systems\n",
      "Uncorrected proof, all content subject to change at publisher discretion. Not for resale, circulation or distribution in whole or in part. ©Pearson 2019\n",
      "\n",
      "## ACTIVITY 4\n",
      "\n",
      "> Safety note: Wear eye protection and avoid all skin contact with the acid and the dyed agar blocks.\n",
      "\n",
      "### ▼ PRACTICAL: DEMONSTRATION OF DIFFUSION IN A JELLY\n",
      "\n",
      "Agar is a jelly that is used for growing cultures of bacteria. It has a consistency similar to the cytoplasm of a cell. Like cytoplasm, it has a high water content. Agar can be used to show how substances diffuse through a cell.\n",
      "\n",
      "This demonstration uses the reaction between hydrochloric acid and potassium permanganate solution. When hydrochloric acid comes into contact with potassium permanganate, the purple colour of the permanganate disappears.\n",
      "\n",
      "A Petri dish is prepared which contains a 2 cm deep layer of agar jelly, dyed purple with potassium permanganate. Three cubes of different sizes are cut out of the jelly, with side lengths 2 cm, 1 cm and 0.5 cm. The cubes have different volumes and total surface areas. They also have a different surface area to volume ratio, as shown in the table below.\n",
      "Notice that the smallest cube has the largest surface area to volume ratio. The same is true of cells – a small cell has a larger surface area to volume ratio than a large cell.\n",
      "\n",
      "The cubes are carefully dropped, at the same time, into a beaker of dilute hydrochloric acid (Figure 1.13).\n",
      "\n",
      "Figure 1.13 Investigating diffusion in a jelly.\n",
      "\n",
      "The time taken for each cube to turn colourless is noted.\n",
      "\n",
      "Which cube would be the first to turn colourless and which the last? Explain the reasoning behind your prediction.\n",
      "\n",
      "If the three cubes represented cells of different sizes, which cell would have the most difficulty in obtaining substances by diffusion?\n",
      "\n",
      "It may be possible for you to try this experiment, using similar apparatus.\n",
      "---\n",
      "# ORGANISMS AND LIFE PROCESSES | LIFE PROCESSES\n",
      "\n",
      "## ACTIVE TRANSPORT\n",
      "\n",
      "Diffusion happens because of the kinetic energy of the particles. It does not need an 'extra' source of energy from respiration. However, sometimes a cell needs to take in a substance when there is very little of that substance outside the cell, in other words against a concentration gradient. It can do this by another process, called active transport.\n",
      "| carbon dioxide molecules |\n",
      "|--------------------------|\n",
      "| • •                      |\n",
      "| • • •                    |\n",
      "| • • • •                  |\n",
      "\n",
      "#### KEY POINT\n",
      "Diffusion is the net movement of particles (molecules or ions) from a region of high concentration to a region of low concentration, i.e. down a concentration gradient.\n",
      "\n",
      "The opposite happens with oxygen. Respiration uses up oxygen, so there is a concentration gradient of oxygen from outside to inside the cell. There is therefore a net movement of oxygen into the cell by diffusion.\n",
      "\n",
      "The rate of diffusion is affected by various factors.\n",
      "\n",
      "- The concentration gradient. Diffusion happens more quickly when there is a steep concentration gradient (i.e. a big difference in concentrations between two areas).\n",
      "- The surface area to volume ratio. A larger surface area in proportion to the volume will increase the rate.\n",
      "- The distance. The rate is decreased if the distance over which diffusion has to take place is greater.\n",
      "- The temperature. The rate is greater at higher temperatures. This is because a high temperature provides the particles with more kinetic energy.\n",
      "---\n",
      "16    ORGANISMS AND LIFE PROCESSES                             LIFE PROCESSES\n",
      "▲ Figure 1.2 The structure of a 'typical' animal and plant cell.\n",
      "\n",
      "The living material that makes up a cell is called cytoplasm. It has a texture rather like sloppy jelly, in other words somewhere between a solid and a liquid. Unlike a jelly, it is not made of one substance but is a complex material made of many different structures. You can't see many of these structures under an ordinary light microscope. An electron microscope has a much higher magnification and can show the details of these structures, which are called organelles (Figure 1.3).\n",
      "---\n",
      "# ORGANISMS AND LIFE PROCESSES | LIFE PROCESSES\n"
     ]
    }
   ],
   "source": [
    "print(resultrag)"
   ]
  },
  {
   "cell_type": "code",
   "execution_count": 145,
   "metadata": {},
   "outputs": [
    {
     "name": "stdout",
     "output_type": "stream",
     "text": [
      "\u001b[?25l\u001b[?2026h\u001b[?25l\u001b[1G\u001b[K\u001b[?25h\u001b[?2026l\u001b[2K\u001b[1G\u001b[?25hdeleted 'qna'\n"
     ]
    }
   ],
   "source": [
    "!ollama rm qna"
   ]
  },
  {
   "cell_type": "code",
   "execution_count": null,
   "metadata": {},
   "outputs": [],
   "source": [
    "!ollama create qna -f ./others/Modelfile"
   ]
  },
  {
   "cell_type": "code",
   "execution_count": 212,
   "metadata": {},
   "outputs": [
    {
     "name": "stdout",
     "output_type": "stream",
     "text": [
      "NAME                                        ID              SIZE      MODIFIED       \n",
      "qna:latest                                  8f4a73ac1b7c    4.9 GB    31 minutes ago    \n",
      "llama3.1:latest                             46e0c10c039e    4.9 GB    46 hours ago      \n",
      "bge-m3:latest                               790764642607    1.2 GB    46 hours ago      \n",
      "eurecom-ds/phi-3-mini-4k-socratic:latest    4e692a71bc19    7.6 GB    2 months ago      \n",
      "llama3.2:1b                                 baf6a787fdff    1.3 GB    2 months ago      \n",
      "llama2:latest                               78e26419b446    3.8 GB    2 months ago      \n",
      "llama3.2:latest                             a80c4f17acd5    2.0 GB    4 months ago      \n"
     ]
    }
   ],
   "source": [
    "!ollama list"
   ]
  },
  {
   "cell_type": "code",
   "execution_count": null,
   "metadata": {},
   "outputs": [],
   "source": [
    "!ollama show --modelfile qna"
   ]
  },
  {
   "cell_type": "code",
   "execution_count": 220,
   "metadata": {},
   "outputs": [
    {
     "name": "stdout",
     "output_type": "stream",
     "text": [
      "Q: What is agar jelly used for in this demonstration?\n",
      "A: Agar jelly is used to show how substances diffuse through a cell.\n",
      "Source: Agar can be used to show how substances diffuse through a cell.\n",
      "--------------------------------------------------\n",
      "Q: What happens when hydrochloric acid comes into contact with potassium permanganate solution?\n",
      "A: The purple colour of the permanganate disappears.\n",
      "Source: When hydrochloric acid comes into contact with potassium permanganate, the purple colour of the permanganate disappears.\n",
      "--------------------------------------------------\n",
      "Q: What is the purpose of using cubes of different sizes in this demonstration?\n",
      "A: To show how substances diffuse through a cell and to demonstrate the effect of surface area to volume ratio on diffusion.\n",
      "Source: The cubes are carefully dropped, at the same time, into a beaker of dilute hydrochloric acid\n",
      "--------------------------------------------------\n",
      "Q: Which cube would be the first to turn colourless?\n",
      "A: The smallest cube (0.5 cm side length) would be the first to turn colourless.\n",
      "Source: Notice that the smallest cube has the largest surface area to volume ratio.\n",
      "--------------------------------------------------\n",
      "Q: Why does the rate of diffusion increase at higher temperatures?\n",
      "A: Because a high temperature provides the particles with more kinetic energy.\n",
      "Source: The rate is greater at higher temperatures. This is because a high temperature provides the particles with more kinetic energy.\n",
      "--------------------------------------------------\n",
      "Q: What is the effect of surface area to volume ratio on diffusion?\n",
      "A: A larger surface area in proportion to the volume will increase the rate of diffusion.\n",
      "Source: The surface area to volume ratio. A larger surface area in proportion to the volume will increase the rate.\n",
      "--------------------------------------------------\n",
      "Q: Which cell would have the most difficulty in obtaining substances by diffusion?\n",
      "A: A large cell with a small surface area to volume ratio.\n",
      "Source: If the three cubes represented cells of different sizes, which cell would have the most difficulty in obtaining substances by diffusion?\n",
      "--------------------------------------------------\n",
      "Q: What is active transport?\n",
      "A: Active transport is another process that allows a cell to take in a substance when there is very little of that substance outside the cell.\n",
      "Source: However, sometimes a cell needs to take in a substance when there is very little of that substance outside the cell, in other words against a concentration gradient. It can do this by another process, called active transport.\n",
      "--------------------------------------------------\n",
      "Q: What is diffusion?\n",
      "A: The net movement of particles (molecules or ions) from a region of high concentration to a region of low concentration.\n",
      "Source: Diffusion is the net movement of particles (molecules or ions) from a region of high concentration to a region of low concentration, i.e. down a concentration gradient.\n",
      "--------------------------------------------------\n",
      "Q: What affects the rate of diffusion?\n",
      "A: The concentration gradient, surface area to volume ratio, distance and temperature.\n",
      "Source: The rate of diffusion is affected by various factors.\n",
      "--------------------------------------------------\n"
     ]
    }
   ],
   "source": [
    "from pydantic import BaseModel\n",
    "from typing import List\n",
    "\n",
    "# Define the QnA pair structure\n",
    "class QnaPair(BaseModel):\n",
    "    question: str\n",
    "    answer: str\n",
    "    source: str\n",
    "\n",
    "# Define a container for multiple QnA pairs\n",
    "class QnaPairs(BaseModel):\n",
    "    qa_pairs: List[QnaPair]\n",
    "\n",
    "# Update your prompt template to explicitly request multiple pairs\n",
    "llm_prompt_generate_question = \"\"\"\n",
    "Your task is to create as many as possible distinct question and answer pairs that will fulfill this learning objective: {student_input}\n",
    "\n",
    "The question must begin with one of the following IGCSE command words: 'analyse', 'assess', 'calculate', 'comment', 'compare', 'consider', 'contrast', 'define', 'describe', 'develop', 'discuss', 'evaluate', 'explain', 'give', 'identify', 'justify', 'outline', 'predict', 'state', 'suggest', 'summarise'.\n",
    "\n",
    "Your questions should be answerable with specific pieces of factual information from this context:\n",
    "{context}\n",
    "\n",
    "You should include which statement from the text file that you use to support each answer.\n",
    "\n",
    "Respond only with valid JSON. Do not write an introduction or summary. Your response should be in this format:\n",
    "{{\n",
    "  \"qa_pairs\": [\n",
    "    {{\n",
    "      \"question\": (your question),\n",
    "      \"answer\": (your answer to the question),\n",
    "      \"source\": (the statement from the context that supports your answer)\n",
    "    }},\n",
    "    {{\n",
    "      \"question\": (your question),\n",
    "      \"answer\": (your answer to the question),\n",
    "      \"source\": (the statement from the context that supports your answer)\n",
    "    }},\n",
    "    // Additional pairs...\n",
    "  ]\n",
    "}}\n",
    "\"\"\"\n",
    "\n",
    "llm_prompt = llm_prompt_generate_question.format(student_input=student_input, context=resultrag)\n",
    "\n",
    "# Update your model invocation\n",
    "model = OllamaLLM(model=\"qna\", format=\"json\")\n",
    "response = model.invoke(llm_prompt, format=QnaPairs.model_json_schema())\n",
    "\n",
    "# Parse the response\n",
    "qna_pairs = QnaPairs.model_validate_json(response)\n",
    "\n",
    "# Access the results\n",
    "for pair in qna_pairs.qa_pairs:\n",
    "    print(f\"Q: {pair.question}\")\n",
    "    print(f\"A: {pair.answer}\")\n",
    "    print(f\"Source: {pair.source}\")\n",
    "    print(\"-\" * 50)"
   ]
  },
  {
   "cell_type": "code",
   "execution_count": 219,
   "metadata": {},
   "outputs": [
    {
     "name": "stdout",
     "output_type": "stream",
     "text": [
      "{\n",
      "  \"qa_pairs\": [\n",
      "    {\n",
      "      \"question\": \"What is agar used for in this demonstration?\",\n",
      "      \"answer\": \"Agar is a jelly that is used to show how substances diffuse through a cell.\",\n",
      "      \"source\": \"Agar is a jelly that is used for growing cultures of bacteria. It has a consistency similar to the cytoplasm of a cell.\"\n",
      "    },\n",
      "    {\n",
      "      \"question\": \"What happens when hydrochloric acid comes into contact with potassium permanganate?\",\n",
      "      \"answer\": \"The purple colour of the permanganate disappears.\",\n",
      "      \"source\": \"When hydrochloric acid comes into contact with potassium permanganate, the purple colour of the permanganate disappears.\"\n",
      "    },\n",
      "    {\n",
      "      \"question\": \"What is the purpose of using cubes of different sizes in this demonstration?\",\n",
      "      \"answer\": \"To show how substances diffuse through a cell and to demonstrate the effect of surface area to volume ratio on diffusion.\",\n",
      "      \"source\": \"A Petri dish is prepared which contains a 2 cm deep layer of agar jelly, dyed purple with potassium permanganate. Three cubes of different sizes are cut out of the jelly...\"\n",
      "    },\n",
      "    {\n",
      "      \"question\": \"Which cube would be the first to turn colourless and why?\",\n",
      "      \"answer\": \"The smallest cube (0.5 cm side length) would be the first to turn colourless because it has the largest surface area to volume ratio.\",\n",
      "      \"source\": \"Notice that the smallest cube has the largest surface area to volume ratio.\"\n",
      "    },\n",
      "    {\n",
      "      \"question\": \"Which cell would have the most difficulty in obtaining substances by diffusion?\",\n",
      "      \"answer\": \"The large cell (2 cm side length) would have the most difficulty in obtaining substances by diffusion because it has a smaller surface area to volume ratio.\",\n",
      "      \"source\": \"If the three cubes represented cells of different sizes, which cell would have the most difficulty in obtaining substances by diffusion?\"\n",
      "    },\n",
      "    {\n",
      "      \"question\": \"What is the rate of diffusion affected by?\",\n",
      "      \"answer\": \"The concentration gradient, surface area to volume ratio, distance, and temperature.\",\n",
      "      \"source\": \"The rate of diffusion is affected by various factors. - The concentration gradient... - The surface area to volume ratio... - The distance... - The temperature...\"\n",
      "    },\n",
      "    {\n",
      "      \"question\": \"What happens to the rate of diffusion at higher temperatures?\",\n",
      "      \"answer\": \"The rate increases because particles have more kinetic energy.\",\n",
      "      \"source\": \"The rate is greater at higher temperatures. This is because a high temperature provides the particles with more kinetic energy.\"\n",
      "    }\n",
      "  ]\n",
      "}\n"
     ]
    }
   ],
   "source": [
    "print(response)"
   ]
  }
 ],
 "metadata": {
  "kernelspec": {
   "display_name": "venv",
   "language": "python",
   "name": "python3"
  },
  "language_info": {
   "codemirror_mode": {
    "name": "ipython",
    "version": 3
   },
   "file_extension": ".py",
   "mimetype": "text/x-python",
   "name": "python",
   "nbconvert_exporter": "python",
   "pygments_lexer": "ipython3",
   "version": "3.11.4"
  }
 },
 "nbformat": 4,
 "nbformat_minor": 2
}
