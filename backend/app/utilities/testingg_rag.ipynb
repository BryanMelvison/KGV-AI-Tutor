{
 "cells": [
  {
   "cell_type": "code",
   "execution_count": 1,
   "metadata": {},
   "outputs": [],
   "source": [
    "from langchain_ollama import OllamaEmbeddings\n",
    "from langchain_community.vectorstores import Chroma\n",
    "from uuid import uuid4\n",
    "from langchain_core.documents import Document\n",
    "from langchain.text_splitter import RecursiveCharacterTextSplitter\n",
    "from pathlib import Path\n",
    "from rag import textbookRAG"
   ]
  },
  {
   "cell_type": "code",
   "execution_count": 2,
   "metadata": {},
   "outputs": [],
   "source": [
    "from test_metadata import metadata\n"
   ]
  },
  {
   "cell_type": "code",
   "execution_count": 3,
   "metadata": {},
   "outputs": [],
   "source": [
    "book_dir = Path(\"../utilities/book\")"
   ]
  },
  {
   "cell_type": "code",
   "execution_count": null,
   "metadata": {},
   "outputs": [
    {
     "name": "stdout",
     "output_type": "stream",
     "text": [
      "Successfully added 576 document chunks to vector store.\n"
     ]
    },
    {
     "data": {
      "text/plain": [
       "True"
      ]
     },
     "execution_count": 6,
     "metadata": {},
     "output_type": "execute_result"
    }
   ],
   "source": [
    "rag = textbookRAG(metadata=metadata, book_dir=book_dir)\n",
    "# rag.extract_from_metadata()"
   ]
  },
  {
   "cell_type": "code",
   "execution_count": 7,
   "metadata": {},
   "outputs": [
    {
     "data": {
      "text/plain": [
       "1300"
      ]
     },
     "execution_count": 7,
     "metadata": {},
     "output_type": "execute_result"
    }
   ],
   "source": [
    "rag.text_splitter._chunk_size"
   ]
  },
  {
   "cell_type": "code",
   "execution_count": 8,
   "metadata": {},
   "outputs": [
    {
     "data": {
      "text/plain": [
       "576"
      ]
     },
     "execution_count": 8,
     "metadata": {},
     "output_type": "execute_result"
    }
   ],
   "source": [
    "len(rag.vector_store.get()[\"ids\"])"
   ]
  },
  {
   "cell_type": "code",
   "execution_count": 9,
   "metadata": {},
   "outputs": [],
   "source": [
    "from langchain_ollama.llms import OllamaLLM\n",
    "from langchain_core.output_parsers import StrOutputParser\n"
   ]
  },
  {
   "cell_type": "code",
   "execution_count": null,
   "metadata": {},
   "outputs": [
    {
     "name": "stderr",
     "output_type": "stream",
     "text": [
      "/var/folders/qn/kp8f2zds4c97lb16z2l1yp_h0000gn/T/ipykernel_7930/526135448.py:23: LangChainDeprecationWarning: The method `BaseLLM.__call__` was deprecated in langchain-core 0.1.7 and will be removed in 1.0. Use :meth:`~invoke` instead.\n",
      "  response = model(llm_prompt, output_parser=StrOutputParser())\n"
     ]
    }
   ],
   "source": [
    "# # prompt for checking the LLM:\n",
    "# prompt = \"\"\"\n",
    "# You are a topic relevancy checker. Your task is to determine if the user's question is relevant to Chapter: {chapterTitle} in {subject}.\n",
    "\n",
    "# Only respond with 'yes' if the question is related to the following chapter:\n",
    "# {chapterTitle}\n",
    "\n",
    "# Respond with 'no' if the question is:\n",
    "# - Off-topic or not related to this specific chapter\n",
    "# - Related to {subject} but from a different chapter\n",
    "# - Too general or vague to determine relevance\n",
    "# - About a completely different subject entirely\n",
    "\n",
    "# Question: {user_query}\n",
    "\n",
    "# Is this question relevant to Chapter {chapterTitle}?\n",
    "# Respond with only 'yes' or 'no'.\n",
    "# \"\"\"\n",
    "\n",
    "# student_input = \"Know ATP provides energy for cells\"\n",
    "# llm_prompt = prompt.format(subject=\"Biology\", chapterTitle=\"Life Processes\", user_query=student_input)\n",
    "# model = OllamaLLM(model=\"llama3.1\")\n",
    "# response = model(llm_prompt, output_parser=StrOutputParser())\n",
    "# response = response.lower().strip()\n",
    "\n",
    "# if \"no\" in response:\n",
    "#     print(\"The question is not relevant to Biology.\")\n",
    "# if \"yes\" in response:\n",
    "#     a = rag.search(student_input, subject = \"Biology\", chapter= 1)"
   ]
  },
  {
   "cell_type": "code",
   "execution_count": 27,
   "metadata": {},
   "outputs": [],
   "source": [
    "student_input = \"Know ATP provides energy for cells\""
   ]
  },
  {
   "cell_type": "code",
   "execution_count": 24,
   "metadata": {},
   "outputs": [],
   "source": [
    "result = rag.search(\"Know that ATP provides energy for cells\", subject = \"Biology\", chapter=1)"
   ]
  },
  {
   "cell_type": "code",
   "execution_count": 25,
   "metadata": {},
   "outputs": [
    {
     "data": {
      "text/plain": [
       "\"ATP is composed of an organic molecule called adenosine attached to three phosphate groups. In a cell, ATP can be broken down losing one phosphate group and forming adenosine diphosphate or ADP (Figure 1.9 (a)).\\n\\n(a) When energy is needed ATP is broken down into ADP and phosphate (P):\\n\\n| adenosine | P | P | P | + H₂O | → | adenosine | P | P | + | P |\\n|-----------|---|---|---|--------|---|-----------|---|---|---|---|\\n\\n(b) During respiration ATP is made from ADP and phosphate:\\n\\n| adenosine | P | P | + | P | → | adenosine | P | P | P | + H₂O |\\n|-----------|---|---|---|---|---|-----------|---|---|---|--------|\\n\\n▲ Figure 1.9 ATP is the energy 'currency' of the cell.\\n\\nWhen this reaction takes place, chemical energy is released and can be used to drive metabolic processes that need it.\\n\\nDuring respiration the opposite happens – energy from the oxidation of glucose is used to drive the reverse reaction and a phosphate is added onto ADP (Figure 1.9 (b)).\\n\\nATP is often described as the energy 'currency' of the cell. It transfers energy between the process that releases it (respiration) and the processes in a cell that use it up.\\n\\n## ANAEROBIC RESPIRATION\\n### DID YOU KNOW?\\n\\nCarbon from the respired glucose passes out into the atmosphere as carbon dioxide. The carbon can be traced through this pathway using a radioactive form of carbon called carbon-14.\\n\\nThis is called aerobic respiration, because it uses oxygen. Aerobic respiration happens in the cells of humans and those of animals, plants and many other organisms. It is important to realise that the equation above is only a summary of the process. It actually takes place gradually, as a sequence of small steps, which release the energy of the glucose in small amounts. Each step in the process is catalysed by a different enzyme. The later steps in the process are the aerobic ones, and these release the most energy. They happen in the mitochondria of the cell.\\n\\n## ATP – THE ENERGEY 'CURRENCY' OF THE CELL\\n\\nRespiration releases energy while other cell processes use it up. Cells have a way of passing the energy from respiration to the other processes that need it. They do this using a chemical called adenosine triphosphate or ATP. ATP is present in all living cells.\\n---\\n## ORGANISMS AND LIFE PROCESSES | LIFE PROCESSES\\n### KEY POINT\\nRespiration is called an oxidation reaction, because oxygen is used to break down food molecules.\\n\\nRespiration happens in all the cells of our body. Oxygen is used to oxidise food, and carbon dioxide (and water) are released as waste products. The main food oxidised is a sugar called glucose. Glucose contains stored chemical energy that can be converted into other forms of energy that the cell can use. It is rather like burning a fuel to get the energy out of it, except that burning releases most of the energy as heat. Respiration releases some heat energy, but most is used to make a substance called ATP (see below). The energy stored in the ATP molecules can then be used for a variety of purposes, such as:\\n\\n- contraction of muscle cells, producing movement\\n- active transport of molecules and ions (see page 17)\\n- building large molecules, such as proteins\\n- cell division.\\n\\nThe energy released as heat is also used to maintain a constant body temperature in mammals and birds (see Chapter 8).\\n\\nThe overall reaction for respiration is:\\n\\n| glucose | + | oxygen | → | carbon dioxide | + | water | (+ energy) |\\n|---------|---|--------|---|----------------|---|-------|------------|\\n| C₆H₁₂O₆ | + | 6O₂    | → | 6CO₂           | + | 6H₂O  | (+ energy) |\\n\\n### DID YOU KNOW?\\nDuring active transport a cell uses energy from respiration to take up substances, rather like a pump uses energy to move a liquid from one place to another. In fact, biologists speak of the cell 'pumping' ions or molecules in or out. The pumps are large protein molecules located in the cell membrane, and they are driven by the breakdown of ATP. An example of a place where this happens is in the human small intestine, where some glucose in the gut is absorbed into the cells lining the intestine by active transport. The roots of plants also take up certain mineral ions in this way. Cells use active transport to control the uptake of many substances.\\n\\n### KEY POINT\\nActive transport is the movement of substances against a concentration gradient, using energy from respiration.\\n\\n## OSMOSIS\\n- Understand the characteristics shared by living organisms\\n- Describe cell structures and their functions, including the nucleus, cytoplasm, cell membrane, cell wall, mitochondria, chloroplasts, ribosomes and vacuole\\n- Know the similarities and differences in the structures of plant and animal cells\\n- Understand the role of enzymes as biological catalysts in metabolic reactions\\n- Understand how temperature changes can affect enzyme function, including changes to the shape of the active site\\n- Understand how enzyme function can be affected by changes in pH altering the active site\\n- Investigate how enzyme activity can be affected by changes in temperature\\n- Describe the differences between aerobic and anaerobic respiration\\n- Understand how the process of respiration produces ATP in living organisms\\n- Know that ATP provides energy for cells\\n- Know the word equation and balanced chemical symbol equation for aerobic respiration\\n- Know the word equations for anaerobic respiration\\n- Investigate the evolution of carbon dioxide and heat from respiring seeds or other suitable living organisms\\n- Understand the processes of diffusion, osmosis and active transport by which substances move into and out of cells\""
      ]
     },
     "execution_count": 25,
     "metadata": {},
     "output_type": "execute_result"
    }
   ],
   "source": [
    "result"
   ]
  },
  {
   "cell_type": "code",
   "execution_count": null,
   "metadata": {},
   "outputs": [],
   "source": [
    "llm_prompt_generate_question = \"\"\"create 1 or more qna pairs that will fulfill this learning objective: {student_input}\n",
    "\n",
    "make sure the answer is only from the retrieved context.\n",
    "Here is the context: {context}\n",
    "# TODO: Tambahin Example questions mirip2 sama IGCSE buat chain of thought\n",
    "\n",
    "include which line from the text file that specify your answer.\"\"\""
   ]
  },
  {
   "cell_type": "code",
   "execution_count": 18,
   "metadata": {},
   "outputs": [],
   "source": [
    "llm_prompt = llm_prompt_generate_question.format(student_input=student_input, context=result)"
   ]
  },
  {
   "cell_type": "code",
   "execution_count": 28,
   "metadata": {},
   "outputs": [
    {
     "data": {
      "text/plain": [
       "\"create 1 or more qna pairs that will fulfill this learning objective: Know ATP provides energy for cells\\n\\nmake sure the answer is only from the retrieved context.\\nHere is the context: ATP is composed of an organic molecule called adenosine attached to three phosphate groups. In a cell, ATP can be broken down losing one phosphate group and forming adenosine diphosphate or ADP (Figure 1.9 (a)).\\n\\n(a) When energy is needed ATP is broken down into ADP and phosphate (P):\\n\\n| adenosine | P | P | P | + H₂O | → | adenosine | P | P | + | P |\\n|-----------|---|---|---|--------|---|-----------|---|---|---|---|\\n\\n(b) During respiration ATP is made from ADP and phosphate:\\n\\n| adenosine | P | P | + | P | → | adenosine | P | P | P | + H₂O |\\n|-----------|---|---|---|---|---|-----------|---|---|---|--------|\\n\\n▲ Figure 1.9 ATP is the energy 'currency' of the cell.\\n\\nWhen this reaction takes place, chemical energy is released and can be used to drive metabolic processes that need it.\\n\\nDuring respiration the opposite happens – energy from the oxidation of glucose is used to drive the reverse reaction and a phosphate is added onto ADP (Figure 1.9 (b)).\\n\\nATP is often described as the energy 'currency' of the cell. It transfers energy between the process that releases it (respiration) and the processes in a cell that use it up.\\n\\n## ANAEROBIC RESPIRATION\\n### DID YOU KNOW?\\n\\nCarbon from the respired glucose passes out into the atmosphere as carbon dioxide. The carbon can be traced through this pathway using a radioactive form of carbon called carbon-14.\\n\\nThis is called aerobic respiration, because it uses oxygen. Aerobic respiration happens in the cells of humans and those of animals, plants and many other organisms. It is important to realise that the equation above is only a summary of the process. It actually takes place gradually, as a sequence of small steps, which release the energy of the glucose in small amounts. Each step in the process is catalysed by a different enzyme. The later steps in the process are the aerobic ones, and these release the most energy. They happen in the mitochondria of the cell.\\n\\n## ATP – THE ENERGEY 'CURRENCY' OF THE CELL\\n\\nRespiration releases energy while other cell processes use it up. Cells have a way of passing the energy from respiration to the other processes that need it. They do this using a chemical called adenosine triphosphate or ATP. ATP is present in all living cells.\\n---\\n## ORGANISMS AND LIFE PROCESSES | LIFE PROCESSES\\n### KEY POINT\\nRespiration is called an oxidation reaction, because oxygen is used to break down food molecules.\\n\\nRespiration happens in all the cells of our body. Oxygen is used to oxidise food, and carbon dioxide (and water) are released as waste products. The main food oxidised is a sugar called glucose. Glucose contains stored chemical energy that can be converted into other forms of energy that the cell can use. It is rather like burning a fuel to get the energy out of it, except that burning releases most of the energy as heat. Respiration releases some heat energy, but most is used to make a substance called ATP (see below). The energy stored in the ATP molecules can then be used for a variety of purposes, such as:\\n\\n- contraction of muscle cells, producing movement\\n- active transport of molecules and ions (see page 17)\\n- building large molecules, such as proteins\\n- cell division.\\n\\nThe energy released as heat is also used to maintain a constant body temperature in mammals and birds (see Chapter 8).\\n\\nThe overall reaction for respiration is:\\n\\n| glucose | + | oxygen | → | carbon dioxide | + | water | (+ energy) |\\n|---------|---|--------|---|----------------|---|-------|------------|\\n| C₆H₁₂O₆ | + | 6O₂    | → | 6CO₂           | + | 6H₂O  | (+ energy) |\\n\\n### DID YOU KNOW?\\nDuring active transport a cell uses energy from respiration to take up substances, rather like a pump uses energy to move a liquid from one place to another. In fact, biologists speak of the cell 'pumping' ions or molecules in or out. The pumps are large protein molecules located in the cell membrane, and they are driven by the breakdown of ATP. An example of a place where this happens is in the human small intestine, where some glucose in the gut is absorbed into the cells lining the intestine by active transport. The roots of plants also take up certain mineral ions in this way. Cells use active transport to control the uptake of many substances.\\n\\n### KEY POINT\\nActive transport is the movement of substances against a concentration gradient, using energy from respiration.\\n\\n## OSMOSIS\\n- Understand the characteristics shared by living organisms\\n- Describe cell structures and their functions, including the nucleus, cytoplasm, cell membrane, cell wall, mitochondria, chloroplasts, ribosomes and vacuole\\n- Know the similarities and differences in the structures of plant and animal cells\\n- Understand the role of enzymes as biological catalysts in metabolic reactions\\n- Understand how temperature changes can affect enzyme function, including changes to the shape of the active site\\n- Understand how enzyme function can be affected by changes in pH altering the active site\\n- Investigate how enzyme activity can be affected by changes in temperature\\n- Describe the differences between aerobic and anaerobic respiration\\n- Understand how the process of respiration produces ATP in living organisms\\n- Know that ATP provides energy for cells\\n- Know the word equation and balanced chemical symbol equation for aerobic respiration\\n- Know the word equations for anaerobic respiration\\n- Investigate the evolution of carbon dioxide and heat from respiring seeds or other suitable living organisms\\n- Understand the processes of diffusion, osmosis and active transport by which substances move into and out of cells\\n\\ninclude which line from the text file that specify your answer.\""
      ]
     },
     "execution_count": 28,
     "metadata": {},
     "output_type": "execute_result"
    }
   ],
   "source": [
    "llm_prompt"
   ]
  },
  {
   "cell_type": "code",
   "execution_count": 29,
   "metadata": {},
   "outputs": [],
   "source": [
    "model = OllamaLLM(model=\"llama3.1\")"
   ]
  },
  {
   "cell_type": "code",
   "execution_count": 30,
   "metadata": {},
   "outputs": [
    {
     "data": {
      "text/plain": [
       "'Here are 3 QNA pairs to fulfill the learning objective:\\n\\n**Q1:** What provides energy for cells?\\n**A:** ATP (Line 22: \"The energy stored in the ATP molecules can then be used...\")\\n\\n**Q2:** Why is respiration called an oxidation reaction?\\n**A:** Because oxygen is used to break down food molecules. (Line 34: \"Respiration happens in all the cells of our body. Oxygen is used to oxidise food, and carbon dioxide (and water) are released as waste products.\")\\n\\n**Q3:** What process uses energy from respiration to take up substances against a concentration gradient?\\n**A:** Active transport. (Line 43: \"Active transport is the movement of substances against a concentration gradient, using energy from respiration.\")'"
      ]
     },
     "execution_count": 30,
     "metadata": {},
     "output_type": "execute_result"
    }
   ],
   "source": [
    "response = model(llm_prompt, output_parser=StrOutputParser())\n",
    "response\n"
   ]
  },
  {
   "cell_type": "code",
   "execution_count": 31,
   "metadata": {},
   "outputs": [],
   "source": [
    "response = response.lower().strip()"
   ]
  },
  {
   "cell_type": "code",
   "execution_count": 32,
   "metadata": {},
   "outputs": [
    {
     "data": {
      "text/plain": [
       "{1: 'Life Processes',\n",
       " 2: 'The Variety of Living Organisms',\n",
       " 3: 'Breathing and Gas Exchange',\n",
       " 4: 'Food and Digestion',\n",
       " 5: 'Blood and Circulation',\n",
       " 6: 'Coordination',\n",
       " 7: 'Chemical Coordination',\n",
       " 8: 'Homeostasis and Excretion',\n",
       " 9: 'Reproduction in Humans',\n",
       " 10: 'Plants and Food',\n",
       " 11: 'Transport in Plants',\n",
       " 12: 'Chemical Coordination in Plants',\n",
       " 13: 'Reproduction in Plants',\n",
       " 14: 'Ecosystems',\n",
       " 15: 'Human Influences on the Environment',\n",
       " 16: 'Chromosomes, Genes and DNA',\n",
       " 17: 'Cell Division',\n",
       " 18: 'Genes and Inheritance',\n",
       " 19: 'Natural Selection, Evolution and Selective Breeding',\n",
       " 20: 'Using Microorganisms',\n",
       " 21: 'Genetic Modification'}"
      ]
     },
     "execution_count": 32,
     "metadata": {},
     "output_type": "execute_result"
    }
   ],
   "source": [
    "rag.get_chapters_for_subject(\"Biology\")"
   ]
  },
  {
   "cell_type": "code",
   "execution_count": 33,
   "metadata": {},
   "outputs": [
    {
     "data": {
      "text/plain": [
       "['Biology']"
      ]
     },
     "execution_count": 33,
     "metadata": {},
     "output_type": "execute_result"
    }
   ],
   "source": [
    "rag.get_all_subjects()"
   ]
  }
 ],
 "metadata": {
  "kernelspec": {
   "display_name": "fyp_test",
   "language": "python",
   "name": "python3"
  },
  "language_info": {
   "codemirror_mode": {
    "name": "ipython",
    "version": 3
   },
   "file_extension": ".py",
   "mimetype": "text/x-python",
   "name": "python",
   "nbconvert_exporter": "python",
   "pygments_lexer": "ipython3",
   "version": "3.12.6"
  }
 },
 "nbformat": 4,
 "nbformat_minor": 2
}
