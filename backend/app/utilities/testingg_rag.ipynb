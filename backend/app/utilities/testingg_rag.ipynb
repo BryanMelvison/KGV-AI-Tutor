{
 "cells": [
  {
   "cell_type": "code",
   "execution_count": 1,
   "metadata": {},
   "outputs": [],
   "source": [
    "from langchain_ollama import OllamaEmbeddings\n",
    "from langchain_community.vectorstores import Chroma\n",
    "from uuid import uuid4\n",
    "from langchain_core.documents import Document\n",
    "from langchain.text_splitter import RecursiveCharacterTextSplitter\n",
    "from pathlib import Path\n",
    "from rag import textbookRAG"
   ]
  },
  {
   "cell_type": "code",
   "execution_count": 2,
   "metadata": {},
   "outputs": [],
   "source": [
    "from test_metadata import metadata\n"
   ]
  },
  {
   "cell_type": "code",
   "execution_count": 3,
   "metadata": {},
   "outputs": [],
   "source": [
    "book_dir = Path(\"../utilities/book\")"
   ]
  },
  {
   "cell_type": "code",
   "execution_count": 3,
   "metadata": {},
   "outputs": [
    {
     "name": "stderr",
     "output_type": "stream",
     "text": [
      "/Users/bryanmelvison/Code/FYP/KGV-AI-Tutor/backend/app/utilities/rag.py:55: LangChainDeprecationWarning: The class `Chroma` was deprecated in LangChain 0.2.9 and will be removed in 1.0. An updated version of the class exists in the :class:`~langchain-chroma package and should be used instead. To use it run `pip install -U :class:`~langchain-chroma` and import as `from :class:`~langchain_chroma import Chroma``.\n",
      "  self.vector_store = Chroma(\n"
     ]
    },
    {
     "name": "stdout",
     "output_type": "stream",
     "text": [
      "Warning: Chapter file /Users/bryanmelvison/Code/FYP/KGV-AI-Tutor/backend/app/book/chapter_1.txt not found.\n",
      "Warning: Chapter file /Users/bryanmelvison/Code/FYP/KGV-AI-Tutor/backend/app/book/chapter_2.txt not found.\n",
      "Warning: Chapter file /Users/bryanmelvison/Code/FYP/KGV-AI-Tutor/backend/app/book/chapter_3.txt not found.\n",
      "Warning: Chapter file /Users/bryanmelvison/Code/FYP/KGV-AI-Tutor/backend/app/book/chapter_4.txt not found.\n",
      "Warning: Chapter file /Users/bryanmelvison/Code/FYP/KGV-AI-Tutor/backend/app/book/chapter_5.txt not found.\n",
      "Warning: Chapter file /Users/bryanmelvison/Code/FYP/KGV-AI-Tutor/backend/app/book/chapter_6.txt not found.\n",
      "Warning: Chapter file /Users/bryanmelvison/Code/FYP/KGV-AI-Tutor/backend/app/book/chapter_7.txt not found.\n",
      "Warning: Chapter file /Users/bryanmelvison/Code/FYP/KGV-AI-Tutor/backend/app/book/chapter_8.txt not found.\n",
      "Warning: Chapter file /Users/bryanmelvison/Code/FYP/KGV-AI-Tutor/backend/app/book/chapter_9.txt not found.\n",
      "Warning: Chapter file /Users/bryanmelvison/Code/FYP/KGV-AI-Tutor/backend/app/book/chapter_10.txt not found.\n",
      "Warning: Chapter file /Users/bryanmelvison/Code/FYP/KGV-AI-Tutor/backend/app/book/chapter_11.txt not found.\n",
      "Warning: Chapter file /Users/bryanmelvison/Code/FYP/KGV-AI-Tutor/backend/app/book/chapter_12.txt not found.\n",
      "Warning: Chapter file /Users/bryanmelvison/Code/FYP/KGV-AI-Tutor/backend/app/book/chapter_13.txt not found.\n",
      "Warning: Chapter file /Users/bryanmelvison/Code/FYP/KGV-AI-Tutor/backend/app/book/chapter_14.txt not found.\n",
      "Warning: Chapter file /Users/bryanmelvison/Code/FYP/KGV-AI-Tutor/backend/app/book/chapter_15.txt not found.\n",
      "Warning: Chapter file /Users/bryanmelvison/Code/FYP/KGV-AI-Tutor/backend/app/book/chapter_16.txt not found.\n",
      "Warning: Chapter file /Users/bryanmelvison/Code/FYP/KGV-AI-Tutor/backend/app/book/chapter_17.txt not found.\n",
      "Warning: Chapter file /Users/bryanmelvison/Code/FYP/KGV-AI-Tutor/backend/app/book/chapter_18.txt not found.\n",
      "Warning: Chapter file /Users/bryanmelvison/Code/FYP/KGV-AI-Tutor/backend/app/book/chapter_19.txt not found.\n",
      "Warning: Chapter file /Users/bryanmelvison/Code/FYP/KGV-AI-Tutor/backend/app/book/chapter_20.txt not found.\n",
      "Warning: Chapter file /Users/bryanmelvison/Code/FYP/KGV-AI-Tutor/backend/app/book/chapter_21.txt not found.\n",
      "Warning: No documents were created. Vector store not updated.\n"
     ]
    },
    {
     "data": {
      "text/plain": [
       "False"
      ]
     },
     "execution_count": 3,
     "metadata": {},
     "output_type": "execute_result"
    }
   ],
   "source": [
    "rag = textbookRAG(metadata=metadata)\n",
    "rag.extract_from_metadata()"
   ]
  },
  {
   "cell_type": "code",
   "execution_count": 6,
   "metadata": {},
   "outputs": [
    {
     "data": {
      "text/plain": [
       "<rag.textbookRAG at 0x11acc4cb0>"
      ]
     },
     "execution_count": 6,
     "metadata": {},
     "output_type": "execute_result"
    }
   ],
   "source": [
    "rag"
   ]
  },
  {
   "cell_type": "code",
   "execution_count": 8,
   "metadata": {},
   "outputs": [],
   "source": [
    "a = rag.search(\"Can you tell me more about photosynthesis?\", subject = \"Biology\", chapter = 1)"
   ]
  },
  {
   "cell_type": "code",
   "execution_count": 9,
   "metadata": {},
   "outputs": [
    {
     "name": "stdout",
     "output_type": "stream",
     "text": [
      "- **CHARACTERISTICS OF PLANTS:**\n",
      "- MULTICELLULAR STRUCTURE, WITH CELLS CONTAINING CHLOROPLASTS FOR PHOTOSYNTHESIS.\n",
      "- PHOTOSYNTHESIS CONVERTS WATER AND CARBON DIOXIDE INTO ORGANIC COMPOUNDS LIKE STARCH AND SUCROSE.\n",
      "\n",
      "#### FIGURE 2.1\n",
      "- (A) A PEA PLANT: LEAVES AND STEM CELLS CONTAIN CHLOROPLASTS, GIVING THEM THEIR GREEN COLOR. WHITE FLOWERS ARE POLLINATED BY INSECTS.\n",
      "- (B) MAIZE PLANTS ARE POLLINATED BY WIND; MALE FLOWERS PRODUCE POLLEN.\n",
      "- (C) FEMALE MAIZE FLOWERS PRODUCE SEEDS AFTER POLLINATION.\n",
      "\n",
      "THE STRUCTURE AND FUNCTION OF FLOWERING PLANTS WILL BE EXPLORED IN UNIT 3.\n",
      "\n",
      "## CONCLUSION\n",
      "UNDERSTANDING ORGANISM CLASSIFICATION APPRECIATES LIFE'S COMPLEXITY. EACH GROUP PLAYS A ROLE IN ECOSYSTEMS, AIDING EFFECTIVE STUDY THROUGH RECOGNITION OF THEIR FEATURES.\n",
      "### CHLOROPLASTS\n",
      "\n",
      "CHLOROPLASTS ARE UNIQUE TO PLANT CELLS AND ARE ESSENTIAL FOR PHOTOSYNTHESIS. THESE ORGANELLES CONTAIN CHLOROPHYLL, THE PIGMENT NECESSARY FOR ABSORBING LIGHT ENERGY, WHICH IS THEN CONVERTED INTO CHEMICAL ENERGY THROUGH PHOTOPHOSPHORYLATION. THIS PROCESS ENABLES PLANTS TO SYNTHESIZE THEIR OWN FOOD IN AREAS LIKE LEAVES, WHERE THESE STRUCTURES ARE MOST ABUNDANT.\n",
      "\n",
      "### KEY POINT\n",
      "\n",
      "ALL CELLS SHARE FUNDAMENTAL ORGANELLES SUCH AS CYTOPLASM, NUCLEUS, CELL MEMBRANE, AND MITOCHONDRIA. PLANT CELLS FURTHER DISTINGUISH THEMSELVES WITH A CELL WALL, PERMANENT VACUOLE, AND CHLOROPLASTS. THE PRESENCE OF CHLOROPLASTS SPECIFICALLY IN PLANT CELLS ENABLES PHOTOSYNTHESIS, A PROCESS CRUCIAL FOR THEIR SURVIVAL IN ENVIRONMENTS WHERE SUNLIGHT IS AVAILABLE.\n",
      "\n",
      "# ORGANISMS AND LIFE PROCESSES\n",
      "\n",
      "## LIFE PROCESSES\n",
      "**NUTRITION**: PLANTS PRODUCE THEIR OWN FOOD THROUGH PHOTOSYNTHESIS, WHILE ANIMALS OBTAIN ENERGY BY CONSUMING OTHER ORGANISMS.\n",
      "\n",
      "**RESPIRATION**: ORGANISMS RELEASE ENERGY FROM THEIR FOOD THROUGH A PROCESS THAT CONVERTS CHEMICAL ENERGY INTO ATP.\n",
      "\n",
      "**EXCRETION**: THE ELIMINATION OF WASTE PRODUCTS IS CRUCIAL FOR MAINTAINING INTERNAL STABILITY IN ORGANISMS.\n",
      "\n",
      "**RESPONSE TO STIMULI**: ORGANISMS DETECT AND REACT TO CHANGES IN THEIR ENVIRONMENT, ENSURING SURVIVAL AND ADAPTATION.\n",
      "\n",
      "**MOVEMENT**: ANIMALS MOVE USING MUSCLES, WHILE PLANTS EXHIBIT SLOW GROWTH MOVEMENTS THROUGH ELONGATION OF CELLS.\n",
      "\n",
      "**CONTROL OF INTERNAL CONDITIONS**: ORGANISMS MAINTAIN A STABLE INTERNAL ENVIRONMENT THROUGH HOMEOSTATIC MECHANISMS.\n",
      "\n",
      "**REPRODUCTION**: THE ABILITY TO PRODUCE OFFSPRING IS ESSENTIAL FOR THE CONTINUATION OF SPECIES.\n",
      "\n",
      "**GROWTH AND DEVELOPMENT**: ORGANISMS INCREASE IN SIZE AND COMPLEXITY BY UTILIZING MATERIALS FROM THEIR FOOD, FOLLOWING SPECIFIC GROWTH PATTERNS DETERMINED BY GENETICS AND ENVIRONMENT.\n",
      "#### ENZYMES\n",
      "ENZYMES ACT AS BIOLOGICAL CATALYSTS, ACCELERATING METABOLIC REACTIONS. THEIR ACTIVITY CAN BE INFLUENCED BY TEMPERATURE AND PH, WHICH AFFECT THEIR SHAPE AND FUNCTION.\n",
      "\n",
      "#### RESPIRATION\n",
      "RESPIRATION IS THE PROCESS BY WHICH ORGANISMS CONVERT FOOD INTO ENERGY. THIS OCCURS THROUGH AEROBIC OR ANAEROBIC PATHWAYS, WITH AEROBIC RESPIRATION INVOLVING THE BREAKDOWN OF GLUCOSE IN MITOCHONDRIA TO PRODUCE ATP, WHILE ANAEROBIC RESPIRATION FUNCTIONS WITHOUT OXYGEN, PRODUCING LACTIC ACID OR ETHANOL AS BYPRODUCTS.\n",
      "\n",
      "### VISUAL REFERENCE\n",
      "THE FIGURE PROVIDED ILLUSTRATES EXAMPLES OF SIMPLE ORGANISMS COMPOSED OF SINGLE CELLS, SUCH AS BACTERIA AND PROTOZOA. THIS VISUAL AIDS IN UNDERSTANDING THE FUNDAMENTAL ORGANIZATION OF LIFE AT THE CELLULAR LEVEL.\n",
      "\n",
      "# ORGANISMS AND LIFE PROCESSES\n",
      "\n",
      "LIVING ORGANISMS EXHIBIT EIGHT ESSENTIAL LIFE PROCESSES. THESE PROCESSES ARE FUNDAMENTAL TO THE FUNCTIONING OF ALL LIVING CREATURES.\n",
      "# ORGANISMS AND LIFE PROCESSES\n",
      "\n",
      "## LIFE PROCESSES\n",
      "\n",
      "### CELLS UNDER THE MICROSCOPE\n",
      "THE FIGURE ILLUSTRATES ANIMAL AND PLANT CELLS OBSERVED UNDER A LIGHT MICROSCOPE. THE HUMAN CHEEK LINING CELLS MEASURE 10 ΜM, WHILE LEAF PHOTOSYNTHETIC TISSUE CELLS ARE LARGER AT 25 ΜM.\n",
      "\n",
      "---\n",
      "\n",
      "## ENZYMES: CONTROLLING REACTIONS IN THE CELL\n",
      "\n",
      "### KEY POINT\n",
      "METABOLIC REACTIONS WITHIN A CELL INVOLVE CHEMICAL PROCESSES REGULATED BY ENZYMES. THE COLLECTIVE TERM FOR THESE REACTIONS IS CELLULAR METABOLISM.\n",
      "\n",
      "### WHAT ARE ENZYMES?\n",
      "ENZYMES ARE BIOLOGICAL CATALYSTS, PROTEINS THAT ACCELERATE SPECIFIC CHEMICAL REACTIONS WITHOUT BEING CONSUMED. EACH ENZYME CATALYZES A UNIQUE REACTION, ENABLING PRECISE CONTROL OF CELLULAR ACTIVITIES. THESE ENZYMES ARE PRODUCED IN THE NUCLEUS THROUGH GENE REGULATION AND FUNCTION PRIMARILY IN THE CYTOPLASM.\n"
     ]
    }
   ],
   "source": [
    "print(a)"
   ]
  },
  {
   "cell_type": "code",
   "execution_count": 7,
   "metadata": {},
   "outputs": [
    {
     "data": {
      "text/plain": [
       "{1: 'Life Processes',\n",
       " 2: 'The Variety of Living Organisms',\n",
       " 3: 'Breathing and Gas Exchange',\n",
       " 4: 'Food and Digestion',\n",
       " 5: 'Blood and Circulation',\n",
       " 6: 'Coordination',\n",
       " 7: 'Chemical Coordination',\n",
       " 8: 'Homeostasis and Excretion',\n",
       " 9: 'Reproduction in Humans',\n",
       " 10: 'Plants and Food',\n",
       " 11: 'Transport in Plants',\n",
       " 12: 'Chemical Coordination in Plants',\n",
       " 13: 'Reproduction in Plants',\n",
       " 14: 'Ecosystems',\n",
       " 15: 'Human Influences on the Environment',\n",
       " 16: 'Chromosomes, Genes and DNA',\n",
       " 17: 'Cell Division',\n",
       " 18: 'Genes and Inheritance',\n",
       " 19: 'Natural Selection, Evolution and Selective Breeding',\n",
       " 20: 'Using Microorganisms',\n",
       " 21: 'Genetic Modification'}"
      ]
     },
     "execution_count": 7,
     "metadata": {},
     "output_type": "execute_result"
    }
   ],
   "source": [
    "rag.get_chapters_for_subject(\"Biology\")"
   ]
  },
  {
   "cell_type": "code",
   "execution_count": 8,
   "metadata": {},
   "outputs": [
    {
     "data": {
      "text/plain": [
       "['Biology']"
      ]
     },
     "execution_count": 8,
     "metadata": {},
     "output_type": "execute_result"
    }
   ],
   "source": [
    "rag.get_all_subjects()"
   ]
  }
 ],
 "metadata": {
  "kernelspec": {
   "display_name": "fyp_test",
   "language": "python",
   "name": "python3"
  },
  "language_info": {
   "codemirror_mode": {
    "name": "ipython",
    "version": 3
   },
   "file_extension": ".py",
   "mimetype": "text/x-python",
   "name": "python",
   "nbconvert_exporter": "python",
   "pygments_lexer": "ipython3",
   "version": "3.12.6"
  }
 },
 "nbformat": 4,
 "nbformat_minor": 2
}
