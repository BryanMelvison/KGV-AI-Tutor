{
 "cells": [
  {
   "cell_type": "code",
   "execution_count": 1,
   "metadata": {},
   "outputs": [],
   "source": [
    "from langchain_ollama import OllamaEmbeddings\n",
    "from langchain_community.vectorstores import Chroma\n",
    "from uuid import uuid4\n",
    "from langchain_core.documents import Document\n",
    "from langchain.text_splitter import RecursiveCharacterTextSplitter\n",
    "from pathlib import Path\n",
    "from rag import textbookRAG"
   ]
  },
  {
   "cell_type": "code",
   "execution_count": 2,
   "metadata": {},
   "outputs": [],
   "source": [
    "import sys\n",
    "sys.path.append('..')"
   ]
  },
  {
   "cell_type": "code",
   "execution_count": 3,
   "metadata": {},
   "outputs": [],
   "source": [
    "from parser.testiii import metadata\n"
   ]
  },
  {
   "cell_type": "code",
   "execution_count": 4,
   "metadata": {},
   "outputs": [
    {
     "name": "stderr",
     "output_type": "stream",
     "text": [
      "/Users/bryanmelvison/Code/FYP/KGV-AI-Tutor/backend/app/utilities/contentDatabase/rag.py:51: LangChainDeprecationWarning: The class `Chroma` was deprecated in LangChain 0.2.9 and will be removed in 1.0. An updated version of the class exists in the :class:`~langchain-chroma package and should be used instead. To use it run `pip install -U :class:`~langchain-chroma` and import as `from :class:`~langchain_chroma import Chroma``.\n",
      "  self.vector_store = Chroma(\n"
     ]
    }
   ],
   "source": [
    "rag = textbookRAG(metadata=metadata)\n",
    "# rag.extract_from_metadata()"
   ]
  },
  {
   "cell_type": "code",
   "execution_count": 5,
   "metadata": {},
   "outputs": [],
   "source": [
    "a = rag.search(\"Can you tell me more about photosynthesis?\", subject = \"Biology\", chapter = 1)"
   ]
  },
  {
   "cell_type": "code",
   "execution_count": null,
   "metadata": {},
   "outputs": [],
   "source": [
    "print(a)"
   ]
  },
  {
   "cell_type": "code",
   "execution_count": 7,
   "metadata": {},
   "outputs": [
    {
     "data": {
      "text/plain": [
       "{1: 'Life Processes',\n",
       " 2: 'The Variety of Living Organisms',\n",
       " 3: 'Breathing and Gas Exchange',\n",
       " 4: 'Food and Digestion',\n",
       " 5: 'Blood and Circulation',\n",
       " 6: 'Coordination',\n",
       " 7: 'Chemical Coordination',\n",
       " 8: 'Homeostasis and Excretion',\n",
       " 9: 'Reproduction in Humans',\n",
       " 10: 'Plants and Food',\n",
       " 11: 'Transport in Plants',\n",
       " 12: 'Chemical Coordination in Plants',\n",
       " 13: 'Reproduction in Plants',\n",
       " 14: 'Ecosystems',\n",
       " 15: 'Human Influences on the Environment',\n",
       " 16: 'Chromosomes, Genes and DNA',\n",
       " 17: 'Cell Division',\n",
       " 18: 'Genes and Inheritance',\n",
       " 19: 'Natural Selection, Evolution and Selective Breeding',\n",
       " 20: 'Using Microorganisms',\n",
       " 21: 'Genetic Modification'}"
      ]
     },
     "execution_count": 7,
     "metadata": {},
     "output_type": "execute_result"
    }
   ],
   "source": [
    "rag.get_chapters_for_subject(\"Biology\")"
   ]
  },
  {
   "cell_type": "code",
   "execution_count": 8,
   "metadata": {},
   "outputs": [
    {
     "data": {
      "text/plain": [
       "['Biology']"
      ]
     },
     "execution_count": 8,
     "metadata": {},
     "output_type": "execute_result"
    }
   ],
   "source": [
    "rag.get_all_subjects()"
   ]
  }
 ],
 "metadata": {
  "kernelspec": {
   "display_name": "fyp_test",
   "language": "python",
   "name": "python3"
  },
  "language_info": {
   "codemirror_mode": {
    "name": "ipython",
    "version": 3
   },
   "file_extension": ".py",
   "mimetype": "text/x-python",
   "name": "python",
   "nbconvert_exporter": "python",
   "pygments_lexer": "ipython3",
   "version": "3.12.6"
  }
 },
 "nbformat": 4,
 "nbformat_minor": 2
}
