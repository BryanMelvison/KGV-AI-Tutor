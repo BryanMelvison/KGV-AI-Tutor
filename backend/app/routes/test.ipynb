{
 "cells": [
  {
   "cell_type": "code",
   "execution_count": 1,
   "metadata": {},
   "outputs": [],
   "source": [
    "from pathlib import Path\n",
    "filename = \"images/1.png\"\n",
    "file_extension = Path(filename).suffix.lower()\n"
   ]
  },
  {
   "cell_type": "code",
   "execution_count": 2,
   "metadata": {},
   "outputs": [
    {
     "data": {
      "text/plain": [
       "'.png'"
      ]
     },
     "execution_count": 2,
     "metadata": {},
     "output_type": "execute_result"
    }
   ],
   "source": [
    "file_extension"
   ]
  },
  {
   "cell_type": "code",
   "execution_count": 9,
   "metadata": {},
   "outputs": [
    {
     "name": "stdout",
     "output_type": "stream",
     "text": [
      "Elapsed time is 0.46234631538391113 seconds. \n",
      "\n",
      "{'message': 'Successfully uploaded file', 'filename': 'test.pdf', 'path': '/Users/bryanmelvison/Code/FYP/KGV-AI-Tutor/backend/app/uploaded_files/93e86cff-b295-444d-a087-43f5487cc76b/test.pdf', 'id': '93e86cff-b295-444d-a087-43f5487cc76b'}\n"
     ]
    }
   ],
   "source": [
    "import requests\n",
    "import time\n",
    "import os\n",
    "\n",
    "url = 'http://127.0.0.1:8000/upload'\n",
    "file_path = '/Users/bryanmelvison/Code/FYP/KGV-AI-Tutor/backend/app/routes/test.pdf'\n",
    "headers = {'filename': file_path}\n",
    "\n",
    "start = time.time()\n",
    "\n",
    "with open(file_path, \"rb\") as f:\n",
    "    r = requests.post(url=url, data=f, headers=headers)\n",
    "   \n",
    "end = time.time() - start\n",
    "\n",
    "print(f'Elapsed time is {end} seconds.', '\\n')\n",
    "print(r.json())"
   ]
  },
  {
   "cell_type": "code",
   "execution_count": null,
   "metadata": {},
   "outputs": [],
   "source": []
  }
 ],
 "metadata": {
  "kernelspec": {
   "display_name": "fyp_test",
   "language": "python",
   "name": "fyp_test"
  },
  "language_info": {
   "codemirror_mode": {
    "name": "ipython",
    "version": 3
   },
   "file_extension": ".py",
   "mimetype": "text/x-python",
   "name": "python",
   "nbconvert_exporter": "python",
   "pygments_lexer": "ipython3",
   "version": "3.12.6"
  }
 },
 "nbformat": 4,
 "nbformat_minor": 2
}
