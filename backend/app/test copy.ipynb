{
 "cells": [
  {
   "cell_type": "markdown",
   "metadata": {},
   "source": [
    "## FOR ALICIA: RUN DARI SINI"
   ]
  },
  {
   "cell_type": "code",
   "execution_count": 9,
   "metadata": {},
   "outputs": [],
   "source": [
    "from typing import List\n",
    "from typing import Optional\n",
    "from sqlalchemy import ForeignKey, Integer, DateTime, String, Uuid, Enum, text, Boolean, ARRAY, Column, Text\n",
    "from sqlalchemy.orm import DeclarativeBase, Mapped, mapped_column, relationship\n",
    "import uuid\n",
    "from enum import Enum as PyEnum  \n",
    "from sqlalchemy import Column, Integer, String, ForeignKey, DateTime, Text, ARRAY, Boolean, func, UniqueConstraint\n",
    "from sqlalchemy.dialects.postgresql import JSONB\n",
    "from sqlalchemy.orm import relationship\n",
    "from datetime import datetime\n",
    "from typing import List\n",
    "from typing import Optional\n",
    "from sqlalchemy import ForeignKey, Integer, DateTime, String, Uuid, Enum, Boolean, ARRAY\n",
    "from sqlalchemy.orm import Mapped, mapped_column, relationship\n",
    "import uuid\n",
    "from enum import Enum as PyEnum  "
   ]
  },
  {
   "cell_type": "code",
   "execution_count": 10,
   "metadata": {},
   "outputs": [
    {
     "name": "stderr",
     "output_type": "stream",
     "text": [
      "/var/folders/ky/ktpdh2wd3wl2_1l1p1xsb33h0000gn/T/ipykernel_6212/3424259238.py:6: MovedIn20Warning: The ``declarative_base()`` function is now available as sqlalchemy.orm.declarative_base(). (deprecated since: 2.0) (Background on SQLAlchemy 2.0 at: https://sqlalche.me/e/b8d9)\n",
      "  Base = declarative_base()\n"
     ]
    }
   ],
   "source": [
    "from sqlalchemy import create_engine\n",
    "from sqlalchemy.ext.declarative import declarative_base\n",
    "from sqlalchemy.orm import sessionmaker\n",
    "\n",
    "\n",
    "Base = declarative_base() "
   ]
  },
  {
   "cell_type": "code",
   "execution_count": 11,
   "metadata": {},
   "outputs": [],
   "source": [
    "class Syllabus(Base):\n",
    "    __tablename__ = 'syllabus'\n",
    "\n",
    "    id = Column(Integer, primary_key=True, autoincrement=True)\n",
    "    topic_id = Column(Integer, nullable=False)\n",
    "    topic_name = Column(String(255), nullable=False)\n",
    "    subtopic_id = Column(String(1))\n",
    "    subtopic_name = Column(String(255))\n",
    "    subtopic_category = Column(String(100))\n",
    "    statement_code = Column(String(10), nullable=False)\n",
    "    statement_text = Column(Text, nullable=False)\n",
    "    \n",
    "class LearningObjective(Base):\n",
    "    __tablename__ = 'learning_objectives'\n",
    "    \n",
    "    id = Column(Integer, primary_key=True, autoincrement=True)\n",
    "    chapter = Column(Integer, nullable=False)\n",
    "    learning_objective_text = Column(Text, nullable=False)\n",
    "    syllabus_tags = Column(ARRAY(String), nullable=True)\n",
    "    syllabus_ids = Column(ARRAY(Integer), nullable=False)\n",
    "\n",
    "    question_answers = relationship(\"QuestionAnswer\", back_populates=\"learning_objective\")\n",
    "    mastery_statuses = relationship(\"StudentLearningObjectiveMastery\", back_populates=\"learning_objective\")\n",
    "    exercises = relationship(\"Exercise\", back_populates=\"learning_objective\")\n",
    "\n",
    "class QuestionAnswer(Base):\n",
    "    __tablename__ = 'question_answers'\n",
    "\n",
    "    id = Column(Integer, primary_key=True, autoincrement=True)\n",
    "    learning_objective_id = Column(Integer, ForeignKey('learning_objectives.id'), nullable=False)\n",
    "    exercise_id = Column(Integer, ForeignKey(\"exercises.id\"), nullable=False)\n",
    "    question_text = Column(String, nullable=False)\n",
    "    answer_text = Column(String, nullable=False)\n",
    "    source_text = Column(String, nullable=False)\n",
    "    rating_score = Column(Integer, default=0)\n",
    "    evaluation_notes = Column(String, default=\"Not evaluated\")\n",
    "    mcq_answer = Column(JSONB)\n",
    "\n",
    "    learning_objective = relationship(\"LearningObjective\", back_populates=\"question_answers\")\n",
    "    exercise = relationship(\"Exercise\", back_populates=\"qna_pairs\")\n",
    "\n",
    "class Exercise(Base):\n",
    "    __tablename__ = \"exercises\"\n",
    "\n",
    "    id = Column(Integer, primary_key=True, autoincrement=True)\n",
    "    chapter_id = Column(Integer, ForeignKey(\"chapters.id\"), nullable=False)\n",
    "    learning_objective_id = Column(Integer, ForeignKey(\"learning_objectives.id\"), nullable=False)\n",
    "    subject_name = Column(String(50), nullable=False)\n",
    "    exercise_letter = Column(String(10), nullable=False)\n",
    "    secret_letter = Column(String(1), nullable=False)\n",
    "\n",
    "    # Composite unique constraint on (chapter_id, exercise_letter)\n",
    "    __table_args__ = (\n",
    "        UniqueConstraint('chapter_id', 'exercise_letter', name='uq_chapter_exercise_letter'),\n",
    "    )\n",
    "\n",
    "    learning_objective = relationship(\"LearningObjective\", back_populates=\"exercises\")\n",
    "    chapter = relationship(\"Chapters\", back_populates=\"exercises\")\n",
    "    qna_pairs = relationship(\"QuestionAnswer\", back_populates=\"exercise\")\n",
    "    attempts = relationship(\"StudentExerciseAttempt\", back_populates=\"exercise\")\n",
    "\n",
    "class StudentLearningObjectiveMastery(Base):\n",
    "    __tablename__ = \"student_learning_objective_mastery\"\n",
    "\n",
    "    id = Column(Integer, ForeignKey(\"users.id\"), primary_key=True)\n",
    "    learning_objective_id = Column(Integer, ForeignKey(\"learning_objectives.id\"), primary_key=True)\n",
    "    is_mastered = Column(Boolean, default=False, nullable=False)\n",
    "\n",
    "    student = relationship(\"Users\", back_populates=\"mastery_statuses\")\n",
    "    learning_objective = relationship(\"LearningObjective\", back_populates=\"mastery_statuses\")\n",
    "\n",
    "class StudentExerciseAttempt(Base):\n",
    "    __tablename__ = \"student_exercise_attempts\"\n",
    "\n",
    "    id = Column(Integer, primary_key=True, autoincrement=True)\n",
    "    student_id = Column(Integer, ForeignKey(\"users.id\"), nullable=False)\n",
    "    exercise_id = Column(Integer, ForeignKey(\"exercises.id\"), nullable=False)\n",
    "    correct_question = Column(Integer, nullable=False)\n",
    "    attempt_date = Column(DateTime, server_default=func.now(), nullable=False)\n",
    "    is_successful = Column(Boolean, default=False, nullable=False)\n",
    "\n",
    "    student = relationship(\"Users\", back_populates=\"attempts\")\n",
    "    exercise = relationship(\"Exercise\", back_populates=\"attempts\")\n",
    "\n",
    "\n",
    "# Define enums using Python's Enum\n",
    "class senderType(PyEnum):\n",
    "    USER = \"user\"\n",
    "    CHATBOT = \"chatbot\"\n",
    "\n",
    "class Role(PyEnum):\n",
    "    ADMIN = \"admin\"\n",
    "    STUDENT = \"student\"\n",
    "    TEACHER = \"teacher\"\n",
    "\n",
    "class Roles(Base):\n",
    "    __tablename__ = 'roles'\n",
    "\n",
    "    id: Mapped[int] = mapped_column(primary_key=True)\n",
    "    roleName: Mapped[\"Role\"] = mapped_column(Enum(Role), nullable=False)\n",
    "\n",
    "    # This is a one-to-many relationship between roles and users\n",
    "    user_roles: Mapped[List[\"Users\"]] = relationship(back_populates=\"role\")\n",
    "\n",
    "class Users(Base):\n",
    "    __tablename__ = 'users'\n",
    "\n",
    "    id: Mapped[int] = mapped_column(primary_key=True)\n",
    "    displayName: Mapped[str] = mapped_column(String(50), nullable=False)\n",
    "    email: Mapped[str] = mapped_column(String(50), nullable=False)\n",
    "    password: Mapped[str] = mapped_column(String(60), nullable=False)\n",
    "    roleId: Mapped[int] = mapped_column(ForeignKey(\"roles.id\"), nullable=False)\n",
    "\n",
    "    # This is a many-to-one relationship between users and roles\n",
    "    role: Mapped[\"Roles\"] = relationship(back_populates=\"user_roles\")\n",
    "\n",
    "    # This is a one-to-many relationship between users and teacherSubjects\n",
    "    teacher_subjects: Mapped[List[\"teacherSubjects\"]] = relationship(back_populates=\"teacher\")\n",
    "\n",
    "    # This is a one-to-many relationship between users and studentSubjects\n",
    "    student_subjects: Mapped[List[\"studentSubjects\"]] = relationship(back_populates=\"student\")\n",
    "\n",
    "    # This is a one-to-many relationship between users and chatSessions\n",
    "    chat_sessions: Mapped[List[\"ChatSessions\"]] = relationship(back_populates=\"user\")\n",
    "\n",
    "    # This is a one-to-one relationship between users and firstTimeLogin\n",
    "    first_time_login: Mapped[\"FirstTimeLogin\"] = relationship(back_populates=\"user\", uselist=False)\n",
    "\n",
    "    # This is a one-to-one relationship between users and personalityUser\n",
    "    personality_user: Mapped[\"PersonalityUser\"] = relationship(back_populates=\"user\", uselist=False)\n",
    "\n",
    "\n",
    "    attempts = relationship(\"StudentExerciseAttempt\", back_populates=\"student\")\n",
    "    mastery_statuses = relationship(\"StudentLearningObjectiveMastery\", back_populates=\"student\")\n",
    "\n",
    "class teacherSubjects(Base):\n",
    "    __tablename__ = 'teacherSubjects'\n",
    "\n",
    "    # No primary key, but a composite key of teacherId and subjectId\n",
    "    # This is a one-to-many relationship between users and teacherSubjects, and many-to-one relaitonshpip between subjects and teacherSubjects\n",
    "    teacherId: Mapped[int] = mapped_column(ForeignKey(\"users.id\"), primary_key=True)\n",
    "    subjectId: Mapped[int] = mapped_column(ForeignKey(\"subjects.id\"), primary_key=True)\n",
    "    assignedDate: Mapped[DateTime] = mapped_column(DateTime, nullable=False)\n",
    "\n",
    "    # This is a many-to-one relationship between teacherSubjects and users\n",
    "    teacher: Mapped[\"Users\"] = relationship(back_populates=\"teacher_subjects\")\n",
    "\n",
    "    # This is a many-to-one relationship between teacherSubjects and subjects\n",
    "    subject: Mapped[\"Subjects\"] = relationship(back_populates=\"subjects\")\n",
    "\n",
    "\n",
    "class Subjects(Base):\n",
    "    __tablename__ = 'subjects'\n",
    "    id: Mapped[int] = mapped_column(primary_key=True)\n",
    "    subjectName: Mapped[str] = mapped_column(String(50), nullable=False)\n",
    "    totalChapters: Mapped[int] = mapped_column(Integer, nullable=False)\n",
    "    \n",
    "    # This is a one-to-many relationship between subjects and teacherSubjects\n",
    "    subjects: Mapped[List[\"teacherSubjects\"]] = relationship(back_populates=\"subject\")\n",
    "\n",
    "    # This is a one-to-many relationship between subjects and studentSubjects\n",
    "    student_subjects: Mapped[List[\"studentSubjects\"]] = relationship(back_populates=\"subject\")\n",
    "\n",
    "    # This is a one-to-many relationship between subjects and chapters\n",
    "    chapters: Mapped[List[\"Chapters\"]] = relationship(back_populates=\"subject\")\n",
    "\n",
    "    # This is a one-to-many relationship between subjects and chatSessions\n",
    "    chat_sessions: Mapped[List[\"ChatSessions\"]] = relationship(back_populates=\"subject\")\n",
    "\n",
    "class studentSubjects(Base):\n",
    "    __tablename__ = 'studentSubjects'\n",
    "    # No primary key, but a composite key of studentId and subjectId\n",
    "    studentId: Mapped[int] = mapped_column(ForeignKey(\"users.id\"), primary_key=True)\n",
    "    subjectId: Mapped[int] = mapped_column(ForeignKey(\"subjects.id\"), primary_key=True)\n",
    "    assignedDate: Mapped[DateTime] = mapped_column(DateTime, nullable=False)\n",
    "    studentSubjectGrade: Mapped[Optional[int]] = mapped_column(Integer, nullable=True)\n",
    "\n",
    "    # This is a many-to-one relationship between studentSubjects and users\n",
    "    subject: Mapped[\"Subjects\"] = relationship(back_populates=\"student_subjects\")\n",
    "\n",
    "    # This is a many-to-one relationship between studentSubjects and users\n",
    "    student: Mapped[\"Users\"] = relationship(back_populates=\"student_subjects\")\n",
    "\n",
    "\n",
    "class Chapters(Base):\n",
    "    __tablename__ = 'chapters'\n",
    "    id: Mapped[int] = mapped_column(primary_key=True)\n",
    "    subjectId: Mapped[int] = mapped_column(ForeignKey(\"subjects.id\"), nullable=False)\n",
    "    chapterNumber: Mapped[int] = mapped_column(Integer, nullable=False)\n",
    "    chapterName: Mapped[str] = mapped_column(String(50), nullable=False)\n",
    "\n",
    "    # This is a many-to-one relationship between chapters and subjects\n",
    "    subject: Mapped[\"Subjects\"] = relationship(back_populates=\"chapters\")\n",
    "\n",
    "    # This is a one-to-many relationship between chapters and chatSessions\n",
    "    chat_sessions: Mapped[List[\"ChatSessions\"]] = relationship(back_populates=\"chapter\")\n",
    "\n",
    "    exercises = relationship(\"Exercise\", back_populates=\"chapter\")\n",
    "\n",
    "class ChatSessions(Base):\n",
    "    __tablename__ = 'chatSessions'\n",
    "    id: Mapped[uuid.UUID] = mapped_column(Uuid(), primary_key=True, default=uuid.uuid4)\n",
    "    userId: Mapped[int] = mapped_column(ForeignKey(\"users.id\"), nullable=False)\n",
    "    chapterId: Mapped[int] = mapped_column(ForeignKey(\"chapters.id\"), nullable=False)\n",
    "    subjectId: Mapped[int] = mapped_column(ForeignKey(\"subjects.id\"), nullable=False)\n",
    "    startTimestamp: Mapped[DateTime] = mapped_column(DateTime, nullable=False)\n",
    "    endTimestamp: Mapped[DateTime] = mapped_column(DateTime, nullable=False)\n",
    "    chatSessionTitle: Mapped[str] = mapped_column(String(100), nullable=False)\n",
    "\n",
    "    # This is a many-to-one relationship between chatSessions and users\n",
    "    user: Mapped[\"Users\"] = relationship(back_populates=\"chat_sessions\")\n",
    "    # This is a many-to-one relationship between chatSessions and chapters\n",
    "    chapter: Mapped[\"Chapters\"] = relationship(back_populates=\"chat_sessions\")\n",
    "    # This is a many-to-one relationship between chatSessions and subjects\n",
    "    subject: Mapped[\"Subjects\"] = relationship(back_populates=\"chat_sessions\") \n",
    "    # This is a one-to-many relationship between chatSessions and chatMessages\n",
    "    messages: Mapped[List[\"chatMessage\"]] = relationship(back_populates=\"chatSession\")\n",
    "\n",
    "\n",
    "class chatMessage(Base):\n",
    "    __tablename__ = 'chatMessages'\n",
    "    id: Mapped[uuid.UUID] = mapped_column(Uuid(), primary_key=True, default=uuid.uuid4)\n",
    "    sessionId: Mapped[uuid.UUID] = mapped_column(ForeignKey(\"chatSessions.id\"), nullable=False)\n",
    "    # Since we know each session is associated with a user, we can use the userId from the session, so for senderType we use Enum \n",
    "    # to determine if the sender is a teacher or student\n",
    "    senderType: Mapped[\"senderType\"] = mapped_column(Enum(senderType), nullable=False)\n",
    "\n",
    "    message: Mapped[str] = mapped_column(String(5000), nullable=False)\n",
    "    timestamp: Mapped[DateTime] = mapped_column(DateTime, nullable=False)\n",
    "    # This is a many-to-one relationship between chatMessages and chatSessions\n",
    "    chatSession: Mapped[\"ChatSessions\"] = relationship(back_populates=\"messages\")\n",
    "\n",
    "\n",
    "\n",
    "class FirstTimeLogin(Base):\n",
    "    __tablename__ = 'firsttimelogin'\n",
    "\n",
    "    userId: Mapped[int] = mapped_column(ForeignKey(\"users.id\"), primary_key=True)\n",
    "    firstTimeLogin: Mapped[bool] = mapped_column(Boolean, nullable=False)\n",
    "\n",
    "    # This is a one-to-one relationship between users and firstTimeLogin\n",
    "    user: Mapped[\"Users\"] = relationship(back_populates=\"first_time_login\")\n",
    "\n",
    "\n",
    "class PersonalityUser(Base):\n",
    "    __tablename__ = 'personalityUser'\n",
    "\n",
    "    userId: Mapped[int] = mapped_column(ForeignKey(\"users.id\"), primary_key=True)\n",
    "    # Personality type is a list of strings, so we can use a list representation\n",
    "    personalityType: Mapped[List[str]] = mapped_column(String(1000), nullable=False)\n",
    "\n",
    "\n",
    "    # This is a one-to-one relationship between users and personalityUser\n",
    "    user: Mapped[\"Users\"] = relationship(back_populates=\"personality_user\")\n"
   ]
  },
  {
   "cell_type": "markdown",
   "metadata": {},
   "source": [
    "# Pipeline"
   ]
  },
  {
   "cell_type": "code",
   "execution_count": 12,
   "metadata": {},
   "outputs": [],
   "source": [
    "from dotenv import load_dotenv\n",
    "load_dotenv()\n",
    "import os"
   ]
  },
  {
   "cell_type": "code",
   "execution_count": 13,
   "metadata": {},
   "outputs": [],
   "source": [
    "url = os.getenv('DB_URL')"
   ]
  },
  {
   "cell_type": "code",
   "execution_count": 14,
   "metadata": {},
   "outputs": [],
   "source": [
    "engine = create_engine(url, echo=True)"
   ]
  },
  {
   "cell_type": "code",
   "execution_count": 15,
   "metadata": {},
   "outputs": [
    {
     "name": "stdout",
     "output_type": "stream",
     "text": [
      "2025-04-22 17:07:43,298 INFO sqlalchemy.engine.Engine select pg_catalog.version()\n",
      "2025-04-22 17:07:43,298 INFO sqlalchemy.engine.Engine [raw sql] {}\n",
      "2025-04-22 17:07:43,299 INFO sqlalchemy.engine.Engine select current_schema()\n",
      "2025-04-22 17:07:43,300 INFO sqlalchemy.engine.Engine [raw sql] {}\n",
      "2025-04-22 17:07:43,301 INFO sqlalchemy.engine.Engine show standard_conforming_strings\n",
      "2025-04-22 17:07:43,301 INFO sqlalchemy.engine.Engine [raw sql] {}\n",
      "2025-04-22 17:07:43,302 INFO sqlalchemy.engine.Engine BEGIN (implicit)\n",
      "2025-04-22 17:07:43,305 INFO sqlalchemy.engine.Engine SELECT pg_catalog.pg_class.relname \n",
      "FROM pg_catalog.pg_class JOIN pg_catalog.pg_namespace ON pg_catalog.pg_namespace.oid = pg_catalog.pg_class.relnamespace \n",
      "WHERE pg_catalog.pg_class.relname = %(table_name)s AND pg_catalog.pg_class.relkind = ANY (ARRAY[%(param_1)s, %(param_2)s, %(param_3)s, %(param_4)s, %(param_5)s]) AND pg_catalog.pg_table_is_visible(pg_catalog.pg_class.oid) AND pg_catalog.pg_namespace.nspname != %(nspname_1)s\n",
      "2025-04-22 17:07:43,305 INFO sqlalchemy.engine.Engine [generated in 0.00047s] {'table_name': 'syllabus', 'param_1': 'r', 'param_2': 'p', 'param_3': 'f', 'param_4': 'v', 'param_5': 'm', 'nspname_1': 'pg_catalog'}\n",
      "2025-04-22 17:07:43,307 INFO sqlalchemy.engine.Engine SELECT pg_catalog.pg_class.relname \n",
      "FROM pg_catalog.pg_class JOIN pg_catalog.pg_namespace ON pg_catalog.pg_namespace.oid = pg_catalog.pg_class.relnamespace \n",
      "WHERE pg_catalog.pg_class.relname = %(table_name)s AND pg_catalog.pg_class.relkind = ANY (ARRAY[%(param_1)s, %(param_2)s, %(param_3)s, %(param_4)s, %(param_5)s]) AND pg_catalog.pg_table_is_visible(pg_catalog.pg_class.oid) AND pg_catalog.pg_namespace.nspname != %(nspname_1)s\n",
      "2025-04-22 17:07:43,307 INFO sqlalchemy.engine.Engine [cached since 0.002199s ago] {'table_name': 'learning_objectives', 'param_1': 'r', 'param_2': 'p', 'param_3': 'f', 'param_4': 'v', 'param_5': 'm', 'nspname_1': 'pg_catalog'}\n",
      "2025-04-22 17:07:43,308 INFO sqlalchemy.engine.Engine SELECT pg_catalog.pg_class.relname \n",
      "FROM pg_catalog.pg_class JOIN pg_catalog.pg_namespace ON pg_catalog.pg_namespace.oid = pg_catalog.pg_class.relnamespace \n",
      "WHERE pg_catalog.pg_class.relname = %(table_name)s AND pg_catalog.pg_class.relkind = ANY (ARRAY[%(param_1)s, %(param_2)s, %(param_3)s, %(param_4)s, %(param_5)s]) AND pg_catalog.pg_table_is_visible(pg_catalog.pg_class.oid) AND pg_catalog.pg_namespace.nspname != %(nspname_1)s\n",
      "2025-04-22 17:07:43,308 INFO sqlalchemy.engine.Engine [cached since 0.003181s ago] {'table_name': 'question_answers', 'param_1': 'r', 'param_2': 'p', 'param_3': 'f', 'param_4': 'v', 'param_5': 'm', 'nspname_1': 'pg_catalog'}\n",
      "2025-04-22 17:07:43,309 INFO sqlalchemy.engine.Engine SELECT pg_catalog.pg_class.relname \n",
      "FROM pg_catalog.pg_class JOIN pg_catalog.pg_namespace ON pg_catalog.pg_namespace.oid = pg_catalog.pg_class.relnamespace \n",
      "WHERE pg_catalog.pg_class.relname = %(table_name)s AND pg_catalog.pg_class.relkind = ANY (ARRAY[%(param_1)s, %(param_2)s, %(param_3)s, %(param_4)s, %(param_5)s]) AND pg_catalog.pg_table_is_visible(pg_catalog.pg_class.oid) AND pg_catalog.pg_namespace.nspname != %(nspname_1)s\n",
      "2025-04-22 17:07:43,309 INFO sqlalchemy.engine.Engine [cached since 0.004298s ago] {'table_name': 'exercises', 'param_1': 'r', 'param_2': 'p', 'param_3': 'f', 'param_4': 'v', 'param_5': 'm', 'nspname_1': 'pg_catalog'}\n",
      "2025-04-22 17:07:43,310 INFO sqlalchemy.engine.Engine SELECT pg_catalog.pg_class.relname \n",
      "FROM pg_catalog.pg_class JOIN pg_catalog.pg_namespace ON pg_catalog.pg_namespace.oid = pg_catalog.pg_class.relnamespace \n",
      "WHERE pg_catalog.pg_class.relname = %(table_name)s AND pg_catalog.pg_class.relkind = ANY (ARRAY[%(param_1)s, %(param_2)s, %(param_3)s, %(param_4)s, %(param_5)s]) AND pg_catalog.pg_table_is_visible(pg_catalog.pg_class.oid) AND pg_catalog.pg_namespace.nspname != %(nspname_1)s\n",
      "2025-04-22 17:07:43,310 INFO sqlalchemy.engine.Engine [cached since 0.005129s ago] {'table_name': 'student_learning_objective_mastery', 'param_1': 'r', 'param_2': 'p', 'param_3': 'f', 'param_4': 'v', 'param_5': 'm', 'nspname_1': 'pg_catalog'}\n",
      "2025-04-22 17:07:43,311 INFO sqlalchemy.engine.Engine SELECT pg_catalog.pg_class.relname \n",
      "FROM pg_catalog.pg_class JOIN pg_catalog.pg_namespace ON pg_catalog.pg_namespace.oid = pg_catalog.pg_class.relnamespace \n",
      "WHERE pg_catalog.pg_class.relname = %(table_name)s AND pg_catalog.pg_class.relkind = ANY (ARRAY[%(param_1)s, %(param_2)s, %(param_3)s, %(param_4)s, %(param_5)s]) AND pg_catalog.pg_table_is_visible(pg_catalog.pg_class.oid) AND pg_catalog.pg_namespace.nspname != %(nspname_1)s\n",
      "2025-04-22 17:07:43,311 INFO sqlalchemy.engine.Engine [cached since 0.006299s ago] {'table_name': 'student_exercise_attempts', 'param_1': 'r', 'param_2': 'p', 'param_3': 'f', 'param_4': 'v', 'param_5': 'm', 'nspname_1': 'pg_catalog'}\n",
      "2025-04-22 17:07:43,313 INFO sqlalchemy.engine.Engine SELECT pg_catalog.pg_class.relname \n",
      "FROM pg_catalog.pg_class JOIN pg_catalog.pg_namespace ON pg_catalog.pg_namespace.oid = pg_catalog.pg_class.relnamespace \n",
      "WHERE pg_catalog.pg_class.relname = %(table_name)s AND pg_catalog.pg_class.relkind = ANY (ARRAY[%(param_1)s, %(param_2)s, %(param_3)s, %(param_4)s, %(param_5)s]) AND pg_catalog.pg_table_is_visible(pg_catalog.pg_class.oid) AND pg_catalog.pg_namespace.nspname != %(nspname_1)s\n",
      "2025-04-22 17:07:43,314 INFO sqlalchemy.engine.Engine [cached since 0.008777s ago] {'table_name': 'roles', 'param_1': 'r', 'param_2': 'p', 'param_3': 'f', 'param_4': 'v', 'param_5': 'm', 'nspname_1': 'pg_catalog'}\n",
      "2025-04-22 17:07:43,315 INFO sqlalchemy.engine.Engine SELECT pg_catalog.pg_class.relname \n",
      "FROM pg_catalog.pg_class JOIN pg_catalog.pg_namespace ON pg_catalog.pg_namespace.oid = pg_catalog.pg_class.relnamespace \n",
      "WHERE pg_catalog.pg_class.relname = %(table_name)s AND pg_catalog.pg_class.relkind = ANY (ARRAY[%(param_1)s, %(param_2)s, %(param_3)s, %(param_4)s, %(param_5)s]) AND pg_catalog.pg_table_is_visible(pg_catalog.pg_class.oid) AND pg_catalog.pg_namespace.nspname != %(nspname_1)s\n",
      "2025-04-22 17:07:43,315 INFO sqlalchemy.engine.Engine [cached since 0.01025s ago] {'table_name': 'users', 'param_1': 'r', 'param_2': 'p', 'param_3': 'f', 'param_4': 'v', 'param_5': 'm', 'nspname_1': 'pg_catalog'}\n",
      "2025-04-22 17:07:43,316 INFO sqlalchemy.engine.Engine SELECT pg_catalog.pg_class.relname \n",
      "FROM pg_catalog.pg_class JOIN pg_catalog.pg_namespace ON pg_catalog.pg_namespace.oid = pg_catalog.pg_class.relnamespace \n",
      "WHERE pg_catalog.pg_class.relname = %(table_name)s AND pg_catalog.pg_class.relkind = ANY (ARRAY[%(param_1)s, %(param_2)s, %(param_3)s, %(param_4)s, %(param_5)s]) AND pg_catalog.pg_table_is_visible(pg_catalog.pg_class.oid) AND pg_catalog.pg_namespace.nspname != %(nspname_1)s\n",
      "2025-04-22 17:07:43,316 INFO sqlalchemy.engine.Engine [cached since 0.01135s ago] {'table_name': 'teacherSubjects', 'param_1': 'r', 'param_2': 'p', 'param_3': 'f', 'param_4': 'v', 'param_5': 'm', 'nspname_1': 'pg_catalog'}\n",
      "2025-04-22 17:07:43,317 INFO sqlalchemy.engine.Engine SELECT pg_catalog.pg_class.relname \n",
      "FROM pg_catalog.pg_class JOIN pg_catalog.pg_namespace ON pg_catalog.pg_namespace.oid = pg_catalog.pg_class.relnamespace \n",
      "WHERE pg_catalog.pg_class.relname = %(table_name)s AND pg_catalog.pg_class.relkind = ANY (ARRAY[%(param_1)s, %(param_2)s, %(param_3)s, %(param_4)s, %(param_5)s]) AND pg_catalog.pg_table_is_visible(pg_catalog.pg_class.oid) AND pg_catalog.pg_namespace.nspname != %(nspname_1)s\n",
      "2025-04-22 17:07:43,317 INFO sqlalchemy.engine.Engine [cached since 0.01227s ago] {'table_name': 'subjects', 'param_1': 'r', 'param_2': 'p', 'param_3': 'f', 'param_4': 'v', 'param_5': 'm', 'nspname_1': 'pg_catalog'}\n",
      "2025-04-22 17:07:43,318 INFO sqlalchemy.engine.Engine SELECT pg_catalog.pg_class.relname \n",
      "FROM pg_catalog.pg_class JOIN pg_catalog.pg_namespace ON pg_catalog.pg_namespace.oid = pg_catalog.pg_class.relnamespace \n",
      "WHERE pg_catalog.pg_class.relname = %(table_name)s AND pg_catalog.pg_class.relkind = ANY (ARRAY[%(param_1)s, %(param_2)s, %(param_3)s, %(param_4)s, %(param_5)s]) AND pg_catalog.pg_table_is_visible(pg_catalog.pg_class.oid) AND pg_catalog.pg_namespace.nspname != %(nspname_1)s\n",
      "2025-04-22 17:07:43,318 INFO sqlalchemy.engine.Engine [cached since 0.0133s ago] {'table_name': 'studentSubjects', 'param_1': 'r', 'param_2': 'p', 'param_3': 'f', 'param_4': 'v', 'param_5': 'm', 'nspname_1': 'pg_catalog'}\n",
      "2025-04-22 17:07:43,319 INFO sqlalchemy.engine.Engine SELECT pg_catalog.pg_class.relname \n",
      "FROM pg_catalog.pg_class JOIN pg_catalog.pg_namespace ON pg_catalog.pg_namespace.oid = pg_catalog.pg_class.relnamespace \n",
      "WHERE pg_catalog.pg_class.relname = %(table_name)s AND pg_catalog.pg_class.relkind = ANY (ARRAY[%(param_1)s, %(param_2)s, %(param_3)s, %(param_4)s, %(param_5)s]) AND pg_catalog.pg_table_is_visible(pg_catalog.pg_class.oid) AND pg_catalog.pg_namespace.nspname != %(nspname_1)s\n",
      "2025-04-22 17:07:43,319 INFO sqlalchemy.engine.Engine [cached since 0.01436s ago] {'table_name': 'chapters', 'param_1': 'r', 'param_2': 'p', 'param_3': 'f', 'param_4': 'v', 'param_5': 'm', 'nspname_1': 'pg_catalog'}\n",
      "2025-04-22 17:07:43,320 INFO sqlalchemy.engine.Engine SELECT pg_catalog.pg_class.relname \n",
      "FROM pg_catalog.pg_class JOIN pg_catalog.pg_namespace ON pg_catalog.pg_namespace.oid = pg_catalog.pg_class.relnamespace \n",
      "WHERE pg_catalog.pg_class.relname = %(table_name)s AND pg_catalog.pg_class.relkind = ANY (ARRAY[%(param_1)s, %(param_2)s, %(param_3)s, %(param_4)s, %(param_5)s]) AND pg_catalog.pg_table_is_visible(pg_catalog.pg_class.oid) AND pg_catalog.pg_namespace.nspname != %(nspname_1)s\n",
      "2025-04-22 17:07:43,320 INFO sqlalchemy.engine.Engine [cached since 0.01521s ago] {'table_name': 'chatSessions', 'param_1': 'r', 'param_2': 'p', 'param_3': 'f', 'param_4': 'v', 'param_5': 'm', 'nspname_1': 'pg_catalog'}\n",
      "2025-04-22 17:07:43,321 INFO sqlalchemy.engine.Engine SELECT pg_catalog.pg_class.relname \n",
      "FROM pg_catalog.pg_class JOIN pg_catalog.pg_namespace ON pg_catalog.pg_namespace.oid = pg_catalog.pg_class.relnamespace \n",
      "WHERE pg_catalog.pg_class.relname = %(table_name)s AND pg_catalog.pg_class.relkind = ANY (ARRAY[%(param_1)s, %(param_2)s, %(param_3)s, %(param_4)s, %(param_5)s]) AND pg_catalog.pg_table_is_visible(pg_catalog.pg_class.oid) AND pg_catalog.pg_namespace.nspname != %(nspname_1)s\n",
      "2025-04-22 17:07:43,321 INFO sqlalchemy.engine.Engine [cached since 0.01598s ago] {'table_name': 'chatMessages', 'param_1': 'r', 'param_2': 'p', 'param_3': 'f', 'param_4': 'v', 'param_5': 'm', 'nspname_1': 'pg_catalog'}\n",
      "2025-04-22 17:07:43,322 INFO sqlalchemy.engine.Engine SELECT pg_catalog.pg_class.relname \n",
      "FROM pg_catalog.pg_class JOIN pg_catalog.pg_namespace ON pg_catalog.pg_namespace.oid = pg_catalog.pg_class.relnamespace \n",
      "WHERE pg_catalog.pg_class.relname = %(table_name)s AND pg_catalog.pg_class.relkind = ANY (ARRAY[%(param_1)s, %(param_2)s, %(param_3)s, %(param_4)s, %(param_5)s]) AND pg_catalog.pg_table_is_visible(pg_catalog.pg_class.oid) AND pg_catalog.pg_namespace.nspname != %(nspname_1)s\n",
      "2025-04-22 17:07:43,322 INFO sqlalchemy.engine.Engine [cached since 0.01688s ago] {'table_name': 'firsttimelogin', 'param_1': 'r', 'param_2': 'p', 'param_3': 'f', 'param_4': 'v', 'param_5': 'm', 'nspname_1': 'pg_catalog'}\n",
      "2025-04-22 17:07:43,323 INFO sqlalchemy.engine.Engine SELECT pg_catalog.pg_class.relname \n",
      "FROM pg_catalog.pg_class JOIN pg_catalog.pg_namespace ON pg_catalog.pg_namespace.oid = pg_catalog.pg_class.relnamespace \n",
      "WHERE pg_catalog.pg_class.relname = %(table_name)s AND pg_catalog.pg_class.relkind = ANY (ARRAY[%(param_1)s, %(param_2)s, %(param_3)s, %(param_4)s, %(param_5)s]) AND pg_catalog.pg_table_is_visible(pg_catalog.pg_class.oid) AND pg_catalog.pg_namespace.nspname != %(nspname_1)s\n",
      "2025-04-22 17:07:43,323 INFO sqlalchemy.engine.Engine [cached since 0.01825s ago] {'table_name': 'personalityUser', 'param_1': 'r', 'param_2': 'p', 'param_3': 'f', 'param_4': 'v', 'param_5': 'm', 'nspname_1': 'pg_catalog'}\n",
      "2025-04-22 17:07:43,326 INFO sqlalchemy.engine.Engine SELECT pg_catalog.pg_type.typname \n",
      "FROM pg_catalog.pg_type JOIN pg_catalog.pg_namespace ON pg_catalog.pg_namespace.oid = pg_catalog.pg_type.typnamespace \n",
      "WHERE pg_catalog.pg_type.typname = %(typname_1)s AND pg_catalog.pg_type_is_visible(pg_catalog.pg_type.oid) AND pg_catalog.pg_namespace.nspname != %(nspname_1)s\n",
      "2025-04-22 17:07:43,327 INFO sqlalchemy.engine.Engine [generated in 0.00117s] {'typname_1': 'role', 'nspname_1': 'pg_catalog'}\n",
      "2025-04-22 17:07:43,328 INFO sqlalchemy.engine.Engine SELECT pg_catalog.pg_type.typname \n",
      "FROM pg_catalog.pg_type JOIN pg_catalog.pg_namespace ON pg_catalog.pg_namespace.oid = pg_catalog.pg_type.typnamespace \n",
      "WHERE pg_catalog.pg_type.typname = %(typname_1)s AND pg_catalog.pg_type_is_visible(pg_catalog.pg_type.oid) AND pg_catalog.pg_namespace.nspname != %(nspname_1)s\n",
      "2025-04-22 17:07:43,328 INFO sqlalchemy.engine.Engine [cached since 0.002604s ago] {'typname_1': 'sendertype', 'nspname_1': 'pg_catalog'}\n",
      "2025-04-22 17:07:43,329 INFO sqlalchemy.engine.Engine \n",
      "CREATE TABLE firsttimelogin (\n",
      "\t\"userId\" INTEGER NOT NULL, \n",
      "\t\"firstTimeLogin\" BOOLEAN NOT NULL, \n",
      "\tPRIMARY KEY (\"userId\"), \n",
      "\tFOREIGN KEY(\"userId\") REFERENCES users (id)\n",
      ")\n",
      "\n",
      "\n",
      "2025-04-22 17:07:43,329 INFO sqlalchemy.engine.Engine [no key 0.00030s] {}\n",
      "2025-04-22 17:07:43,337 INFO sqlalchemy.engine.Engine \n",
      "CREATE TABLE \"personalityUser\" (\n",
      "\t\"userId\" INTEGER NOT NULL, \n",
      "\t\"personalityType\" VARCHAR(1000) NOT NULL, \n",
      "\tPRIMARY KEY (\"userId\"), \n",
      "\tFOREIGN KEY(\"userId\") REFERENCES users (id)\n",
      ")\n",
      "\n",
      "\n",
      "2025-04-22 17:07:43,337 INFO sqlalchemy.engine.Engine [no key 0.00030s] {}\n",
      "2025-04-22 17:07:43,342 INFO sqlalchemy.engine.Engine COMMIT\n"
     ]
    }
   ],
   "source": [
    "Base.metadata.create_all(engine)"
   ]
  },
  {
   "cell_type": "code",
   "execution_count": 16,
   "metadata": {},
   "outputs": [],
   "source": [
    "# The purpose of sessionmaker is to provide a factory for Session objects with a fixed configuration. As it is typical that an application will have an Engine object in module scope, the sessionmaker can provide a factory for Session objects that are constructed against this engine:\n",
    "Session = sessionmaker(\n",
    "    bind=engine,\n",
    ")"
   ]
  },
  {
   "cell_type": "code",
   "execution_count": 17,
   "metadata": {},
   "outputs": [],
   "source": [
    "session = Session()\n",
    "\n",
    "# Create all tables"
   ]
  },
  {
   "cell_type": "code",
   "execution_count": 18,
   "metadata": {},
   "outputs": [
    {
     "name": "stdout",
     "output_type": "stream",
     "text": [
      "2025-04-22 17:07:46,929 INFO sqlalchemy.engine.Engine BEGIN (implicit)\n",
      "2025-04-22 17:07:46,930 INFO sqlalchemy.engine.Engine INSERT INTO firsttimelogin (\"userId\", \"firstTimeLogin\") VALUES (%(userId__0)s, %(firstTimeLogin__0)s), (%(userId__1)s, %(firstTimeLogin__1)s), (%(userId__2)s, %(firstTimeLogin__2)s), (%(userId__3)s, %(firstTimeLogin__3)s)\n",
      "2025-04-22 17:07:46,931 INFO sqlalchemy.engine.Engine [generated in 0.00006s (insertmanyvalues) 1/1 (unordered)] {'firstTimeLogin__0': True, 'userId__0': 4, 'firstTimeLogin__1': True, 'userId__1': 5, 'firstTimeLogin__2': True, 'userId__2': 6, 'firstTimeLogin__3': True, 'userId__3': 7}\n",
      "2025-04-22 17:07:46,933 INFO sqlalchemy.engine.Engine COMMIT\n"
     ]
    }
   ],
   "source": [
    "# Populate firsttime login:\n",
    "first_time_logins = [FirstTimeLogin(userId=4, firstTimeLogin=True), FirstTimeLogin(userId=5, firstTimeLogin=True), FirstTimeLogin(userId=6, firstTimeLogin=True), FirstTimeLogin(userId=7, firstTimeLogin=True)]\n",
    "\n",
    "session.add_all(first_time_logins)\n",
    "session.commit()"
   ]
  },
  {
   "cell_type": "markdown",
   "metadata": {},
   "source": [
    "## FOR ALICIA: RUN SAMPE SINI"
   ]
  },
  {
   "cell_type": "markdown",
   "metadata": {},
   "source": [
    "## POPULATE FAKE DATA"
   ]
  },
  {
   "cell_type": "markdown",
   "metadata": {},
   "source": [
    "## We start with populating roles:"
   ]
  },
  {
   "cell_type": "code",
   "execution_count": 36,
   "metadata": {},
   "outputs": [
    {
     "name": "stdout",
     "output_type": "stream",
     "text": [
      "2025-04-12 15:51:09,508 INFO sqlalchemy.engine.Engine INSERT INTO roles (id, \"roleName\") VALUES (%(id__0)s, %(roleName__0)s), (%(id__1)s, %(roleName__1)s), (%(id__2)s, %(roleName__2)s)\n",
      "2025-04-12 15:51:09,509 INFO sqlalchemy.engine.Engine [cached since 1573s ago (insertmanyvalues) 1/1 (unordered)] {'roleName__0': 'ADMIN', 'id__0': 1, 'roleName__1': 'TEACHER', 'id__1': 2, 'roleName__2': 'STUDENT', 'id__2': 3}\n",
      "2025-04-12 15:51:09,525 INFO sqlalchemy.engine.Engine COMMIT\n"
     ]
    }
   ],
   "source": [
    "# We start with populating roles:\n",
    "admin_role = Roles(roleName=Role.ADMIN)\n",
    "teacher_role = Roles(roleName=Role.TEACHER)\n",
    "student_role = Roles(roleName=Role.STUDENT)\n",
    "\n",
    "# Add the roles to the session\n",
    "# Specify the ids for the roles\n",
    "admin_role.id = 1\n",
    "teacher_role.id = 2\n",
    "student_role.id = 3\n",
    "session.add_all([admin_role, teacher_role, student_role])\n",
    "session.commit()"
   ]
  },
  {
   "cell_type": "markdown",
   "metadata": {},
   "source": [
    "## We start populating the Teachers"
   ]
  },
  {
   "cell_type": "code",
   "execution_count": null,
   "metadata": {},
   "outputs": [],
   "source": [
    "# Function to hash password using pgcrypto\n",
    "# Note: This function assumes that the pgcrypto extension is already enabled in your PostgreSQL database.\n",
    "# Kalo belm ada, enable pgcrypto extension: \n",
    "# Run this in your database ->\n",
    "# CREATE EXTENSION IF NOT EXISTS pgcrypto;\n",
    "\n",
    "# Ref https://www.postgresql.org/docs/current/pgcrypto.html\n",
    "def hash_password(plain_password: str) -> str:\n",
    "    result = session.execute(\n",
    "        text(\"SELECT crypt(:password, gen_salt('bf', 8))\"),\n",
    "        {'password': plain_password}\n",
    "    )\n",
    "    return result.scalar() # Returns first column of the first row"
   ]
  },
  {
   "cell_type": "code",
   "execution_count": 37,
   "metadata": {},
   "outputs": [
    {
     "name": "stdout",
     "output_type": "stream",
     "text": [
      "2025-04-12 15:51:21,725 INFO sqlalchemy.engine.Engine BEGIN (implicit)\n",
      "2025-04-12 15:51:21,727 INFO sqlalchemy.engine.Engine SELECT crypt(%(password)s, gen_salt('bf', 8))\n",
      "2025-04-12 15:51:21,727 INFO sqlalchemy.engine.Engine [cached since 894.8s ago] {'password': 'Dirk123'}\n",
      "2025-04-12 15:51:21,779 INFO sqlalchemy.engine.Engine SELECT roles.id AS roles_id, roles.\"roleName\" AS \"roles_roleName\" \n",
      "FROM roles \n",
      "WHERE roles.id = %(pk_1)s\n",
      "2025-04-12 15:51:21,784 INFO sqlalchemy.engine.Engine [generated in 0.00451s] {'pk_1': 2}\n",
      "2025-04-12 15:51:21,791 INFO sqlalchemy.engine.Engine SELECT crypt(%(password)s, gen_salt('bf', 8))\n",
      "2025-04-12 15:51:21,792 INFO sqlalchemy.engine.Engine [cached since 894.8s ago] {'password': 'Tim123'}\n",
      "2025-04-12 15:51:21,812 INFO sqlalchemy.engine.Engine SELECT crypt(%(password)s, gen_salt('bf', 8))\n",
      "2025-04-12 15:51:21,813 INFO sqlalchemy.engine.Engine [cached since 894.8s ago] {'password': 'Derek123'}\n",
      "2025-04-12 15:51:21,836 INFO sqlalchemy.engine.Engine INSERT INTO users (id, \"displayName\", email, password, \"roleId\") VALUES (%(id__0)s, %(displayName__0)s, %(email__0)s, %(password__0)s, %(roleId__0)s), (%(id__1)s, %(displayName__1)s, %(email__1)s, %(password__1)s, %(roleId__1)s), (%(id__2)s, %(displayName__2)s, %(email__2)s, %(password__2)s, %(roleId__2)s)\n",
      "2025-04-12 15:51:21,836 INFO sqlalchemy.engine.Engine [generated in 0.00005s (insertmanyvalues) 1/1 (unordered)] {'roleId__0': 2, 'id__0': 1, 'email__0': 'john.smith@kgv.hk', 'displayName__0': 'John Smith', 'password__0': '$2a$08$2lOzbrjXc9FT.Jh8eVARsuozvgiqorxn4d1Ra2rqdyRF2iWGytiR6', 'roleId__1': 2, 'id__1': 2, 'email__1': 'mary.johnson@kgv.hk', 'displayName__1': 'Mary Johnson', 'password__1': '$2a$08$hgTvqCBzeaoomxzJ1Q.rEeNmKfj7yVss1wNN2mILJT9sXYLrrE87m', 'roleId__2': 2, 'id__2': 3, 'email__2': 'robert.wilson@kgv.hk', 'displayName__2': 'Robert Wilson', 'password__2': '$2a$08$mbBB2oTP9RxtDr5QF09U/.8AWLV8UpI7wAFxfyyIqkfE4lQGMSJvy'}\n",
      "2025-04-12 15:51:21,839 INFO sqlalchemy.engine.Engine COMMIT\n"
     ]
    }
   ],
   "source": [
    "# Teachers:\n",
    "teachers = [\n",
    "    Users(\n",
    "        id = 1,\n",
    "        displayName=\"John Smith\",\n",
    "        email=\"john.smith@kgv.hk\",\n",
    "        password=hash_password(\"Dirk123\"),\n",
    "        roleId=teacher_role.id\n",
    "    ),\n",
    "    Users(\n",
    "        id = 2,\n",
    "        displayName=\"Mary Johnson\",\n",
    "        email=\"mary.johnson@kgv.hk\",\n",
    "        password=hash_password(\"Tim123\"),\n",
    "        roleId=teacher_role.id\n",
    "    ),\n",
    "    Users(\n",
    "        id = 3,\n",
    "        displayName=\"Robert Wilson\",\n",
    "        email=\"robert.wilson@kgv.hk\",\n",
    "        password=hash_password(\"Derek123\"),\n",
    "        roleId=teacher_role.id\n",
    "    )\n",
    "]\n",
    "\n",
    "# Add the teachers to the session\n",
    "session.add_all(teachers)\n",
    "session.commit()\n"
   ]
  },
  {
   "cell_type": "code",
   "execution_count": null,
   "metadata": {},
   "outputs": [],
   "source": [
    "# Need to add / populate objects all at once, otherwise it will throw a detached instance error, so for now we won't be using context manager"
   ]
  },
  {
   "cell_type": "markdown",
   "metadata": {},
   "source": [
    "## We start populating the students"
   ]
  },
  {
   "cell_type": "code",
   "execution_count": 40,
   "metadata": {},
   "outputs": [
    {
     "name": "stdout",
     "output_type": "stream",
     "text": [
      "2025-04-12 17:01:28,430 INFO sqlalchemy.engine.Engine SELECT crypt(%(password)s, gen_salt('bf', 8))\n",
      "2025-04-12 17:01:28,431 INFO sqlalchemy.engine.Engine [cached since 5101s ago] {'password': 'asbun_max'}\n",
      "2025-04-12 17:01:28,476 INFO sqlalchemy.engine.Engine SELECT roles.id AS roles_id, roles.\"roleName\" AS \"roles_roleName\" \n",
      "FROM roles \n",
      "WHERE roles.id = %(pk_1)s\n",
      "2025-04-12 17:01:28,477 INFO sqlalchemy.engine.Engine [cached since 4207s ago] {'pk_1': 3}\n",
      "2025-04-12 17:01:28,501 INFO sqlalchemy.engine.Engine SELECT crypt(%(password)s, gen_salt('bf', 8))\n",
      "2025-04-12 17:01:28,502 INFO sqlalchemy.engine.Engine [cached since 5102s ago] {'password': 'si_paling_paling'}\n",
      "2025-04-12 17:01:28,530 INFO sqlalchemy.engine.Engine SELECT crypt(%(password)s, gen_salt('bf', 8))\n",
      "2025-04-12 17:01:28,531 INFO sqlalchemy.engine.Engine [cached since 5102s ago] {'password': 'mekimeki'}\n",
      "2025-04-12 17:01:28,554 INFO sqlalchemy.engine.Engine SELECT crypt(%(password)s, gen_salt('bf', 8))\n",
      "2025-04-12 17:01:28,554 INFO sqlalchemy.engine.Engine [cached since 5102s ago] {'password': 'gamon_banget'}\n",
      "2025-04-12 17:01:28,576 INFO sqlalchemy.engine.Engine INSERT INTO users (id, \"displayName\", email, password, \"roleId\") VALUES (%(id__0)s, %(displayName__0)s, %(email__0)s, %(password__0)s, %(roleId__0)s), (%(id__1)s, %(displayName__1)s, %(email__1)s, %(password__1)s, %(roleId__1)s), (%(id__2)s, %(displayName__2)s, %(email__2)s, %(password__2)s, %(roleId__2)s), (%(id__3)s, %(displayName__3)s, %(email__3)s, %(password__3)s, %(roleId__3)s)\n",
      "2025-04-12 17:01:28,576 INFO sqlalchemy.engine.Engine [cached since 4207s ago (insertmanyvalues) 1/1 (unordered)] {'roleId__0': 3, 'id__0': 4, 'email__0': 'alicia.sutikno@kgv.hk', 'displayName__0': 'Alicia Sutikno', 'password__0': '$2a$08$tzxUlBwpjA5kByxcNjPw9OmyTzy/0yDw4O/iq5c8lyNV.gPFXRRb6', 'roleId__1': 3, 'id__1': 5, 'email__1': 'jeje.toil@kgv.hk', 'displayName__1': 'Georgy Siswanta', 'password__1': '$2a$08$Cu6AGJwbMmCo099aVobs3umV1CqXz8pJ626yiAlYfmc78yq7oQkWm', 'roleId__2': 3, 'id__2': 6, 'email__2': 'bryan.melvison@kgv.hk', 'displayName__2': 'Bryan Melvison', 'password__2': '$2a$08$w1cL7W4b2.cbl4alU6M6JeLqB/xtts1t8UIkXSvbE90u/BiuFe78W', 'roleId__3': 3, 'id__3': 7, 'email__3': 'lewis.lewis@kgv.hk', 'displayName__3': 'Lewis Lewis', 'password__3': '$2a$08$ZxlzikD5sMMaEJMrAJ.yx.qDcnHyCjRYACNaLp05J9En3evAgnSXy'}\n",
      "2025-04-12 17:01:28,578 INFO sqlalchemy.engine.Engine COMMIT\n"
     ]
    }
   ],
   "source": [
    "students = [\n",
    "    Users(\n",
    "        id = 4,\n",
    "        displayName=\"Alicia Sutikno\",\n",
    "        email=\"alicia.sutikno@kgv.hk\",\n",
    "        password=hash_password(\"asbun_max\"),\n",
    "        roleId=student_role.id\n",
    "    ),\n",
    "    Users(\n",
    "        id = 5,\n",
    "        displayName=\"Georgy Siswanta\",\n",
    "        email=\"jeje.toil@kgv.hk\",\n",
    "        password=hash_password(\"si_paling_paling\"),\n",
    "        roleId=student_role.id\n",
    "    ),\n",
    "    Users(\n",
    "        id = 6,\n",
    "        displayName=\"Bryan Melvison\",\n",
    "        email=\"bryan.melvison@kgv.hk\",\n",
    "        password=hash_password(\"mekimeki\"),\n",
    "        roleId=student_role.id\n",
    "    ),\n",
    "    Users(\n",
    "        id = 7,\n",
    "        displayName=\"Lewis Lewis\",\n",
    "        email=\"lewis.lewis@kgv.hk\",\n",
    "        password=hash_password(\"gamon_banget\"),\n",
    "        roleId=student_role.id\n",
    "    )\n",
    "]\n",
    "\n",
    "session.add_all(students)\n",
    "session.commit()"
   ]
  },
  {
   "cell_type": "markdown",
   "metadata": {},
   "source": [
    "## We start populating the subjects:"
   ]
  },
  {
   "cell_type": "code",
   "execution_count": 50,
   "metadata": {},
   "outputs": [
    {
     "name": "stdout",
     "output_type": "stream",
     "text": [
      "2025-04-13 03:06:20,183 INFO sqlalchemy.engine.Engine INSERT INTO subjects (id, \"subjectName\", \"totalChapters\") VALUES (%(id__0)s, %(subjectName__0)s, %(totalChapters__0)s), (%(id__1)s, %(subjectName__1)s, %(totalChapters__1)s), (%(id__2)s, %(subjectName__2)s, %(totalChapters__2)s)\n",
      "2025-04-13 03:06:20,185 INFO sqlalchemy.engine.Engine [generated in 0.00191s (insertmanyvalues) 1/1 (unordered)] {'subjectName__0': 'Biology', 'totalChapters__0': 21, 'id__0': 1, 'subjectName__1': 'Physics', 'totalChapters__1': 21, 'id__1': 2, 'subjectName__2': 'Chemistry', 'totalChapters__2': 22, 'id__2': 3}\n",
      "2025-04-13 03:06:20,226 INFO sqlalchemy.engine.Engine COMMIT\n"
     ]
    }
   ],
   "source": [
    "subject = [\n",
    "    Subjects(\n",
    "        id = 1,\n",
    "        subjectName = \"Biology\",\n",
    "        totalChapters = 21\n",
    "    ),\n",
    "    Subjects(\n",
    "        id = 2,\n",
    "        subjectName = \"Physics\",\n",
    "        totalChapters = 21\n",
    "    ),\n",
    "    Subjects(\n",
    "        id = 3,\n",
    "        subjectName = \"Chemistry\",\n",
    "        totalChapters = 22\n",
    "    ),\n",
    "]\n",
    "\n",
    "session.add_all(subject)\n",
    "session.commit()"
   ]
  },
  {
   "cell_type": "markdown",
   "metadata": {},
   "source": [
    "## We start populating the chapters"
   ]
  },
  {
   "cell_type": "code",
   "execution_count": 54,
   "metadata": {},
   "outputs": [],
   "source": [
    "from slugify import slugify"
   ]
  },
  {
   "cell_type": "code",
   "execution_count": null,
   "metadata": {},
   "outputs": [],
   "source": [
    "slugify()"
   ]
  },
  {
   "cell_type": "code",
   "execution_count": 60,
   "metadata": {},
   "outputs": [],
   "source": [
    "phys_chap = [\"Movement and Position\", \"Forces and Shape\", \"Forces and Movement\", \"Mains Electricity\", \"Current and Voltage in Circuits\", \"Electrical Resistance\", \"Properties of Waves\", \"The Electromagnetic Spectrum\", \"Light and Sound Waves\", \"Energy Transfers\", \"Thermal Energy\", \"Work and Power\", \"Density and Pressure\", \"Solids, Liquids and Gases\", \"Magnetism and Electromagnetism\", \"Electric Motors and Electromagnetic Induction\", \"Atoms and Radioactivity\", \"Radiation and Half-Life\", \"Applications of Radioactivity\", \"Fission and Fusion\", \"Motion in the Universe\", \"Stellar Evolution\"]"
   ]
  },
  {
   "cell_type": "code",
   "execution_count": 61,
   "metadata": {},
   "outputs": [],
   "source": [
    "chem_chap = [\"States of Matter\", \"Elements, Compounds and Mixtures\", \"Atomic Structure\", \"The Periodic Table\", \"Chemical Formulae, Equations and Calculations\", \"Ionic Bonding\", \"Covalent Bonding\", \"The Alkali Metals\", \"The Halogens\", \"Gases in the Atmosphere\", \"Reactivity Series\", \"Acids and Alkalis\", \"Acids, Bases and Salt Preparations\", \"Chemical Tests\", \"Energetics\", \"Rates of Reaction and Reversible Reactions\", \"Introduction to Organic Chemistry\", \"Crude Oil\", \"Alkanes\", \"Alkenes\", \"Synthetic Polymers\"]"
   ]
  },
  {
   "cell_type": "code",
   "execution_count": 56,
   "metadata": {},
   "outputs": [],
   "source": [
    "bio_chap = [\"Life Processes\", \"The Variety of Living Organisms\", \"Breathing and Gas Exchange\", \"Food and Digestion\",  \"Blood and Circulation\",  \"Coordination\", \"Chemical Coordination\", \"Homeostasis and Excretion\", \"Reproduction in Humans\", \"Plants and Food\",  \"Transport in Plants\", \"Chemical Coordination in Plants\", \"Reproduction in Plants\", \"Ecosystems\", \"Human Influences on the Environment\", \"Chromosomes, Genes and DNA\", \"Cell Division\",  \"Genes and Inheritance\", \"Natural Selection, Evolution and Selective Breeding\", \"Using Microorganisms\", \"Genetic Modification\"]"
   ]
  },
  {
   "cell_type": "code",
   "execution_count": null,
   "metadata": {},
   "outputs": [
    {
     "name": "stdout",
     "output_type": "stream",
     "text": [
      "2025-04-13 19:08:39,624 INFO sqlalchemy.engine.Engine INSERT INTO chapters (id, \"subjectId\", \"chapterNumber\", \"chapterName\") VALUES (%(id__0)s, %(subjectId__0)s, %(chapterNumber__0)s, %(chapterName__0)s), (%(id__1)s, %(subjectId__1)s, %(chapterNumber__1)s, %(chapterName__1)s), (%(id__2)s, %(subjectId__2 ... 1303 characters truncated ... s, %(chapterName__19)s), (%(id__20)s, %(subjectId__20)s, %(chapterNumber__20)s, %(chapterName__20)s)\n",
      "2025-04-13 19:08:39,625 INFO sqlalchemy.engine.Engine [generated in 0.00163s (insertmanyvalues) 1/1 (unordered)] {'subjectId__0': 1, 'chapterName__0': 'life-processes', 'chapterNumber__0': 1, 'id__0': 1, 'subjectId__1': 1, 'chapterName__1': 'the-variety-of-living-organisms', 'chapterNumber__1': 2, 'id__1': 2, 'subjectId__2': 1, 'chapterName__2': 'breathing-and-gas-exchange', 'chapterNumber__2': 3, 'id__2': 3, 'subjectId__3': 1, 'chapterName__3': 'food-and-digestion', 'chapterNumber__3': 4, 'id__3': 4, 'subjectId__4': 1, 'chapterName__4': 'blood-and-circulation', 'chapterNumber__4': 5, 'id__4': 5, 'subjectId__5': 1, 'chapterName__5': 'coordination', 'chapterNumber__5': 6, 'id__5': 6, 'subjectId__6': 1, 'chapterName__6': 'chemical-coordination', 'chapterNumber__6': 7, 'id__6': 7, 'subjectId__7': 1, 'chapterName__7': 'homeostasis-and-excretion', 'chapterNumber__7': 8, 'id__7': 8, 'subjectId__8': 1, 'chapterName__8': 'reproduction-in-humans', 'chapterNumber__8': 9, 'id__8': 9, 'subjectId__9': 1, 'chapterName__9': 'plants-and-food', 'chapterNumber__9': 10, 'id__9': 10, 'subjectId__10': 1, 'chapterName__10': 'transport-in-plants', 'chapterNumber__10': 11, 'id__10': 11, 'subjectId__11': 1, 'chapterName__11': 'chemical-coordination-in-plants', 'chapterNumber__11': 12, 'id__11': 12, 'subjectId__12': 1, 'chapterName__12': 'reproduction-in-plants', 'chapterNumber__12': 13, 'id__12': 13, 'subjectId__13': 1, 'chapterName__13': 'ecosystems', 'chapterNumber__13': 14, 'id__13': 14, 'subjectId__14': 1, 'chapterName__14': 'human-influences-on-the-environment', 'chapterNumber__14': 15, 'id__14': 15, 'subjectId__15': 1, 'chapterName__15': 'chromosomes-genes-and-dna', 'chapterNumber__15': 16, 'id__15': 16, 'subjectId__16': 1, 'chapterName__16': 'cell-division', 'chapterNumber__16': 17, 'id__16': 17, 'subjectId__17': 1, 'chapterName__17': 'genes-and-inheritance', 'chapterNumber__17': 18, 'id__17': 18, 'subjectId__18': 1, 'chapterName__18': 'natural-selection-evolution-and-selective-breeding', 'chapterNumber__18': 19, 'id__18': 19, 'subjectId__19': 1, 'chapterName__19': 'using-microorganisms', 'chapterNumber__19': 20, 'id__19': 20, 'subjectId__20': 1, 'chapterName__20': 'genetic-modification', 'chapterNumber__20': 21, 'id__20': 21}\n",
      "2025-04-13 19:08:39,704 INFO sqlalchemy.engine.Engine COMMIT\n"
     ]
    }
   ],
   "source": [
    "chapter = [\n",
    "    Chapters(id = i, subjectId=1, chapterNumber = i, chapterName = slugify(chap)) for i, chap in enumerate(bio_chap, start=1)\n",
    "]\n",
    "session.add_all(chapter)\n",
    "session.commit()\n",
    "chapter = [\n",
    "    Chapters(id = i + 21, subjectId=2, chapterNumber = i, chapterName = slugify(chap)) for i, chap in enumerate(phys_chap, start=1)\n",
    "]\n",
    "session.add_all(chapter)\n",
    "session.commit()\n",
    "chapter = [\n",
    "    Chapters(id = i + 43, subjectId=3, chapterNumber = i, chapterName = slugify(chap)) for i, chap in enumerate(chem_chap, start=1)\n",
    "]\n",
    "session.add_all(chapter)\n",
    "session.commit()"
   ]
  },
  {
   "cell_type": "markdown",
   "metadata": {},
   "source": [
    "## Now we populate teacherSubjects table"
   ]
  },
  {
   "cell_type": "code",
   "execution_count": 69,
   "metadata": {},
   "outputs": [
    {
     "name": "stdout",
     "output_type": "stream",
     "text": [
      "2025-04-13 20:00:36,494 INFO sqlalchemy.engine.Engine BEGIN (implicit)\n",
      "2025-04-13 20:00:36,510 INFO sqlalchemy.engine.Engine INSERT INTO \"teacherSubjects\" (\"teacherId\", \"subjectId\", \"assignedDate\") VALUES (%(teacherId__0)s, %(subjectId__0)s, %(assignedDate__0)s), (%(teacherId__1)s, %(subjectId__1)s, %(assignedDate__1)s), (%(teacherId__2)s, %(subjectId__2)s, %(assignedDate__2)s)\n",
      "2025-04-13 20:00:36,511 INFO sqlalchemy.engine.Engine [generated in 0.00140s (insertmanyvalues) 1/1 (unordered)] {'subjectId__0': 1, 'assignedDate__0': datetime.datetime(2025, 4, 13, 20, 0, 36, 490303), 'teacherId__0': 1, 'subjectId__1': 2, 'assignedDate__1': datetime.datetime(2025, 4, 13, 20, 0, 36, 491366), 'teacherId__1': 2, 'subjectId__2': 3, 'assignedDate__2': datetime.datetime(2025, 4, 13, 20, 0, 36, 491387), 'teacherId__2': 3}\n",
      "2025-04-13 20:00:36,559 INFO sqlalchemy.engine.Engine COMMIT\n"
     ]
    }
   ],
   "source": [
    "from datetime import datetime\n",
    "\n",
    "# Populate teacherSubjects\n",
    "# Let's assign subjects to teachers\n",
    "teacher_subjects = [\n",
    "    teacherSubjects(\n",
    "        teacherId=1,  # John Smith\n",
    "        subjectId=1,  # Biology\n",
    "        assignedDate=datetime.now()\n",
    "    ),\n",
    "    teacherSubjects(\n",
    "        teacherId=2,  # Mary Johnson\n",
    "        subjectId=2,  # Physics\n",
    "        assignedDate=datetime.now()\n",
    "    ),\n",
    "    teacherSubjects(\n",
    "        teacherId=3,  # Robert Wilson\n",
    "        subjectId=3,  # Chemistry\n",
    "        assignedDate=datetime.now()\n",
    "    )\n",
    "]\n",
    "\n",
    "session.add_all(teacher_subjects)\n",
    "session.commit()"
   ]
  },
  {
   "cell_type": "markdown",
   "metadata": {},
   "source": [
    "## Now we populate studentSubjects role:\n",
    "(Tentative, might be changed, especially studentSubjectGrade, remember normalization for later)"
   ]
  },
  {
   "cell_type": "code",
   "execution_count": 70,
   "metadata": {},
   "outputs": [
    {
     "name": "stdout",
     "output_type": "stream",
     "text": [
      "2025-04-13 20:05:41,622 INFO sqlalchemy.engine.Engine BEGIN (implicit)\n",
      "2025-04-13 20:05:41,652 INFO sqlalchemy.engine.Engine INSERT INTO \"studentSubjects\" (\"studentId\", \"subjectId\", \"assignedDate\", \"studentSubjectGrade\") VALUES (%(studentId__0)s, %(subjectId__0)s, %(assignedDate__0)s, %(studentSubjectGrade__0)s), (%(studentId__1)s, %(subjectId__1)s, %(assignedDate__1)s, %( ... 803 characters truncated ... de__10)s), (%(studentId__11)s, %(subjectId__11)s, %(assignedDate__11)s, %(studentSubjectGrade__11)s)\n",
      "2025-04-13 20:05:41,653 INFO sqlalchemy.engine.Engine [generated in 0.00056s (insertmanyvalues) 1/1 (unordered)] {'subjectId__0': 1, 'studentId__0': 4, 'studentSubjectGrade__0': None, 'assignedDate__0': datetime.datetime(2025, 4, 13, 20, 5, 41, 620201), 'subjectId__1': 2, 'studentId__1': 4, 'studentSubjectGrade__1': None, 'assignedDate__1': datetime.datetime(2025, 4, 13, 20, 5, 41, 620652), 'subjectId__2': 3, 'studentId__2': 4, 'studentSubjectGrade__2': None, 'assignedDate__2': datetime.datetime(2025, 4, 13, 20, 5, 41, 620662), 'subjectId__3': 1, 'studentId__3': 5, 'studentSubjectGrade__3': None, 'assignedDate__3': datetime.datetime(2025, 4, 13, 20, 5, 41, 620668), 'subjectId__4': 2, 'studentId__4': 5, 'studentSubjectGrade__4': None, 'assignedDate__4': datetime.datetime(2025, 4, 13, 20, 5, 41, 620673), 'subjectId__5': 3, 'studentId__5': 5, 'studentSubjectGrade__5': None, 'assignedDate__5': datetime.datetime(2025, 4, 13, 20, 5, 41, 620679), 'subjectId__6': 1, 'studentId__6': 6, 'studentSubjectGrade__6': None, 'assignedDate__6': datetime.datetime(2025, 4, 13, 20, 5, 41, 620684), 'subjectId__7': 2, 'studentId__7': 6, 'studentSubjectGrade__7': None, 'assignedDate__7': datetime.datetime(2025, 4, 13, 20, 5, 41, 620688), 'subjectId__8': 3, 'studentId__8': 6, 'studentSubjectGrade__8': None, 'assignedDate__8': datetime.datetime(2025, 4, 13, 20, 5, 41, 620693), 'subjectId__9': 1, 'studentId__9': 7, 'studentSubjectGrade__9': None, 'assignedDate__9': datetime.datetime(2025, 4, 13, 20, 5, 41, 620698), 'subjectId__10': 2, 'studentId__10': 7, 'studentSubjectGrade__10': None, 'assignedDate__10': datetime.datetime(2025, 4, 13, 20, 5, 41, 620703), 'subjectId__11': 3, 'studentId__11': 7, 'studentSubjectGrade__11': None, 'assignedDate__11': datetime.datetime(2025, 4, 13, 20, 5, 41, 620708)}\n",
      "2025-04-13 20:05:41,746 INFO sqlalchemy.engine.Engine COMMIT\n"
     ]
    }
   ],
   "source": [
    "student_subjects = []\n",
    "# Every students take all course\n",
    "for student_id in range(4, 8):  # student IDs 4 through 7\n",
    "    for subject_id in range(1, 4):  # subject IDs 1 through 3\n",
    "        student_subjects.append(\n",
    "            studentSubjects(\n",
    "                studentId=student_id,\n",
    "                subjectId=subject_id,\n",
    "                assignedDate=datetime.now(),\n",
    "                studentSubjectGrade=None  # Grades can be updated later\n",
    "            )\n",
    "        )\n",
    "\n",
    "session.add_all(student_subjects)\n",
    "session.commit()"
   ]
  },
  {
   "cell_type": "code",
   "execution_count": 53,
   "metadata": {},
   "outputs": [
    {
     "name": "stdout",
     "output_type": "stream",
     "text": [
      "2025-04-13 18:15:00,302 INFO sqlalchemy.engine.Engine SELECT users.id AS users_id, users.\"displayName\" AS \"users_displayName\", users.email AS users_email, users.password AS users_password, users.\"roleId\" AS \"users_roleId\" \n",
      "FROM users \n",
      "WHERE users.email = %(email_1)s \n",
      " LIMIT %(param_1)s\n",
      "2025-04-13 18:15:00,302 INFO sqlalchemy.engine.Engine [cached since 6.578e+04s ago] {'email_1': 'alicia.sutikno@kgv.hk', 'param_1': 1}\n",
      "2025-04-13 18:15:00,304 INFO sqlalchemy.engine.Engine SELECT crypt(%(plain_password)s, %(hashed_password)s) = %(hashed_password)s\n",
      "2025-04-13 18:15:00,304 INFO sqlalchemy.engine.Engine [cached since 6.575e+04s ago] {'plain_password': 'asbun_max', 'hashed_password': '$2a$08$tzxUlBwpjA5kByxcNjPw9OmyTzy/0yDw4O/iq5c8lyNV.gPFXRRb6'}\n",
      "Password is valid: True\n"
     ]
    }
   ],
   "source": [
    "# Password Verifier, Can try to use this function to verify the password\n",
    "def verify_password(plain_password: str, hashed_password: str) -> bool:\n",
    "    result = session.execute(\n",
    "        text(\"SELECT crypt(:plain_password, :hashed_password) = :hashed_password\"),\n",
    "        {\n",
    "            'plain_password': plain_password,\n",
    "            'hashed_password': hashed_password\n",
    "        }\n",
    "    )\n",
    "    return result.scalar()\n",
    "\n",
    "user = session.query(Users).filter_by(email=\"alicia.sutikno@kgv.hk\").first()\n",
    "is_valid = verify_password(\"asbun_max\", user.password)\n",
    "print(f\"Password is valid: {is_valid}\")\n"
   ]
  },
  {
   "cell_type": "code",
   "execution_count": null,
   "metadata": {},
   "outputs": [],
   "source": []
  },
  {
   "cell_type": "code",
   "execution_count": null,
   "metadata": {},
   "outputs": [],
   "source": []
  }
 ],
 "metadata": {
  "kernelspec": {
   "display_name": "base",
   "language": "python",
   "name": "python3"
  },
  "language_info": {
   "codemirror_mode": {
    "name": "ipython",
    "version": 3
   },
   "file_extension": ".py",
   "mimetype": "text/x-python",
   "name": "python",
   "nbconvert_exporter": "python",
   "pygments_lexer": "ipython3",
   "version": "3.11.5"
  }
 },
 "nbformat": 4,
 "nbformat_minor": 2
}
