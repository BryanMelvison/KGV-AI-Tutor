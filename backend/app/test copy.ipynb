{
 "cells": [
  {
   "cell_type": "code",
   "execution_count": 76,
   "metadata": {},
   "outputs": [],
   "source": [
    "from typing import List\n",
    "from typing import Optional\n",
    "from sqlalchemy import ForeignKey, Integer, DateTime, String, Uuid, create_engine, types, Enum, text\n",
    "from sqlalchemy.orm import DeclarativeBase, Mapped, mapped_column, relationship, sessionmaker\n",
    "import uuid\n",
    "from enum import Enum as PyEnum  "
   ]
  },
  {
   "cell_type": "code",
   "execution_count": 77,
   "metadata": {},
   "outputs": [
    {
     "name": "stderr",
     "output_type": "stream",
     "text": [
      "/var/folders/qn/kp8f2zds4c97lb16z2l1yp_h0000gn/T/ipykernel_13860/3424259238.py:6: MovedIn20Warning: The ``declarative_base()`` function is now available as sqlalchemy.orm.declarative_base(). (deprecated since: 2.0) (Background on SQLAlchemy 2.0 at: https://sqlalche.me/e/b8d9)\n",
      "  Base = declarative_base()\n"
     ]
    }
   ],
   "source": [
    "from sqlalchemy import create_engine\n",
    "from sqlalchemy.ext.declarative import declarative_base\n",
    "from sqlalchemy.orm import sessionmaker\n",
    "\n",
    "\n",
    "Base = declarative_base() "
   ]
  },
  {
   "cell_type": "code",
   "execution_count": null,
   "metadata": {},
   "outputs": [
    {
     "name": "stderr",
     "output_type": "stream",
     "text": [
      "/var/folders/qn/kp8f2zds4c97lb16z2l1yp_h0000gn/T/ipykernel_13860/3322024202.py:13: SAWarning: This declarative base already contains a class with the same class name and module name as __main__.Roles, and will be replaced in the string-lookup table.\n",
      "  class Roles(Base):\n"
     ]
    },
    {
     "ename": "InvalidRequestError",
     "evalue": "Table 'roles' is already defined for this MetaData instance.  Specify 'extend_existing=True' to redefine options and columns on an existing Table object.",
     "output_type": "error",
     "traceback": [
      "\u001b[0;31m---------------------------------------------------------------------------\u001b[0m",
      "\u001b[0;31mInvalidRequestError\u001b[0m                       Traceback (most recent call last)",
      "Cell \u001b[0;32mIn[84], line 13\u001b[0m\n\u001b[1;32m      9\u001b[0m     TEACHER \u001b[38;5;241m=\u001b[39m \u001b[38;5;124m\"\u001b[39m\u001b[38;5;124mteacher\u001b[39m\u001b[38;5;124m\"\u001b[39m\n\u001b[1;32m     11\u001b[0m \u001b[38;5;66;03m# class Base(DeclarativeBase):\u001b[39;00m\n\u001b[1;32m     12\u001b[0m \u001b[38;5;66;03m#     pass\u001b[39;00m\n\u001b[0;32m---> 13\u001b[0m \u001b[38;5;28;43;01mclass\u001b[39;49;00m\u001b[43m \u001b[49m\u001b[38;5;21;43;01mRoles\u001b[39;49;00m\u001b[43m(\u001b[49m\u001b[43mBase\u001b[49m\u001b[43m)\u001b[49m\u001b[43m:\u001b[49m\n\u001b[1;32m     14\u001b[0m \u001b[43m    \u001b[49m\u001b[43m__tablename__\u001b[49m\u001b[43m \u001b[49m\u001b[38;5;241;43m=\u001b[39;49m\u001b[43m \u001b[49m\u001b[38;5;124;43m'\u001b[39;49m\u001b[38;5;124;43mroles\u001b[39;49m\u001b[38;5;124;43m'\u001b[39;49m\n\u001b[1;32m     16\u001b[0m \u001b[43m    \u001b[49m\u001b[38;5;28;43mid\u001b[39;49m\u001b[43m:\u001b[49m\u001b[43m \u001b[49m\u001b[43mMapped\u001b[49m\u001b[43m[\u001b[49m\u001b[38;5;28;43mint\u001b[39;49m\u001b[43m]\u001b[49m\u001b[43m \u001b[49m\u001b[38;5;241;43m=\u001b[39;49m\u001b[43m \u001b[49m\u001b[43mmapped_column\u001b[49m\u001b[43m(\u001b[49m\u001b[43mprimary_key\u001b[49m\u001b[38;5;241;43m=\u001b[39;49m\u001b[38;5;28;43;01mTrue\u001b[39;49;00m\u001b[43m)\u001b[49m\n",
      "File \u001b[0;32m~/miniconda3/envs/fyp_test/lib/python3.12/site-packages/sqlalchemy/orm/decl_api.py:196\u001b[0m, in \u001b[0;36mDeclarativeMeta.__init__\u001b[0;34m(cls, classname, bases, dict_, **kw)\u001b[0m\n\u001b[1;32m    193\u001b[0m         \u001b[38;5;28mcls\u001b[39m\u001b[38;5;241m.\u001b[39m_sa_registry \u001b[38;5;241m=\u001b[39m reg\n\u001b[1;32m    195\u001b[0m \u001b[38;5;28;01mif\u001b[39;00m \u001b[38;5;129;01mnot\u001b[39;00m \u001b[38;5;28mcls\u001b[39m\u001b[38;5;241m.\u001b[39m\u001b[38;5;18m__dict__\u001b[39m\u001b[38;5;241m.\u001b[39mget(\u001b[38;5;124m\"\u001b[39m\u001b[38;5;124m__abstract__\u001b[39m\u001b[38;5;124m\"\u001b[39m, \u001b[38;5;28;01mFalse\u001b[39;00m):\n\u001b[0;32m--> 196\u001b[0m     \u001b[43m_as_declarative\u001b[49m\u001b[43m(\u001b[49m\u001b[43mreg\u001b[49m\u001b[43m,\u001b[49m\u001b[43m \u001b[49m\u001b[38;5;28;43mcls\u001b[39;49m\u001b[43m,\u001b[49m\u001b[43m \u001b[49m\u001b[43mdict_\u001b[49m\u001b[43m)\u001b[49m\n\u001b[1;32m    197\u001b[0m \u001b[38;5;28mtype\u001b[39m\u001b[38;5;241m.\u001b[39m\u001b[38;5;21m__init__\u001b[39m(\u001b[38;5;28mcls\u001b[39m, classname, bases, dict_)\n",
      "File \u001b[0;32m~/miniconda3/envs/fyp_test/lib/python3.12/site-packages/sqlalchemy/orm/decl_base.py:244\u001b[0m, in \u001b[0;36m_as_declarative\u001b[0;34m(registry, cls, dict_)\u001b[0m\n\u001b[1;32m    239\u001b[0m \u001b[38;5;28;01mdef\u001b[39;00m \u001b[38;5;21m_as_declarative\u001b[39m(\n\u001b[1;32m    240\u001b[0m     registry: _RegistryType, \u001b[38;5;28mcls\u001b[39m: Type[Any], dict_: _ClassDict\n\u001b[1;32m    241\u001b[0m ) \u001b[38;5;241m-\u001b[39m\u001b[38;5;241m>\u001b[39m Optional[_MapperConfig]:\n\u001b[1;32m    242\u001b[0m     \u001b[38;5;66;03m# declarative scans the class for attributes.  no table or mapper\u001b[39;00m\n\u001b[1;32m    243\u001b[0m     \u001b[38;5;66;03m# args passed separately.\u001b[39;00m\n\u001b[0;32m--> 244\u001b[0m     \u001b[38;5;28;01mreturn\u001b[39;00m \u001b[43m_MapperConfig\u001b[49m\u001b[38;5;241;43m.\u001b[39;49m\u001b[43msetup_mapping\u001b[49m\u001b[43m(\u001b[49m\u001b[43mregistry\u001b[49m\u001b[43m,\u001b[49m\u001b[43m \u001b[49m\u001b[38;5;28;43mcls\u001b[39;49m\u001b[43m,\u001b[49m\u001b[43m \u001b[49m\u001b[43mdict_\u001b[49m\u001b[43m,\u001b[49m\u001b[43m \u001b[49m\u001b[38;5;28;43;01mNone\u001b[39;49;00m\u001b[43m,\u001b[49m\u001b[43m \u001b[49m\u001b[43m{\u001b[49m\u001b[43m}\u001b[49m\u001b[43m)\u001b[49m\n",
      "File \u001b[0;32m~/miniconda3/envs/fyp_test/lib/python3.12/site-packages/sqlalchemy/orm/decl_base.py:325\u001b[0m, in \u001b[0;36m_MapperConfig.setup_mapping\u001b[0;34m(cls, registry, cls_, dict_, table, mapper_kw)\u001b[0m\n\u001b[1;32m    321\u001b[0m     \u001b[38;5;28;01mreturn\u001b[39;00m _DeferredMapperConfig(\n\u001b[1;32m    322\u001b[0m         registry, cls_, dict_, table, mapper_kw\n\u001b[1;32m    323\u001b[0m     )\n\u001b[1;32m    324\u001b[0m \u001b[38;5;28;01melse\u001b[39;00m:\n\u001b[0;32m--> 325\u001b[0m     \u001b[38;5;28;01mreturn\u001b[39;00m \u001b[43m_ClassScanMapperConfig\u001b[49m\u001b[43m(\u001b[49m\n\u001b[1;32m    326\u001b[0m \u001b[43m        \u001b[49m\u001b[43mregistry\u001b[49m\u001b[43m,\u001b[49m\u001b[43m \u001b[49m\u001b[43mcls_\u001b[49m\u001b[43m,\u001b[49m\u001b[43m \u001b[49m\u001b[43mdict_\u001b[49m\u001b[43m,\u001b[49m\u001b[43m \u001b[49m\u001b[43mtable\u001b[49m\u001b[43m,\u001b[49m\u001b[43m \u001b[49m\u001b[43mmapper_kw\u001b[49m\n\u001b[1;32m    327\u001b[0m \u001b[43m    \u001b[49m\u001b[43m)\u001b[49m\n",
      "File \u001b[0;32m~/miniconda3/envs/fyp_test/lib/python3.12/site-packages/sqlalchemy/orm/decl_base.py:576\u001b[0m, in \u001b[0;36m_ClassScanMapperConfig.__init__\u001b[0;34m(self, registry, cls_, dict_, table, mapper_kw)\u001b[0m\n\u001b[1;32m    572\u001b[0m \u001b[38;5;28mself\u001b[39m\u001b[38;5;241m.\u001b[39m_extract_mappable_attributes()\n\u001b[1;32m    574\u001b[0m \u001b[38;5;28mself\u001b[39m\u001b[38;5;241m.\u001b[39m_extract_declared_columns()\n\u001b[0;32m--> 576\u001b[0m \u001b[38;5;28;43mself\u001b[39;49m\u001b[38;5;241;43m.\u001b[39;49m\u001b[43m_setup_table\u001b[49m\u001b[43m(\u001b[49m\u001b[43mtable\u001b[49m\u001b[43m)\u001b[49m\n\u001b[1;32m    578\u001b[0m \u001b[38;5;28mself\u001b[39m\u001b[38;5;241m.\u001b[39m_setup_inheriting_columns(mapper_kw)\n\u001b[1;32m    580\u001b[0m \u001b[38;5;28mself\u001b[39m\u001b[38;5;241m.\u001b[39m_early_mapping(mapper_kw)\n",
      "File \u001b[0;32m~/miniconda3/envs/fyp_test/lib/python3.12/site-packages/sqlalchemy/orm/decl_base.py:1759\u001b[0m, in \u001b[0;36m_ClassScanMapperConfig._setup_table\u001b[0;34m(self, table)\u001b[0m\n\u001b[1;32m   1751\u001b[0m             table_kw[\u001b[38;5;124m\"\u001b[39m\u001b[38;5;124mautoload\u001b[39m\u001b[38;5;124m\"\u001b[39m] \u001b[38;5;241m=\u001b[39m \u001b[38;5;28;01mTrue\u001b[39;00m\n\u001b[1;32m   1753\u001b[0m         sorted_columns \u001b[38;5;241m=\u001b[39m \u001b[38;5;28msorted\u001b[39m(\n\u001b[1;32m   1754\u001b[0m             declared_columns,\n\u001b[1;32m   1755\u001b[0m             key\u001b[38;5;241m=\u001b[39m\u001b[38;5;28;01mlambda\u001b[39;00m c: column_ordering\u001b[38;5;241m.\u001b[39mget(c, \u001b[38;5;241m0\u001b[39m),\n\u001b[1;32m   1756\u001b[0m         )\n\u001b[1;32m   1757\u001b[0m         table \u001b[38;5;241m=\u001b[39m \u001b[38;5;28mself\u001b[39m\u001b[38;5;241m.\u001b[39mset_cls_attribute(\n\u001b[1;32m   1758\u001b[0m             \u001b[38;5;124m\"\u001b[39m\u001b[38;5;124m__table__\u001b[39m\u001b[38;5;124m\"\u001b[39m,\n\u001b[0;32m-> 1759\u001b[0m             \u001b[43mtable_cls\u001b[49m\u001b[43m(\u001b[49m\n\u001b[1;32m   1760\u001b[0m \u001b[43m                \u001b[49m\u001b[43mtablename\u001b[49m\u001b[43m,\u001b[49m\n\u001b[1;32m   1761\u001b[0m \u001b[43m                \u001b[49m\u001b[38;5;28;43mself\u001b[39;49m\u001b[38;5;241;43m.\u001b[39;49m\u001b[43m_metadata_for_cls\u001b[49m\u001b[43m(\u001b[49m\u001b[43mmanager\u001b[49m\u001b[43m)\u001b[49m\u001b[43m,\u001b[49m\n\u001b[1;32m   1762\u001b[0m \u001b[43m                \u001b[49m\u001b[38;5;241;43m*\u001b[39;49m\u001b[43msorted_columns\u001b[49m\u001b[43m,\u001b[49m\n\u001b[1;32m   1763\u001b[0m \u001b[43m                \u001b[49m\u001b[38;5;241;43m*\u001b[39;49m\u001b[43margs\u001b[49m\u001b[43m,\u001b[49m\n\u001b[1;32m   1764\u001b[0m \u001b[43m                \u001b[49m\u001b[38;5;241;43m*\u001b[39;49m\u001b[38;5;241;43m*\u001b[39;49m\u001b[43mtable_kw\u001b[49m\u001b[43m,\u001b[49m\n\u001b[1;32m   1765\u001b[0m \u001b[43m            \u001b[49m\u001b[43m)\u001b[49m,\n\u001b[1;32m   1766\u001b[0m         )\n\u001b[1;32m   1767\u001b[0m \u001b[38;5;28;01melse\u001b[39;00m:\n\u001b[1;32m   1768\u001b[0m     \u001b[38;5;28;01mif\u001b[39;00m table \u001b[38;5;129;01mis\u001b[39;00m \u001b[38;5;28;01mNone\u001b[39;00m:\n",
      "File \u001b[0;32m<string>:2\u001b[0m, in \u001b[0;36m__new__\u001b[0;34m(cls, *args, **kw)\u001b[0m\n",
      "File \u001b[0;32m~/miniconda3/envs/fyp_test/lib/python3.12/site-packages/sqlalchemy/util/deprecations.py:281\u001b[0m, in \u001b[0;36mdeprecated_params.<locals>.decorate.<locals>.warned\u001b[0;34m(fn, *args, **kwargs)\u001b[0m\n\u001b[1;32m    274\u001b[0m     \u001b[38;5;28;01mif\u001b[39;00m m \u001b[38;5;129;01min\u001b[39;00m kwargs:\n\u001b[1;32m    275\u001b[0m         _warn_with_version(\n\u001b[1;32m    276\u001b[0m             messages[m],\n\u001b[1;32m    277\u001b[0m             versions[m],\n\u001b[1;32m    278\u001b[0m             version_warnings[m],\n\u001b[1;32m    279\u001b[0m             stacklevel\u001b[38;5;241m=\u001b[39m\u001b[38;5;241m3\u001b[39m,\n\u001b[1;32m    280\u001b[0m         )\n\u001b[0;32m--> 281\u001b[0m \u001b[38;5;28;01mreturn\u001b[39;00m \u001b[43mfn\u001b[49m\u001b[43m(\u001b[49m\u001b[38;5;241;43m*\u001b[39;49m\u001b[43margs\u001b[49m\u001b[43m,\u001b[49m\u001b[43m \u001b[49m\u001b[38;5;241;43m*\u001b[39;49m\u001b[38;5;241;43m*\u001b[39;49m\u001b[43mkwargs\u001b[49m\u001b[43m)\u001b[49m\n",
      "File \u001b[0;32m~/miniconda3/envs/fyp_test/lib/python3.12/site-packages/sqlalchemy/sql/schema.py:427\u001b[0m, in \u001b[0;36mTable.__new__\u001b[0;34m(cls, *args, **kw)\u001b[0m\n\u001b[1;32m    420\u001b[0m \u001b[38;5;129m@util\u001b[39m\u001b[38;5;241m.\u001b[39mdeprecated_params(\n\u001b[1;32m    421\u001b[0m     mustexist\u001b[38;5;241m=\u001b[39m(\n\u001b[1;32m    422\u001b[0m         \u001b[38;5;124m\"\u001b[39m\u001b[38;5;124m1.4\u001b[39m\u001b[38;5;124m\"\u001b[39m,\n\u001b[0;32m   (...)\u001b[0m\n\u001b[1;32m    425\u001b[0m )\n\u001b[1;32m    426\u001b[0m \u001b[38;5;28;01mdef\u001b[39;00m \u001b[38;5;21m__new__\u001b[39m(\u001b[38;5;28mcls\u001b[39m, \u001b[38;5;241m*\u001b[39margs: Any, \u001b[38;5;241m*\u001b[39m\u001b[38;5;241m*\u001b[39mkw: Any) \u001b[38;5;241m-\u001b[39m\u001b[38;5;241m>\u001b[39m Any:\n\u001b[0;32m--> 427\u001b[0m     \u001b[38;5;28;01mreturn\u001b[39;00m \u001b[38;5;28;43mcls\u001b[39;49m\u001b[38;5;241;43m.\u001b[39;49m\u001b[43m_new\u001b[49m\u001b[43m(\u001b[49m\u001b[38;5;241;43m*\u001b[39;49m\u001b[43margs\u001b[49m\u001b[43m,\u001b[49m\u001b[43m \u001b[49m\u001b[38;5;241;43m*\u001b[39;49m\u001b[38;5;241;43m*\u001b[39;49m\u001b[43mkw\u001b[49m\u001b[43m)\u001b[49m\n",
      "File \u001b[0;32m~/miniconda3/envs/fyp_test/lib/python3.12/site-packages/sqlalchemy/sql/schema.py:459\u001b[0m, in \u001b[0;36mTable._new\u001b[0;34m(cls, *args, **kw)\u001b[0m\n\u001b[1;32m    457\u001b[0m \u001b[38;5;28;01mif\u001b[39;00m key \u001b[38;5;129;01min\u001b[39;00m metadata\u001b[38;5;241m.\u001b[39mtables:\n\u001b[1;32m    458\u001b[0m     \u001b[38;5;28;01mif\u001b[39;00m \u001b[38;5;129;01mnot\u001b[39;00m keep_existing \u001b[38;5;129;01mand\u001b[39;00m \u001b[38;5;129;01mnot\u001b[39;00m extend_existing \u001b[38;5;129;01mand\u001b[39;00m \u001b[38;5;28mbool\u001b[39m(args):\n\u001b[0;32m--> 459\u001b[0m         \u001b[38;5;28;01mraise\u001b[39;00m exc\u001b[38;5;241m.\u001b[39mInvalidRequestError(\n\u001b[1;32m    460\u001b[0m             \u001b[38;5;124mf\u001b[39m\u001b[38;5;124m\"\u001b[39m\u001b[38;5;124mTable \u001b[39m\u001b[38;5;124m'\u001b[39m\u001b[38;5;132;01m{\u001b[39;00mkey\u001b[38;5;132;01m}\u001b[39;00m\u001b[38;5;124m'\u001b[39m\u001b[38;5;124m is already defined for this MetaData \u001b[39m\u001b[38;5;124m\"\u001b[39m\n\u001b[1;32m    461\u001b[0m             \u001b[38;5;124m\"\u001b[39m\u001b[38;5;124minstance.  Specify \u001b[39m\u001b[38;5;124m'\u001b[39m\u001b[38;5;124mextend_existing=True\u001b[39m\u001b[38;5;124m'\u001b[39m\u001b[38;5;124m \u001b[39m\u001b[38;5;124m\"\u001b[39m\n\u001b[1;32m    462\u001b[0m             \u001b[38;5;124m\"\u001b[39m\u001b[38;5;124mto redefine \u001b[39m\u001b[38;5;124m\"\u001b[39m\n\u001b[1;32m    463\u001b[0m             \u001b[38;5;124m\"\u001b[39m\u001b[38;5;124moptions and columns on an \u001b[39m\u001b[38;5;124m\"\u001b[39m\n\u001b[1;32m    464\u001b[0m             \u001b[38;5;124m\"\u001b[39m\u001b[38;5;124mexisting Table object.\u001b[39m\u001b[38;5;124m\"\u001b[39m\n\u001b[1;32m    465\u001b[0m         )\n\u001b[1;32m    466\u001b[0m     table \u001b[38;5;241m=\u001b[39m metadata\u001b[38;5;241m.\u001b[39mtables[key]\n\u001b[1;32m    467\u001b[0m     \u001b[38;5;28;01mif\u001b[39;00m extend_existing:\n",
      "\u001b[0;31mInvalidRequestError\u001b[0m: Table 'roles' is already defined for this MetaData instance.  Specify 'extend_existing=True' to redefine options and columns on an existing Table object."
     ]
    }
   ],
   "source": [
    "\n",
    "# Define enums using Python's Enum\n",
    "class senderType(PyEnum):\n",
    "    USER = \"user\"\n",
    "    CHATBOT = \"chatbot\"\n",
    "\n",
    "class Role(PyEnum):\n",
    "    ADMIN = \"admin\"\n",
    "    STUDENT = \"student\"\n",
    "    TEACHER = \"teacher\"\n",
    "\n",
    "class Roles(Base):\n",
    "    __tablename__ = 'roles'\n",
    "\n",
    "    id: Mapped[int] = mapped_column(primary_key=True)\n",
    "    roleName: Mapped[\"Role\"] = mapped_column(Enum(Role), nullable=False)\n",
    "\n",
    "    # This is a one-to-many relationship between roles and users\n",
    "    user_roles: Mapped[List[\"Users\"]] = relationship(back_populates=\"role\")\n",
    "\n",
    "class Users(Base):\n",
    "    __tablename__ = 'users'\n",
    "\n",
    "    id: Mapped[int] = mapped_column(primary_key=True)\n",
    "    displayName: Mapped[str] = mapped_column(String(50), nullable=False)\n",
    "    email: Mapped[str] = mapped_column(String(50), nullable=False)\n",
    "    password: Mapped[str] = mapped_column(String(60), nullable=False)\n",
    "    roleId: Mapped[int] = mapped_column(ForeignKey(\"roles.id\"), nullable=False)\n",
    "\n",
    "    # This is a many-to-one relationship between users and roles\n",
    "    role: Mapped[\"Roles\"] = relationship(back_populates=\"user_roles\")\n",
    "\n",
    "    # This is a one-to-many relationship between users and teacherSubjects\n",
    "    teacher_subjects: Mapped[List[\"teacherSubjects\"]] = relationship(back_populates=\"teacher\")\n",
    "\n",
    "    # This is a one-to-many relationship between users and studentSubjects\n",
    "    student_subjects: Mapped[List[\"studentSubjects\"]] = relationship(back_populates=\"student\")\n",
    "\n",
    "    # This is a one-to-many relationship between users and chatSessions\n",
    "    chat_sessions: Mapped[List[\"ChatSessions\"]] = relationship(back_populates=\"user\")\n",
    "\n",
    "    attempts = relationship(\"StudentExerciseAttempt\", back_populates=\"student\")\n",
    "    mastery_statuses = relationship(\"StudentLearningObjectiveMastery\", back_populates=\"student\")\n",
    "\n",
    "class teacherSubjects(Base):\n",
    "    __tablename__ = 'teacherSubjects'\n",
    "\n",
    "    # No primary key, but a composite key of teacherId and subjectId\n",
    "    # This is a one-to-many relationship between users and teacherSubjects, and many-to-one relaitonshpip between subjects and teacherSubjects\n",
    "    teacherId: Mapped[int] = mapped_column(ForeignKey(\"users.id\"), primary_key=True)\n",
    "    subjectId: Mapped[int] = mapped_column(ForeignKey(\"subjects.id\"), primary_key=True)\n",
    "    assignedDate: Mapped[DateTime] = mapped_column(DateTime, nullable=False)\n",
    "\n",
    "    # This is a many-to-one relationship between teacherSubjects and users\n",
    "    teacher: Mapped[\"Users\"] = relationship(back_populates=\"teacher_subjects\")\n",
    "\n",
    "    # This is a many-to-one relationship between teacherSubjects and subjects\n",
    "    subject: Mapped[\"Subjects\"] = relationship(back_populates=\"subjects\")\n",
    "\n",
    "\n",
    "class Subjects(Base):\n",
    "    __tablename__ = 'subjects'\n",
    "    id: Mapped[int] = mapped_column(primary_key=True)\n",
    "    subjectName: Mapped[str] = mapped_column(String(50), nullable=False)\n",
    "    totalChapters: Mapped[int] = mapped_column(Integer, nullable=False)\n",
    "    \n",
    "    # This is a one-to-many relationship between subjects and teacherSubjects\n",
    "    subjects: Mapped[List[\"teacherSubjects\"]] = relationship(back_populates=\"subject\")\n",
    "\n",
    "    # This is a one-to-many relationship between subjects and studentSubjects\n",
    "    student_subjects: Mapped[List[\"studentSubjects\"]] = relationship(back_populates=\"subject\")\n",
    "\n",
    "    # This is a one-to-many relationship between subjects and chapters\n",
    "    chapters: Mapped[List[\"Chapters\"]] = relationship(back_populates=\"subject\")\n",
    "\n",
    "    # This is a one-to-many relationship between subjects and chatSessions\n",
    "    chat_sessions: Mapped[List[\"ChatSessions\"]] = relationship(back_populates=\"subject\")\n",
    "\n",
    "class studentSubjects(Base):\n",
    "    __tablename__ = 'studentSubjects'\n",
    "    # No primary key, but a composite key of studentId and subjectId\n",
    "    studentId: Mapped[int] = mapped_column(ForeignKey(\"users.id\"), primary_key=True)\n",
    "    subjectId: Mapped[int] = mapped_column(ForeignKey(\"subjects.id\"), primary_key=True)\n",
    "    assignedDate: Mapped[DateTime] = mapped_column(DateTime, nullable=False)\n",
    "    studentSubjectGrade: Mapped[Optional[int]] = mapped_column(Integer, nullable=True)\n",
    "\n",
    "    # This is a many-to-one relationship between studentSubjects and users\n",
    "    subject: Mapped[\"Subjects\"] = relationship(back_populates=\"student_subjects\")\n",
    "\n",
    "    # This is a many-to-one relationship between studentSubjects and users\n",
    "    student: Mapped[\"Users\"] = relationship(back_populates=\"student_subjects\")\n",
    "\n",
    "\n",
    "class Chapters(Base):\n",
    "    __tablename__ = 'chapters'\n",
    "    id: Mapped[int] = mapped_column(primary_key=True)\n",
    "    subjectId: Mapped[int] = mapped_column(ForeignKey(\"subjects.id\"), nullable=False)\n",
    "    chapterNumber: Mapped[int] = mapped_column(Integer, nullable=False)\n",
    "    chapterName: Mapped[str] = mapped_column(String(50), nullable=False)\n",
    "\n",
    "    # This is a many-to-one relationship between chapters and subjects\n",
    "    subject: Mapped[\"Subjects\"] = relationship(back_populates=\"chapters\")\n",
    "\n",
    "    # This is a one-to-many relationship between chapters and chatSessions\n",
    "    chat_sessions: Mapped[List[\"ChatSessions\"]] = relationship(back_populates=\"chapter\")\n",
    "\n",
    "    exercises = relationship(\"Exercise\", back_populates=\"chapter\")\n",
    "\n",
    "class ChatSessions(Base):\n",
    "    __tablename__ = 'chatSessions'\n",
    "    id: Mapped[uuid.UUID] = mapped_column(Uuid(), primary_key=True, default=uuid.uuid4)\n",
    "    userId: Mapped[int] = mapped_column(ForeignKey(\"users.id\"), nullable=False)\n",
    "    chapterId: Mapped[int] = mapped_column(ForeignKey(\"chapters.id\"), nullable=False)\n",
    "    subjectId: Mapped[int] = mapped_column(ForeignKey(\"subjects.id\"), nullable=False)\n",
    "    startTimestamp: Mapped[DateTime] = mapped_column(DateTime, nullable=False)\n",
    "    endTimestamp: Mapped[DateTime] = mapped_column(DateTime, nullable=False)\n",
    "    chatSessionTitle: Mapped[str] = mapped_column(String(100), nullable=False)\n",
    "\n",
    "    # This is a many-to-one relationship between chatSessions and users\n",
    "    user: Mapped[\"Users\"] = relationship(back_populates=\"chat_sessions\")\n",
    "    # This is a many-to-one relationship between chatSessions and chapters\n",
    "    chapter: Mapped[\"Chapters\"] = relationship(back_populates=\"chat_sessions\")\n",
    "    # This is a many-to-one relationship between chatSessions and subjects\n",
    "    subject: Mapped[\"Subjects\"] = relationship(back_populates=\"chat_sessions\") \n",
    "    # This is a one-to-many relationship between chatSessions and chatMessages\n",
    "    messages: Mapped[List[\"chatMessage\"]] = relationship(back_populates=\"chatSession\")\n",
    "\n",
    "\n",
    "class chatMessage(Base):\n",
    "    __tablename__ = 'chatMessages'\n",
    "    id: Mapped[uuid.UUID] = mapped_column(Uuid(), primary_key=True, default=uuid.uuid4)\n",
    "    sessionId: Mapped[uuid.UUID] = mapped_column(ForeignKey(\"chatSessions.id\"), nullable=False)\n",
    "    # Since we know each session is associated with a user, we can use the userId from the session, so for senderType we use Enum \n",
    "    # to determine if the sender is a teacher or student\n",
    "    senderType: Mapped[\"senderType\"] = mapped_column(Enum(senderType), nullable=False)\n",
    "\n",
    "    message: Mapped[str] = mapped_column(String(1000), nullable=False)\n",
    "    timestamp: Mapped[DateTime] = mapped_column(DateTime, nullable=False)\n",
    "    # This is a many-to-one relationship between chatMessages and chatSessions\n",
    "    chatSession: Mapped[\"ChatSessions\"] = relationship(back_populates=\"messages\")\n"
   ]
  },
  {
   "cell_type": "markdown",
   "metadata": {},
   "source": [
    "# Pipeline"
   ]
  },
  {
   "cell_type": "code",
   "execution_count": 79,
   "metadata": {},
   "outputs": [],
   "source": [
    "from dotenv import load_dotenv\n",
    "load_dotenv()\n",
    "import os"
   ]
  },
  {
   "cell_type": "code",
   "execution_count": 80,
   "metadata": {},
   "outputs": [],
   "source": [
    "url = os.getenv('DB_URL')"
   ]
  },
  {
   "cell_type": "code",
   "execution_count": 81,
   "metadata": {},
   "outputs": [],
   "source": [
    "engine = create_engine(url, echo=True)"
   ]
  },
  {
   "cell_type": "code",
   "execution_count": 82,
   "metadata": {},
   "outputs": [
    {
     "name": "stdout",
     "output_type": "stream",
     "text": [
      "2025-04-19 17:37:38,157 INFO sqlalchemy.engine.Engine select pg_catalog.version()\n",
      "2025-04-19 17:37:38,157 INFO sqlalchemy.engine.Engine [raw sql] {}\n"
     ]
    },
    {
     "name": "stdout",
     "output_type": "stream",
     "text": [
      "2025-04-19 17:37:38,162 INFO sqlalchemy.engine.Engine select current_schema()\n",
      "2025-04-19 17:37:38,162 INFO sqlalchemy.engine.Engine [raw sql] {}\n",
      "2025-04-19 17:37:38,164 INFO sqlalchemy.engine.Engine show standard_conforming_strings\n",
      "2025-04-19 17:37:38,164 INFO sqlalchemy.engine.Engine [raw sql] {}\n",
      "2025-04-19 17:37:38,165 INFO sqlalchemy.engine.Engine BEGIN (implicit)\n",
      "2025-04-19 17:37:38,169 INFO sqlalchemy.engine.Engine SELECT pg_catalog.pg_class.relname \n",
      "FROM pg_catalog.pg_class JOIN pg_catalog.pg_namespace ON pg_catalog.pg_namespace.oid = pg_catalog.pg_class.relnamespace \n",
      "WHERE pg_catalog.pg_class.relname = %(table_name)s AND pg_catalog.pg_class.relkind = ANY (ARRAY[%(param_1)s, %(param_2)s, %(param_3)s, %(param_4)s, %(param_5)s]) AND pg_catalog.pg_table_is_visible(pg_catalog.pg_class.oid) AND pg_catalog.pg_namespace.nspname != %(nspname_1)s\n",
      "2025-04-19 17:37:38,169 INFO sqlalchemy.engine.Engine [generated in 0.00056s] {'table_name': 'chatMessages', 'param_1': 'r', 'param_2': 'p', 'param_3': 'f', 'param_4': 'v', 'param_5': 'm', 'nspname_1': 'pg_catalog'}\n",
      "2025-04-19 17:37:38,171 INFO sqlalchemy.engine.Engine ROLLBACK\n"
     ]
    },
    {
     "ename": "NoReferencedTableError",
     "evalue": "Foreign key associated with column 'chatMessages.sessionId' could not find table 'chatSessions' with which to generate a foreign key to target column 'id'",
     "output_type": "error",
     "traceback": [
      "\u001b[0;31m---------------------------------------------------------------------------\u001b[0m",
      "\u001b[0;31mNoReferencedTableError\u001b[0m                    Traceback (most recent call last)",
      "Cell \u001b[0;32mIn[82], line 1\u001b[0m\n\u001b[0;32m----> 1\u001b[0m \u001b[43mBase\u001b[49m\u001b[38;5;241;43m.\u001b[39;49m\u001b[43mmetadata\u001b[49m\u001b[38;5;241;43m.\u001b[39;49m\u001b[43mcreate_all\u001b[49m\u001b[43m(\u001b[49m\u001b[43mengine\u001b[49m\u001b[43m)\u001b[49m\n",
      "File \u001b[0;32m~/miniconda3/envs/fyp_test/lib/python3.12/site-packages/sqlalchemy/sql/schema.py:5868\u001b[0m, in \u001b[0;36mMetaData.create_all\u001b[0;34m(self, bind, tables, checkfirst)\u001b[0m\n\u001b[1;32m   5844\u001b[0m \u001b[38;5;28;01mdef\u001b[39;00m \u001b[38;5;21mcreate_all\u001b[39m(\n\u001b[1;32m   5845\u001b[0m     \u001b[38;5;28mself\u001b[39m,\n\u001b[1;32m   5846\u001b[0m     bind: _CreateDropBind,\n\u001b[1;32m   5847\u001b[0m     tables: Optional[_typing_Sequence[Table]] \u001b[38;5;241m=\u001b[39m \u001b[38;5;28;01mNone\u001b[39;00m,\n\u001b[1;32m   5848\u001b[0m     checkfirst: \u001b[38;5;28mbool\u001b[39m \u001b[38;5;241m=\u001b[39m \u001b[38;5;28;01mTrue\u001b[39;00m,\n\u001b[1;32m   5849\u001b[0m ) \u001b[38;5;241m-\u001b[39m\u001b[38;5;241m>\u001b[39m \u001b[38;5;28;01mNone\u001b[39;00m:\n\u001b[1;32m   5850\u001b[0m \u001b[38;5;250m    \u001b[39m\u001b[38;5;124;03m\"\"\"Create all tables stored in this metadata.\u001b[39;00m\n\u001b[1;32m   5851\u001b[0m \n\u001b[1;32m   5852\u001b[0m \u001b[38;5;124;03m    Conditional by default, will not attempt to recreate tables already\u001b[39;00m\n\u001b[0;32m   (...)\u001b[0m\n\u001b[1;32m   5866\u001b[0m \n\u001b[1;32m   5867\u001b[0m \u001b[38;5;124;03m    \"\"\"\u001b[39;00m\n\u001b[0;32m-> 5868\u001b[0m     \u001b[43mbind\u001b[49m\u001b[38;5;241;43m.\u001b[39;49m\u001b[43m_run_ddl_visitor\u001b[49m\u001b[43m(\u001b[49m\n\u001b[1;32m   5869\u001b[0m \u001b[43m        \u001b[49m\u001b[43mddl\u001b[49m\u001b[38;5;241;43m.\u001b[39;49m\u001b[43mSchemaGenerator\u001b[49m\u001b[43m,\u001b[49m\u001b[43m \u001b[49m\u001b[38;5;28;43mself\u001b[39;49m\u001b[43m,\u001b[49m\u001b[43m \u001b[49m\u001b[43mcheckfirst\u001b[49m\u001b[38;5;241;43m=\u001b[39;49m\u001b[43mcheckfirst\u001b[49m\u001b[43m,\u001b[49m\u001b[43m \u001b[49m\u001b[43mtables\u001b[49m\u001b[38;5;241;43m=\u001b[39;49m\u001b[43mtables\u001b[49m\n\u001b[1;32m   5870\u001b[0m \u001b[43m    \u001b[49m\u001b[43m)\u001b[49m\n",
      "File \u001b[0;32m~/miniconda3/envs/fyp_test/lib/python3.12/site-packages/sqlalchemy/engine/base.py:3253\u001b[0m, in \u001b[0;36mEngine._run_ddl_visitor\u001b[0;34m(self, visitorcallable, element, **kwargs)\u001b[0m\n\u001b[1;32m   3246\u001b[0m \u001b[38;5;28;01mdef\u001b[39;00m \u001b[38;5;21m_run_ddl_visitor\u001b[39m(\n\u001b[1;32m   3247\u001b[0m     \u001b[38;5;28mself\u001b[39m,\n\u001b[1;32m   3248\u001b[0m     visitorcallable: Type[Union[SchemaGenerator, SchemaDropper]],\n\u001b[1;32m   3249\u001b[0m     element: SchemaItem,\n\u001b[1;32m   3250\u001b[0m     \u001b[38;5;241m*\u001b[39m\u001b[38;5;241m*\u001b[39mkwargs: Any,\n\u001b[1;32m   3251\u001b[0m ) \u001b[38;5;241m-\u001b[39m\u001b[38;5;241m>\u001b[39m \u001b[38;5;28;01mNone\u001b[39;00m:\n\u001b[1;32m   3252\u001b[0m     \u001b[38;5;28;01mwith\u001b[39;00m \u001b[38;5;28mself\u001b[39m\u001b[38;5;241m.\u001b[39mbegin() \u001b[38;5;28;01mas\u001b[39;00m conn:\n\u001b[0;32m-> 3253\u001b[0m         \u001b[43mconn\u001b[49m\u001b[38;5;241;43m.\u001b[39;49m\u001b[43m_run_ddl_visitor\u001b[49m\u001b[43m(\u001b[49m\u001b[43mvisitorcallable\u001b[49m\u001b[43m,\u001b[49m\u001b[43m \u001b[49m\u001b[43melement\u001b[49m\u001b[43m,\u001b[49m\u001b[43m \u001b[49m\u001b[38;5;241;43m*\u001b[39;49m\u001b[38;5;241;43m*\u001b[39;49m\u001b[43mkwargs\u001b[49m\u001b[43m)\u001b[49m\n",
      "File \u001b[0;32m~/miniconda3/envs/fyp_test/lib/python3.12/site-packages/sqlalchemy/engine/base.py:2459\u001b[0m, in \u001b[0;36mConnection._run_ddl_visitor\u001b[0;34m(self, visitorcallable, element, **kwargs)\u001b[0m\n\u001b[1;32m   2447\u001b[0m \u001b[38;5;28;01mdef\u001b[39;00m \u001b[38;5;21m_run_ddl_visitor\u001b[39m(\n\u001b[1;32m   2448\u001b[0m     \u001b[38;5;28mself\u001b[39m,\n\u001b[1;32m   2449\u001b[0m     visitorcallable: Type[Union[SchemaGenerator, SchemaDropper]],\n\u001b[1;32m   2450\u001b[0m     element: SchemaItem,\n\u001b[1;32m   2451\u001b[0m     \u001b[38;5;241m*\u001b[39m\u001b[38;5;241m*\u001b[39mkwargs: Any,\n\u001b[1;32m   2452\u001b[0m ) \u001b[38;5;241m-\u001b[39m\u001b[38;5;241m>\u001b[39m \u001b[38;5;28;01mNone\u001b[39;00m:\n\u001b[1;32m   2453\u001b[0m \u001b[38;5;250m    \u001b[39m\u001b[38;5;124;03m\"\"\"run a DDL visitor.\u001b[39;00m\n\u001b[1;32m   2454\u001b[0m \n\u001b[1;32m   2455\u001b[0m \u001b[38;5;124;03m    This method is only here so that the MockConnection can change the\u001b[39;00m\n\u001b[1;32m   2456\u001b[0m \u001b[38;5;124;03m    options given to the visitor so that \"checkfirst\" is skipped.\u001b[39;00m\n\u001b[1;32m   2457\u001b[0m \n\u001b[1;32m   2458\u001b[0m \u001b[38;5;124;03m    \"\"\"\u001b[39;00m\n\u001b[0;32m-> 2459\u001b[0m     \u001b[43mvisitorcallable\u001b[49m\u001b[43m(\u001b[49m\u001b[38;5;28;43mself\u001b[39;49m\u001b[38;5;241;43m.\u001b[39;49m\u001b[43mdialect\u001b[49m\u001b[43m,\u001b[49m\u001b[43m \u001b[49m\u001b[38;5;28;43mself\u001b[39;49m\u001b[43m,\u001b[49m\u001b[43m \u001b[49m\u001b[38;5;241;43m*\u001b[39;49m\u001b[38;5;241;43m*\u001b[39;49m\u001b[43mkwargs\u001b[49m\u001b[43m)\u001b[49m\u001b[38;5;241;43m.\u001b[39;49m\u001b[43mtraverse_single\u001b[49m\u001b[43m(\u001b[49m\u001b[43melement\u001b[49m\u001b[43m)\u001b[49m\n",
      "File \u001b[0;32m~/miniconda3/envs/fyp_test/lib/python3.12/site-packages/sqlalchemy/sql/visitors.py:664\u001b[0m, in \u001b[0;36mExternalTraversal.traverse_single\u001b[0;34m(self, obj, **kw)\u001b[0m\n\u001b[1;32m    662\u001b[0m meth \u001b[38;5;241m=\u001b[39m \u001b[38;5;28mgetattr\u001b[39m(v, \u001b[38;5;124m\"\u001b[39m\u001b[38;5;124mvisit_\u001b[39m\u001b[38;5;132;01m%s\u001b[39;00m\u001b[38;5;124m\"\u001b[39m \u001b[38;5;241m%\u001b[39m obj\u001b[38;5;241m.\u001b[39m__visit_name__, \u001b[38;5;28;01mNone\u001b[39;00m)\n\u001b[1;32m    663\u001b[0m \u001b[38;5;28;01mif\u001b[39;00m meth:\n\u001b[0;32m--> 664\u001b[0m     \u001b[38;5;28;01mreturn\u001b[39;00m \u001b[43mmeth\u001b[49m\u001b[43m(\u001b[49m\u001b[43mobj\u001b[49m\u001b[43m,\u001b[49m\u001b[43m \u001b[49m\u001b[38;5;241;43m*\u001b[39;49m\u001b[38;5;241;43m*\u001b[39;49m\u001b[43mkw\u001b[49m\u001b[43m)\u001b[49m\n",
      "File \u001b[0;32m~/miniconda3/envs/fyp_test/lib/python3.12/site-packages/sqlalchemy/sql/ddl.py:896\u001b[0m, in \u001b[0;36mSchemaGenerator.visit_metadata\u001b[0;34m(self, metadata)\u001b[0m\n\u001b[1;32m    893\u001b[0m \u001b[38;5;28;01melse\u001b[39;00m:\n\u001b[1;32m    894\u001b[0m     tables \u001b[38;5;241m=\u001b[39m \u001b[38;5;28mlist\u001b[39m(metadata\u001b[38;5;241m.\u001b[39mtables\u001b[38;5;241m.\u001b[39mvalues())\n\u001b[0;32m--> 896\u001b[0m collection \u001b[38;5;241m=\u001b[39m \u001b[43msort_tables_and_constraints\u001b[49m\u001b[43m(\u001b[49m\n\u001b[1;32m    897\u001b[0m \u001b[43m    \u001b[49m\u001b[43m[\u001b[49m\u001b[43mt\u001b[49m\u001b[43m \u001b[49m\u001b[38;5;28;43;01mfor\u001b[39;49;00m\u001b[43m \u001b[49m\u001b[43mt\u001b[49m\u001b[43m \u001b[49m\u001b[38;5;129;43;01min\u001b[39;49;00m\u001b[43m \u001b[49m\u001b[43mtables\u001b[49m\u001b[43m \u001b[49m\u001b[38;5;28;43;01mif\u001b[39;49;00m\u001b[43m \u001b[49m\u001b[38;5;28;43mself\u001b[39;49m\u001b[38;5;241;43m.\u001b[39;49m\u001b[43m_can_create_table\u001b[49m\u001b[43m(\u001b[49m\u001b[43mt\u001b[49m\u001b[43m)\u001b[49m\u001b[43m]\u001b[49m\n\u001b[1;32m    898\u001b[0m \u001b[43m\u001b[49m\u001b[43m)\u001b[49m\n\u001b[1;32m    900\u001b[0m seq_coll \u001b[38;5;241m=\u001b[39m [\n\u001b[1;32m    901\u001b[0m     s\n\u001b[1;32m    902\u001b[0m     \u001b[38;5;28;01mfor\u001b[39;00m s \u001b[38;5;129;01min\u001b[39;00m metadata\u001b[38;5;241m.\u001b[39m_sequences\u001b[38;5;241m.\u001b[39mvalues()\n\u001b[1;32m    903\u001b[0m     \u001b[38;5;28;01mif\u001b[39;00m s\u001b[38;5;241m.\u001b[39mcolumn \u001b[38;5;129;01mis\u001b[39;00m \u001b[38;5;28;01mNone\u001b[39;00m \u001b[38;5;129;01mand\u001b[39;00m \u001b[38;5;28mself\u001b[39m\u001b[38;5;241m.\u001b[39m_can_create_sequence(s)\n\u001b[1;32m    904\u001b[0m ]\n\u001b[1;32m    906\u001b[0m event_collection \u001b[38;5;241m=\u001b[39m [t \u001b[38;5;28;01mfor\u001b[39;00m (t, fks) \u001b[38;5;129;01min\u001b[39;00m collection \u001b[38;5;28;01mif\u001b[39;00m t \u001b[38;5;129;01mis\u001b[39;00m \u001b[38;5;129;01mnot\u001b[39;00m \u001b[38;5;28;01mNone\u001b[39;00m]\n",
      "File \u001b[0;32m~/miniconda3/envs/fyp_test/lib/python3.12/site-packages/sqlalchemy/sql/ddl.py:1328\u001b[0m, in \u001b[0;36msort_tables_and_constraints\u001b[0;34m(tables, filter_fn, extra_dependencies, _warn_for_cycles)\u001b[0m\n\u001b[1;32m   1325\u001b[0m         remaining_fkcs\u001b[38;5;241m.\u001b[39madd(fkc)\n\u001b[1;32m   1326\u001b[0m         \u001b[38;5;28;01mcontinue\u001b[39;00m\n\u001b[0;32m-> 1328\u001b[0m dependent_on \u001b[38;5;241m=\u001b[39m \u001b[43mfkc\u001b[49m\u001b[38;5;241;43m.\u001b[39;49m\u001b[43mreferred_table\u001b[49m\n\u001b[1;32m   1329\u001b[0m \u001b[38;5;28;01mif\u001b[39;00m dependent_on \u001b[38;5;129;01mis\u001b[39;00m \u001b[38;5;129;01mnot\u001b[39;00m table:\n\u001b[1;32m   1330\u001b[0m     mutable_dependencies\u001b[38;5;241m.\u001b[39madd((dependent_on, table))\n",
      "File \u001b[0;32m~/miniconda3/envs/fyp_test/lib/python3.12/site-packages/sqlalchemy/sql/schema.py:4753\u001b[0m, in \u001b[0;36mForeignKeyConstraint.referred_table\u001b[0;34m(self)\u001b[0m\n\u001b[1;32m   4743\u001b[0m \u001b[38;5;129m@property\u001b[39m\n\u001b[1;32m   4744\u001b[0m \u001b[38;5;28;01mdef\u001b[39;00m \u001b[38;5;21mreferred_table\u001b[39m(\u001b[38;5;28mself\u001b[39m) \u001b[38;5;241m-\u001b[39m\u001b[38;5;241m>\u001b[39m Table:\n\u001b[1;32m   4745\u001b[0m \u001b[38;5;250m    \u001b[39m\u001b[38;5;124;03m\"\"\"The :class:`_schema.Table` object to which this\u001b[39;00m\n\u001b[1;32m   4746\u001b[0m \u001b[38;5;124;03m    :class:`_schema.ForeignKeyConstraint` references.\u001b[39;00m\n\u001b[1;32m   4747\u001b[0m \n\u001b[0;32m   (...)\u001b[0m\n\u001b[1;32m   4751\u001b[0m \n\u001b[1;32m   4752\u001b[0m \u001b[38;5;124;03m    \"\"\"\u001b[39;00m\n\u001b[0;32m-> 4753\u001b[0m     \u001b[38;5;28;01mreturn\u001b[39;00m \u001b[38;5;28;43mself\u001b[39;49m\u001b[38;5;241;43m.\u001b[39;49m\u001b[43melements\u001b[49m\u001b[43m[\u001b[49m\u001b[38;5;241;43m0\u001b[39;49m\u001b[43m]\u001b[49m\u001b[38;5;241;43m.\u001b[39;49m\u001b[43mcolumn\u001b[49m\u001b[38;5;241m.\u001b[39mtable\n",
      "File \u001b[0;32m~/miniconda3/envs/fyp_test/lib/python3.12/site-packages/sqlalchemy/util/langhelpers.py:1141\u001b[0m, in \u001b[0;36m_memoized_property.__get__\u001b[0;34m(self, obj, cls)\u001b[0m\n\u001b[1;32m   1139\u001b[0m \u001b[38;5;28;01mif\u001b[39;00m obj \u001b[38;5;129;01mis\u001b[39;00m \u001b[38;5;28;01mNone\u001b[39;00m:\n\u001b[1;32m   1140\u001b[0m     \u001b[38;5;28;01mreturn\u001b[39;00m \u001b[38;5;28mself\u001b[39m\n\u001b[0;32m-> 1141\u001b[0m obj\u001b[38;5;241m.\u001b[39m\u001b[38;5;18m__dict__\u001b[39m[\u001b[38;5;28mself\u001b[39m\u001b[38;5;241m.\u001b[39m\u001b[38;5;18m__name__\u001b[39m] \u001b[38;5;241m=\u001b[39m result \u001b[38;5;241m=\u001b[39m \u001b[38;5;28;43mself\u001b[39;49m\u001b[38;5;241;43m.\u001b[39;49m\u001b[43mfget\u001b[49m\u001b[43m(\u001b[49m\u001b[43mobj\u001b[49m\u001b[43m)\u001b[49m\n\u001b[1;32m   1142\u001b[0m \u001b[38;5;28;01mreturn\u001b[39;00m result\n",
      "File \u001b[0;32m~/miniconda3/envs/fyp_test/lib/python3.12/site-packages/sqlalchemy/sql/schema.py:3170\u001b[0m, in \u001b[0;36mForeignKey.column\u001b[0;34m(self)\u001b[0m\n\u001b[1;32m   3160\u001b[0m \u001b[38;5;129m@util\u001b[39m\u001b[38;5;241m.\u001b[39mro_memoized_property\n\u001b[1;32m   3161\u001b[0m \u001b[38;5;28;01mdef\u001b[39;00m \u001b[38;5;21mcolumn\u001b[39m(\u001b[38;5;28mself\u001b[39m) \u001b[38;5;241m-\u001b[39m\u001b[38;5;241m>\u001b[39m Column[Any]:\n\u001b[1;32m   3162\u001b[0m \u001b[38;5;250m    \u001b[39m\u001b[38;5;124;03m\"\"\"Return the target :class:`_schema.Column` referenced by this\u001b[39;00m\n\u001b[1;32m   3163\u001b[0m \u001b[38;5;124;03m    :class:`_schema.ForeignKey`.\u001b[39;00m\n\u001b[1;32m   3164\u001b[0m \n\u001b[0;32m   (...)\u001b[0m\n\u001b[1;32m   3167\u001b[0m \n\u001b[1;32m   3168\u001b[0m \u001b[38;5;124;03m    \"\"\"\u001b[39;00m\n\u001b[0;32m-> 3170\u001b[0m     \u001b[38;5;28;01mreturn\u001b[39;00m \u001b[38;5;28;43mself\u001b[39;49m\u001b[38;5;241;43m.\u001b[39;49m\u001b[43m_resolve_column\u001b[49m\u001b[43m(\u001b[49m\u001b[43m)\u001b[49m\n",
      "File \u001b[0;32m~/miniconda3/envs/fyp_test/lib/python3.12/site-packages/sqlalchemy/sql/schema.py:3193\u001b[0m, in \u001b[0;36mForeignKey._resolve_column\u001b[0;34m(self, raiseerr)\u001b[0m\n\u001b[1;32m   3191\u001b[0m     \u001b[38;5;28;01mif\u001b[39;00m \u001b[38;5;129;01mnot\u001b[39;00m raiseerr:\n\u001b[1;32m   3192\u001b[0m         \u001b[38;5;28;01mreturn\u001b[39;00m \u001b[38;5;28;01mNone\u001b[39;00m\n\u001b[0;32m-> 3193\u001b[0m     \u001b[38;5;28;01mraise\u001b[39;00m exc\u001b[38;5;241m.\u001b[39mNoReferencedTableError(\n\u001b[1;32m   3194\u001b[0m         \u001b[38;5;124mf\u001b[39m\u001b[38;5;124m\"\u001b[39m\u001b[38;5;124mForeign key associated with column \u001b[39m\u001b[38;5;124m\"\u001b[39m\n\u001b[1;32m   3195\u001b[0m         \u001b[38;5;124mf\u001b[39m\u001b[38;5;124m\"\u001b[39m\u001b[38;5;124m'\u001b[39m\u001b[38;5;132;01m{\u001b[39;00m\u001b[38;5;28mself\u001b[39m\u001b[38;5;241m.\u001b[39mparent\u001b[38;5;132;01m}\u001b[39;00m\u001b[38;5;124m'\u001b[39m\u001b[38;5;124m could not find \u001b[39m\u001b[38;5;124m\"\u001b[39m\n\u001b[1;32m   3196\u001b[0m         \u001b[38;5;124mf\u001b[39m\u001b[38;5;124m\"\u001b[39m\u001b[38;5;124mtable \u001b[39m\u001b[38;5;124m'\u001b[39m\u001b[38;5;132;01m{\u001b[39;00mtablekey\u001b[38;5;132;01m}\u001b[39;00m\u001b[38;5;124m'\u001b[39m\u001b[38;5;124m with which to generate a \u001b[39m\u001b[38;5;124m\"\u001b[39m\n\u001b[1;32m   3197\u001b[0m         \u001b[38;5;124mf\u001b[39m\u001b[38;5;124m\"\u001b[39m\u001b[38;5;124mforeign key to target column \u001b[39m\u001b[38;5;124m'\u001b[39m\u001b[38;5;132;01m{\u001b[39;00mcolname\u001b[38;5;132;01m}\u001b[39;00m\u001b[38;5;124m'\u001b[39m\u001b[38;5;124m\"\u001b[39m,\n\u001b[1;32m   3198\u001b[0m         tablekey,\n\u001b[1;32m   3199\u001b[0m     )\n\u001b[1;32m   3200\u001b[0m \u001b[38;5;28;01melif\u001b[39;00m parenttable\u001b[38;5;241m.\u001b[39mkey \u001b[38;5;129;01mnot\u001b[39;00m \u001b[38;5;129;01min\u001b[39;00m parenttable\u001b[38;5;241m.\u001b[39mmetadata:\n\u001b[1;32m   3201\u001b[0m     \u001b[38;5;28;01mif\u001b[39;00m \u001b[38;5;129;01mnot\u001b[39;00m raiseerr:\n",
      "\u001b[0;31mNoReferencedTableError\u001b[0m: Foreign key associated with column 'chatMessages.sessionId' could not find table 'chatSessions' with which to generate a foreign key to target column 'id'"
     ]
    }
   ],
   "source": [
    "Base.metadata.create_all(engine)"
   ]
  },
  {
   "cell_type": "code",
   "execution_count": 59,
   "metadata": {},
   "outputs": [],
   "source": [
    "# The purpose of sessionmaker is to provide a factory for Session objects with a fixed configuration. As it is typical that an application will have an Engine object in module scope, the sessionmaker can provide a factory for Session objects that are constructed against this engine:\n",
    "Session = sessionmaker(\n",
    "    bind=engine,\n",
    ")"
   ]
  },
  {
   "cell_type": "code",
   "execution_count": 60,
   "metadata": {},
   "outputs": [],
   "source": [
    "session = Session()\n",
    "\n",
    "# Create all tables"
   ]
  },
  {
   "cell_type": "markdown",
   "metadata": {},
   "source": [
    "## POPULATE FAKE DATA"
   ]
  },
  {
   "cell_type": "markdown",
   "metadata": {},
   "source": [
    "## We start with populating roles:"
   ]
  },
  {
   "cell_type": "code",
   "execution_count": 36,
   "metadata": {},
   "outputs": [
    {
     "name": "stdout",
     "output_type": "stream",
     "text": [
      "2025-04-12 15:51:09,508 INFO sqlalchemy.engine.Engine INSERT INTO roles (id, \"roleName\") VALUES (%(id__0)s, %(roleName__0)s), (%(id__1)s, %(roleName__1)s), (%(id__2)s, %(roleName__2)s)\n",
      "2025-04-12 15:51:09,509 INFO sqlalchemy.engine.Engine [cached since 1573s ago (insertmanyvalues) 1/1 (unordered)] {'roleName__0': 'ADMIN', 'id__0': 1, 'roleName__1': 'TEACHER', 'id__1': 2, 'roleName__2': 'STUDENT', 'id__2': 3}\n",
      "2025-04-12 15:51:09,525 INFO sqlalchemy.engine.Engine COMMIT\n"
     ]
    }
   ],
   "source": [
    "# We start with populating roles:\n",
    "admin_role = Roles(roleName=Role.ADMIN)\n",
    "teacher_role = Roles(roleName=Role.TEACHER)\n",
    "student_role = Roles(roleName=Role.STUDENT)\n",
    "\n",
    "# Add the roles to the session\n",
    "# Specify the ids for the roles\n",
    "admin_role.id = 1\n",
    "teacher_role.id = 2\n",
    "student_role.id = 3\n",
    "session.add_all([admin_role, teacher_role, student_role])\n",
    "session.commit()"
   ]
  },
  {
   "cell_type": "markdown",
   "metadata": {},
   "source": [
    "## We start populating the Teachers"
   ]
  },
  {
   "cell_type": "code",
   "execution_count": null,
   "metadata": {},
   "outputs": [],
   "source": [
    "# Function to hash password using pgcrypto\n",
    "# Note: This function assumes that the pgcrypto extension is already enabled in your PostgreSQL database.\n",
    "# Kalo belm ada, enable pgcrypto extension: \n",
    "# Run this in your database ->\n",
    "# CREATE EXTENSION IF NOT EXISTS pgcrypto;\n",
    "\n",
    "# Ref https://www.postgresql.org/docs/current/pgcrypto.html\n",
    "def hash_password(plain_password: str) -> str:\n",
    "    result = session.execute(\n",
    "        text(\"SELECT crypt(:password, gen_salt('bf', 8))\"),\n",
    "        {'password': plain_password}\n",
    "    )\n",
    "    return result.scalar() # Returns first column of the first row"
   ]
  },
  {
   "cell_type": "code",
   "execution_count": 37,
   "metadata": {},
   "outputs": [
    {
     "name": "stdout",
     "output_type": "stream",
     "text": [
      "2025-04-12 15:51:21,725 INFO sqlalchemy.engine.Engine BEGIN (implicit)\n",
      "2025-04-12 15:51:21,727 INFO sqlalchemy.engine.Engine SELECT crypt(%(password)s, gen_salt('bf', 8))\n",
      "2025-04-12 15:51:21,727 INFO sqlalchemy.engine.Engine [cached since 894.8s ago] {'password': 'Dirk123'}\n",
      "2025-04-12 15:51:21,779 INFO sqlalchemy.engine.Engine SELECT roles.id AS roles_id, roles.\"roleName\" AS \"roles_roleName\" \n",
      "FROM roles \n",
      "WHERE roles.id = %(pk_1)s\n",
      "2025-04-12 15:51:21,784 INFO sqlalchemy.engine.Engine [generated in 0.00451s] {'pk_1': 2}\n",
      "2025-04-12 15:51:21,791 INFO sqlalchemy.engine.Engine SELECT crypt(%(password)s, gen_salt('bf', 8))\n",
      "2025-04-12 15:51:21,792 INFO sqlalchemy.engine.Engine [cached since 894.8s ago] {'password': 'Tim123'}\n",
      "2025-04-12 15:51:21,812 INFO sqlalchemy.engine.Engine SELECT crypt(%(password)s, gen_salt('bf', 8))\n",
      "2025-04-12 15:51:21,813 INFO sqlalchemy.engine.Engine [cached since 894.8s ago] {'password': 'Derek123'}\n",
      "2025-04-12 15:51:21,836 INFO sqlalchemy.engine.Engine INSERT INTO users (id, \"displayName\", email, password, \"roleId\") VALUES (%(id__0)s, %(displayName__0)s, %(email__0)s, %(password__0)s, %(roleId__0)s), (%(id__1)s, %(displayName__1)s, %(email__1)s, %(password__1)s, %(roleId__1)s), (%(id__2)s, %(displayName__2)s, %(email__2)s, %(password__2)s, %(roleId__2)s)\n",
      "2025-04-12 15:51:21,836 INFO sqlalchemy.engine.Engine [generated in 0.00005s (insertmanyvalues) 1/1 (unordered)] {'roleId__0': 2, 'id__0': 1, 'email__0': 'john.smith@kgv.hk', 'displayName__0': 'John Smith', 'password__0': '$2a$08$2lOzbrjXc9FT.Jh8eVARsuozvgiqorxn4d1Ra2rqdyRF2iWGytiR6', 'roleId__1': 2, 'id__1': 2, 'email__1': 'mary.johnson@kgv.hk', 'displayName__1': 'Mary Johnson', 'password__1': '$2a$08$hgTvqCBzeaoomxzJ1Q.rEeNmKfj7yVss1wNN2mILJT9sXYLrrE87m', 'roleId__2': 2, 'id__2': 3, 'email__2': 'robert.wilson@kgv.hk', 'displayName__2': 'Robert Wilson', 'password__2': '$2a$08$mbBB2oTP9RxtDr5QF09U/.8AWLV8UpI7wAFxfyyIqkfE4lQGMSJvy'}\n",
      "2025-04-12 15:51:21,839 INFO sqlalchemy.engine.Engine COMMIT\n"
     ]
    }
   ],
   "source": [
    "# Teachers:\n",
    "teachers = [\n",
    "    Users(\n",
    "        id = 1,\n",
    "        displayName=\"John Smith\",\n",
    "        email=\"john.smith@kgv.hk\",\n",
    "        password=hash_password(\"Dirk123\"),\n",
    "        roleId=teacher_role.id\n",
    "    ),\n",
    "    Users(\n",
    "        id = 2,\n",
    "        displayName=\"Mary Johnson\",\n",
    "        email=\"mary.johnson@kgv.hk\",\n",
    "        password=hash_password(\"Tim123\"),\n",
    "        roleId=teacher_role.id\n",
    "    ),\n",
    "    Users(\n",
    "        id = 3,\n",
    "        displayName=\"Robert Wilson\",\n",
    "        email=\"robert.wilson@kgv.hk\",\n",
    "        password=hash_password(\"Derek123\"),\n",
    "        roleId=teacher_role.id\n",
    "    )\n",
    "]\n",
    "\n",
    "# Add the teachers to the session\n",
    "session.add_all(teachers)\n",
    "session.commit()\n"
   ]
  },
  {
   "cell_type": "code",
   "execution_count": null,
   "metadata": {},
   "outputs": [],
   "source": [
    "# Need to add / populate objects all at once, otherwise it will throw a detached instance error, so for now we won't be using context manager"
   ]
  },
  {
   "cell_type": "markdown",
   "metadata": {},
   "source": [
    "## We start populating the students"
   ]
  },
  {
   "cell_type": "code",
   "execution_count": 40,
   "metadata": {},
   "outputs": [
    {
     "name": "stdout",
     "output_type": "stream",
     "text": [
      "2025-04-12 17:01:28,430 INFO sqlalchemy.engine.Engine SELECT crypt(%(password)s, gen_salt('bf', 8))\n",
      "2025-04-12 17:01:28,431 INFO sqlalchemy.engine.Engine [cached since 5101s ago] {'password': 'asbun_max'}\n",
      "2025-04-12 17:01:28,476 INFO sqlalchemy.engine.Engine SELECT roles.id AS roles_id, roles.\"roleName\" AS \"roles_roleName\" \n",
      "FROM roles \n",
      "WHERE roles.id = %(pk_1)s\n",
      "2025-04-12 17:01:28,477 INFO sqlalchemy.engine.Engine [cached since 4207s ago] {'pk_1': 3}\n",
      "2025-04-12 17:01:28,501 INFO sqlalchemy.engine.Engine SELECT crypt(%(password)s, gen_salt('bf', 8))\n",
      "2025-04-12 17:01:28,502 INFO sqlalchemy.engine.Engine [cached since 5102s ago] {'password': 'si_paling_paling'}\n",
      "2025-04-12 17:01:28,530 INFO sqlalchemy.engine.Engine SELECT crypt(%(password)s, gen_salt('bf', 8))\n",
      "2025-04-12 17:01:28,531 INFO sqlalchemy.engine.Engine [cached since 5102s ago] {'password': 'mekimeki'}\n",
      "2025-04-12 17:01:28,554 INFO sqlalchemy.engine.Engine SELECT crypt(%(password)s, gen_salt('bf', 8))\n",
      "2025-04-12 17:01:28,554 INFO sqlalchemy.engine.Engine [cached since 5102s ago] {'password': 'gamon_banget'}\n",
      "2025-04-12 17:01:28,576 INFO sqlalchemy.engine.Engine INSERT INTO users (id, \"displayName\", email, password, \"roleId\") VALUES (%(id__0)s, %(displayName__0)s, %(email__0)s, %(password__0)s, %(roleId__0)s), (%(id__1)s, %(displayName__1)s, %(email__1)s, %(password__1)s, %(roleId__1)s), (%(id__2)s, %(displayName__2)s, %(email__2)s, %(password__2)s, %(roleId__2)s), (%(id__3)s, %(displayName__3)s, %(email__3)s, %(password__3)s, %(roleId__3)s)\n",
      "2025-04-12 17:01:28,576 INFO sqlalchemy.engine.Engine [cached since 4207s ago (insertmanyvalues) 1/1 (unordered)] {'roleId__0': 3, 'id__0': 4, 'email__0': 'alicia.sutikno@kgv.hk', 'displayName__0': 'Alicia Sutikno', 'password__0': '$2a$08$tzxUlBwpjA5kByxcNjPw9OmyTzy/0yDw4O/iq5c8lyNV.gPFXRRb6', 'roleId__1': 3, 'id__1': 5, 'email__1': 'jeje.toil@kgv.hk', 'displayName__1': 'Georgy Siswanta', 'password__1': '$2a$08$Cu6AGJwbMmCo099aVobs3umV1CqXz8pJ626yiAlYfmc78yq7oQkWm', 'roleId__2': 3, 'id__2': 6, 'email__2': 'bryan.melvison@kgv.hk', 'displayName__2': 'Bryan Melvison', 'password__2': '$2a$08$w1cL7W4b2.cbl4alU6M6JeLqB/xtts1t8UIkXSvbE90u/BiuFe78W', 'roleId__3': 3, 'id__3': 7, 'email__3': 'lewis.lewis@kgv.hk', 'displayName__3': 'Lewis Lewis', 'password__3': '$2a$08$ZxlzikD5sMMaEJMrAJ.yx.qDcnHyCjRYACNaLp05J9En3evAgnSXy'}\n",
      "2025-04-12 17:01:28,578 INFO sqlalchemy.engine.Engine COMMIT\n"
     ]
    }
   ],
   "source": [
    "students = [\n",
    "    Users(\n",
    "        id = 4,\n",
    "        displayName=\"Alicia Sutikno\",\n",
    "        email=\"alicia.sutikno@kgv.hk\",\n",
    "        password=hash_password(\"asbun_max\"),\n",
    "        roleId=student_role.id\n",
    "    ),\n",
    "    Users(\n",
    "        id = 5,\n",
    "        displayName=\"Georgy Siswanta\",\n",
    "        email=\"jeje.toil@kgv.hk\",\n",
    "        password=hash_password(\"si_paling_paling\"),\n",
    "        roleId=student_role.id\n",
    "    ),\n",
    "    Users(\n",
    "        id = 6,\n",
    "        displayName=\"Bryan Melvison\",\n",
    "        email=\"bryan.melvison@kgv.hk\",\n",
    "        password=hash_password(\"mekimeki\"),\n",
    "        roleId=student_role.id\n",
    "    ),\n",
    "    Users(\n",
    "        id = 7,\n",
    "        displayName=\"Lewis Lewis\",\n",
    "        email=\"lewis.lewis@kgv.hk\",\n",
    "        password=hash_password(\"gamon_banget\"),\n",
    "        roleId=student_role.id\n",
    "    )\n",
    "]\n",
    "\n",
    "session.add_all(students)\n",
    "session.commit()"
   ]
  },
  {
   "cell_type": "markdown",
   "metadata": {},
   "source": [
    "## We start populating the subjects:"
   ]
  },
  {
   "cell_type": "code",
   "execution_count": 50,
   "metadata": {},
   "outputs": [
    {
     "name": "stdout",
     "output_type": "stream",
     "text": [
      "2025-04-13 03:06:20,183 INFO sqlalchemy.engine.Engine INSERT INTO subjects (id, \"subjectName\", \"totalChapters\") VALUES (%(id__0)s, %(subjectName__0)s, %(totalChapters__0)s), (%(id__1)s, %(subjectName__1)s, %(totalChapters__1)s), (%(id__2)s, %(subjectName__2)s, %(totalChapters__2)s)\n",
      "2025-04-13 03:06:20,185 INFO sqlalchemy.engine.Engine [generated in 0.00191s (insertmanyvalues) 1/1 (unordered)] {'subjectName__0': 'Biology', 'totalChapters__0': 21, 'id__0': 1, 'subjectName__1': 'Physics', 'totalChapters__1': 21, 'id__1': 2, 'subjectName__2': 'Chemistry', 'totalChapters__2': 22, 'id__2': 3}\n",
      "2025-04-13 03:06:20,226 INFO sqlalchemy.engine.Engine COMMIT\n"
     ]
    }
   ],
   "source": [
    "subject = [\n",
    "    Subjects(\n",
    "        id = 1,\n",
    "        subjectName = \"Biology\",\n",
    "        totalChapters = 21\n",
    "    ),\n",
    "    Subjects(\n",
    "        id = 2,\n",
    "        subjectName = \"Physics\",\n",
    "        totalChapters = 21\n",
    "    ),\n",
    "    Subjects(\n",
    "        id = 3,\n",
    "        subjectName = \"Chemistry\",\n",
    "        totalChapters = 22\n",
    "    ),\n",
    "]\n",
    "\n",
    "session.add_all(subject)\n",
    "session.commit()"
   ]
  },
  {
   "cell_type": "markdown",
   "metadata": {},
   "source": [
    "## We start populating the chapters"
   ]
  },
  {
   "cell_type": "code",
   "execution_count": 54,
   "metadata": {},
   "outputs": [],
   "source": [
    "from slugify import slugify"
   ]
  },
  {
   "cell_type": "code",
   "execution_count": null,
   "metadata": {},
   "outputs": [],
   "source": [
    "slugify()"
   ]
  },
  {
   "cell_type": "code",
   "execution_count": 60,
   "metadata": {},
   "outputs": [],
   "source": [
    "phys_chap = [\"Movement and Position\", \"Forces and Shape\", \"Forces and Movement\", \"Mains Electricity\", \"Current and Voltage in Circuits\", \"Electrical Resistance\", \"Properties of Waves\", \"The Electromagnetic Spectrum\", \"Light and Sound Waves\", \"Energy Transfers\", \"Thermal Energy\", \"Work and Power\", \"Density and Pressure\", \"Solids, Liquids and Gases\", \"Magnetism and Electromagnetism\", \"Electric Motors and Electromagnetic Induction\", \"Atoms and Radioactivity\", \"Radiation and Half-Life\", \"Applications of Radioactivity\", \"Fission and Fusion\", \"Motion in the Universe\", \"Stellar Evolution\"]"
   ]
  },
  {
   "cell_type": "code",
   "execution_count": 61,
   "metadata": {},
   "outputs": [],
   "source": [
    "chem_chap = [\"States of Matter\", \"Elements, Compounds and Mixtures\", \"Atomic Structure\", \"The Periodic Table\", \"Chemical Formulae, Equations and Calculations\", \"Ionic Bonding\", \"Covalent Bonding\", \"The Alkali Metals\", \"The Halogens\", \"Gases in the Atmosphere\", \"Reactivity Series\", \"Acids and Alkalis\", \"Acids, Bases and Salt Preparations\", \"Chemical Tests\", \"Energetics\", \"Rates of Reaction and Reversible Reactions\", \"Introduction to Organic Chemistry\", \"Crude Oil\", \"Alkanes\", \"Alkenes\", \"Synthetic Polymers\"]"
   ]
  },
  {
   "cell_type": "code",
   "execution_count": 56,
   "metadata": {},
   "outputs": [],
   "source": [
    "bio_chap = [\"Life Processes\", \"The Variety of Living Organisms\", \"Breathing and Gas Exchange\", \"Food and Digestion\",  \"Blood and Circulation\",  \"Coordination\", \"Chemical Coordination\", \"Homeostasis and Excretion\", \"Reproduction in Humans\", \"Plants and Food\",  \"Transport in Plants\", \"Chemical Coordination in Plants\", \"Reproduction in Plants\", \"Ecosystems\", \"Human Influences on the Environment\", \"Chromosomes, Genes and DNA\", \"Cell Division\",  \"Genes and Inheritance\", \"Natural Selection, Evolution and Selective Breeding\", \"Using Microorganisms\", \"Genetic Modification\"]"
   ]
  },
  {
   "cell_type": "code",
   "execution_count": null,
   "metadata": {},
   "outputs": [
    {
     "name": "stdout",
     "output_type": "stream",
     "text": [
      "2025-04-13 19:08:39,624 INFO sqlalchemy.engine.Engine INSERT INTO chapters (id, \"subjectId\", \"chapterNumber\", \"chapterName\") VALUES (%(id__0)s, %(subjectId__0)s, %(chapterNumber__0)s, %(chapterName__0)s), (%(id__1)s, %(subjectId__1)s, %(chapterNumber__1)s, %(chapterName__1)s), (%(id__2)s, %(subjectId__2 ... 1303 characters truncated ... s, %(chapterName__19)s), (%(id__20)s, %(subjectId__20)s, %(chapterNumber__20)s, %(chapterName__20)s)\n",
      "2025-04-13 19:08:39,625 INFO sqlalchemy.engine.Engine [generated in 0.00163s (insertmanyvalues) 1/1 (unordered)] {'subjectId__0': 1, 'chapterName__0': 'life-processes', 'chapterNumber__0': 1, 'id__0': 1, 'subjectId__1': 1, 'chapterName__1': 'the-variety-of-living-organisms', 'chapterNumber__1': 2, 'id__1': 2, 'subjectId__2': 1, 'chapterName__2': 'breathing-and-gas-exchange', 'chapterNumber__2': 3, 'id__2': 3, 'subjectId__3': 1, 'chapterName__3': 'food-and-digestion', 'chapterNumber__3': 4, 'id__3': 4, 'subjectId__4': 1, 'chapterName__4': 'blood-and-circulation', 'chapterNumber__4': 5, 'id__4': 5, 'subjectId__5': 1, 'chapterName__5': 'coordination', 'chapterNumber__5': 6, 'id__5': 6, 'subjectId__6': 1, 'chapterName__6': 'chemical-coordination', 'chapterNumber__6': 7, 'id__6': 7, 'subjectId__7': 1, 'chapterName__7': 'homeostasis-and-excretion', 'chapterNumber__7': 8, 'id__7': 8, 'subjectId__8': 1, 'chapterName__8': 'reproduction-in-humans', 'chapterNumber__8': 9, 'id__8': 9, 'subjectId__9': 1, 'chapterName__9': 'plants-and-food', 'chapterNumber__9': 10, 'id__9': 10, 'subjectId__10': 1, 'chapterName__10': 'transport-in-plants', 'chapterNumber__10': 11, 'id__10': 11, 'subjectId__11': 1, 'chapterName__11': 'chemical-coordination-in-plants', 'chapterNumber__11': 12, 'id__11': 12, 'subjectId__12': 1, 'chapterName__12': 'reproduction-in-plants', 'chapterNumber__12': 13, 'id__12': 13, 'subjectId__13': 1, 'chapterName__13': 'ecosystems', 'chapterNumber__13': 14, 'id__13': 14, 'subjectId__14': 1, 'chapterName__14': 'human-influences-on-the-environment', 'chapterNumber__14': 15, 'id__14': 15, 'subjectId__15': 1, 'chapterName__15': 'chromosomes-genes-and-dna', 'chapterNumber__15': 16, 'id__15': 16, 'subjectId__16': 1, 'chapterName__16': 'cell-division', 'chapterNumber__16': 17, 'id__16': 17, 'subjectId__17': 1, 'chapterName__17': 'genes-and-inheritance', 'chapterNumber__17': 18, 'id__17': 18, 'subjectId__18': 1, 'chapterName__18': 'natural-selection-evolution-and-selective-breeding', 'chapterNumber__18': 19, 'id__18': 19, 'subjectId__19': 1, 'chapterName__19': 'using-microorganisms', 'chapterNumber__19': 20, 'id__19': 20, 'subjectId__20': 1, 'chapterName__20': 'genetic-modification', 'chapterNumber__20': 21, 'id__20': 21}\n",
      "2025-04-13 19:08:39,704 INFO sqlalchemy.engine.Engine COMMIT\n"
     ]
    }
   ],
   "source": [
    "chapter = [\n",
    "    Chapters(id = i, subjectId=1, chapterNumber = i, chapterName = slugify(chap)) for i, chap in enumerate(bio_chap, start=1)\n",
    "]\n",
    "session.add_all(chapter)\n",
    "session.commit()\n",
    "chapter = [\n",
    "    Chapters(id = i + 21, subjectId=2, chapterNumber = i, chapterName = slugify(chap)) for i, chap in enumerate(phys_chap, start=1)\n",
    "]\n",
    "session.add_all(chapter)\n",
    "session.commit()\n",
    "chapter = [\n",
    "    Chapters(id = i + 43, subjectId=3, chapterNumber = i, chapterName = slugify(chap)) for i, chap in enumerate(chem_chap, start=1)\n",
    "]\n",
    "session.add_all(chapter)\n",
    "session.commit()"
   ]
  },
  {
   "cell_type": "markdown",
   "metadata": {},
   "source": [
    "## Now we populate teacherSubjects table"
   ]
  },
  {
   "cell_type": "code",
   "execution_count": 69,
   "metadata": {},
   "outputs": [
    {
     "name": "stdout",
     "output_type": "stream",
     "text": [
      "2025-04-13 20:00:36,494 INFO sqlalchemy.engine.Engine BEGIN (implicit)\n",
      "2025-04-13 20:00:36,510 INFO sqlalchemy.engine.Engine INSERT INTO \"teacherSubjects\" (\"teacherId\", \"subjectId\", \"assignedDate\") VALUES (%(teacherId__0)s, %(subjectId__0)s, %(assignedDate__0)s), (%(teacherId__1)s, %(subjectId__1)s, %(assignedDate__1)s), (%(teacherId__2)s, %(subjectId__2)s, %(assignedDate__2)s)\n",
      "2025-04-13 20:00:36,511 INFO sqlalchemy.engine.Engine [generated in 0.00140s (insertmanyvalues) 1/1 (unordered)] {'subjectId__0': 1, 'assignedDate__0': datetime.datetime(2025, 4, 13, 20, 0, 36, 490303), 'teacherId__0': 1, 'subjectId__1': 2, 'assignedDate__1': datetime.datetime(2025, 4, 13, 20, 0, 36, 491366), 'teacherId__1': 2, 'subjectId__2': 3, 'assignedDate__2': datetime.datetime(2025, 4, 13, 20, 0, 36, 491387), 'teacherId__2': 3}\n",
      "2025-04-13 20:00:36,559 INFO sqlalchemy.engine.Engine COMMIT\n"
     ]
    }
   ],
   "source": [
    "from datetime import datetime\n",
    "\n",
    "# Populate teacherSubjects\n",
    "# Let's assign subjects to teachers\n",
    "teacher_subjects = [\n",
    "    teacherSubjects(\n",
    "        teacherId=1,  # John Smith\n",
    "        subjectId=1,  # Biology\n",
    "        assignedDate=datetime.now()\n",
    "    ),\n",
    "    teacherSubjects(\n",
    "        teacherId=2,  # Mary Johnson\n",
    "        subjectId=2,  # Physics\n",
    "        assignedDate=datetime.now()\n",
    "    ),\n",
    "    teacherSubjects(\n",
    "        teacherId=3,  # Robert Wilson\n",
    "        subjectId=3,  # Chemistry\n",
    "        assignedDate=datetime.now()\n",
    "    )\n",
    "]\n",
    "\n",
    "session.add_all(teacher_subjects)\n",
    "session.commit()"
   ]
  },
  {
   "cell_type": "markdown",
   "metadata": {},
   "source": [
    "## Now we populate studentSubjects role:\n",
    "(Tentative, might be changed, especially studentSubjectGrade, remember normalization for later)"
   ]
  },
  {
   "cell_type": "code",
   "execution_count": 70,
   "metadata": {},
   "outputs": [
    {
     "name": "stdout",
     "output_type": "stream",
     "text": [
      "2025-04-13 20:05:41,622 INFO sqlalchemy.engine.Engine BEGIN (implicit)\n",
      "2025-04-13 20:05:41,652 INFO sqlalchemy.engine.Engine INSERT INTO \"studentSubjects\" (\"studentId\", \"subjectId\", \"assignedDate\", \"studentSubjectGrade\") VALUES (%(studentId__0)s, %(subjectId__0)s, %(assignedDate__0)s, %(studentSubjectGrade__0)s), (%(studentId__1)s, %(subjectId__1)s, %(assignedDate__1)s, %( ... 803 characters truncated ... de__10)s), (%(studentId__11)s, %(subjectId__11)s, %(assignedDate__11)s, %(studentSubjectGrade__11)s)\n",
      "2025-04-13 20:05:41,653 INFO sqlalchemy.engine.Engine [generated in 0.00056s (insertmanyvalues) 1/1 (unordered)] {'subjectId__0': 1, 'studentId__0': 4, 'studentSubjectGrade__0': None, 'assignedDate__0': datetime.datetime(2025, 4, 13, 20, 5, 41, 620201), 'subjectId__1': 2, 'studentId__1': 4, 'studentSubjectGrade__1': None, 'assignedDate__1': datetime.datetime(2025, 4, 13, 20, 5, 41, 620652), 'subjectId__2': 3, 'studentId__2': 4, 'studentSubjectGrade__2': None, 'assignedDate__2': datetime.datetime(2025, 4, 13, 20, 5, 41, 620662), 'subjectId__3': 1, 'studentId__3': 5, 'studentSubjectGrade__3': None, 'assignedDate__3': datetime.datetime(2025, 4, 13, 20, 5, 41, 620668), 'subjectId__4': 2, 'studentId__4': 5, 'studentSubjectGrade__4': None, 'assignedDate__4': datetime.datetime(2025, 4, 13, 20, 5, 41, 620673), 'subjectId__5': 3, 'studentId__5': 5, 'studentSubjectGrade__5': None, 'assignedDate__5': datetime.datetime(2025, 4, 13, 20, 5, 41, 620679), 'subjectId__6': 1, 'studentId__6': 6, 'studentSubjectGrade__6': None, 'assignedDate__6': datetime.datetime(2025, 4, 13, 20, 5, 41, 620684), 'subjectId__7': 2, 'studentId__7': 6, 'studentSubjectGrade__7': None, 'assignedDate__7': datetime.datetime(2025, 4, 13, 20, 5, 41, 620688), 'subjectId__8': 3, 'studentId__8': 6, 'studentSubjectGrade__8': None, 'assignedDate__8': datetime.datetime(2025, 4, 13, 20, 5, 41, 620693), 'subjectId__9': 1, 'studentId__9': 7, 'studentSubjectGrade__9': None, 'assignedDate__9': datetime.datetime(2025, 4, 13, 20, 5, 41, 620698), 'subjectId__10': 2, 'studentId__10': 7, 'studentSubjectGrade__10': None, 'assignedDate__10': datetime.datetime(2025, 4, 13, 20, 5, 41, 620703), 'subjectId__11': 3, 'studentId__11': 7, 'studentSubjectGrade__11': None, 'assignedDate__11': datetime.datetime(2025, 4, 13, 20, 5, 41, 620708)}\n",
      "2025-04-13 20:05:41,746 INFO sqlalchemy.engine.Engine COMMIT\n"
     ]
    }
   ],
   "source": [
    "student_subjects = []\n",
    "# Every students take all course\n",
    "for student_id in range(4, 8):  # student IDs 4 through 7\n",
    "    for subject_id in range(1, 4):  # subject IDs 1 through 3\n",
    "        student_subjects.append(\n",
    "            studentSubjects(\n",
    "                studentId=student_id,\n",
    "                subjectId=subject_id,\n",
    "                assignedDate=datetime.now(),\n",
    "                studentSubjectGrade=None  # Grades can be updated later\n",
    "            )\n",
    "        )\n",
    "\n",
    "session.add_all(student_subjects)\n",
    "session.commit()"
   ]
  },
  {
   "cell_type": "code",
   "execution_count": 53,
   "metadata": {},
   "outputs": [
    {
     "name": "stdout",
     "output_type": "stream",
     "text": [
      "2025-04-13 18:15:00,302 INFO sqlalchemy.engine.Engine SELECT users.id AS users_id, users.\"displayName\" AS \"users_displayName\", users.email AS users_email, users.password AS users_password, users.\"roleId\" AS \"users_roleId\" \n",
      "FROM users \n",
      "WHERE users.email = %(email_1)s \n",
      " LIMIT %(param_1)s\n",
      "2025-04-13 18:15:00,302 INFO sqlalchemy.engine.Engine [cached since 6.578e+04s ago] {'email_1': 'alicia.sutikno@kgv.hk', 'param_1': 1}\n",
      "2025-04-13 18:15:00,304 INFO sqlalchemy.engine.Engine SELECT crypt(%(plain_password)s, %(hashed_password)s) = %(hashed_password)s\n",
      "2025-04-13 18:15:00,304 INFO sqlalchemy.engine.Engine [cached since 6.575e+04s ago] {'plain_password': 'asbun_max', 'hashed_password': '$2a$08$tzxUlBwpjA5kByxcNjPw9OmyTzy/0yDw4O/iq5c8lyNV.gPFXRRb6'}\n",
      "Password is valid: True\n"
     ]
    }
   ],
   "source": [
    "# Password Verifier, Can try to use this function to verify the password\n",
    "def verify_password(plain_password: str, hashed_password: str) -> bool:\n",
    "    result = session.execute(\n",
    "        text(\"SELECT crypt(:plain_password, :hashed_password) = :hashed_password\"),\n",
    "        {\n",
    "            'plain_password': plain_password,\n",
    "            'hashed_password': hashed_password\n",
    "        }\n",
    "    )\n",
    "    return result.scalar()\n",
    "\n",
    "user = session.query(Users).filter_by(email=\"alicia.sutikno@kgv.hk\").first()\n",
    "is_valid = verify_password(\"asbun_max\", user.password)\n",
    "print(f\"Password is valid: {is_valid}\")\n"
   ]
  },
  {
   "cell_type": "code",
   "execution_count": null,
   "metadata": {},
   "outputs": [],
   "source": []
  },
  {
   "cell_type": "code",
   "execution_count": null,
   "metadata": {},
   "outputs": [],
   "source": []
  }
 ],
 "metadata": {
  "kernelspec": {
   "display_name": "fyp_test",
   "language": "python",
   "name": "python3"
  },
  "language_info": {
   "codemirror_mode": {
    "name": "ipython",
    "version": 3
   },
   "file_extension": ".py",
   "mimetype": "text/x-python",
   "name": "python",
   "nbconvert_exporter": "python",
   "pygments_lexer": "ipython3",
   "version": "3.12.6"
  }
 },
 "nbformat": 4,
 "nbformat_minor": 2
}
