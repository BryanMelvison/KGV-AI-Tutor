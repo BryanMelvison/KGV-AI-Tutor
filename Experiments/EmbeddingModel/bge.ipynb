{
 "cells": [
  {
   "cell_type": "code",
   "execution_count": 2,
   "metadata": {},
   "outputs": [
    {
     "name": "stderr",
     "output_type": "stream",
     "text": [
      "/Users/bryanmelvison/miniconda3/envs/fyp_test/lib/python3.12/site-packages/sentence_transformers/cross_encoder/CrossEncoder.py:13: TqdmWarning: IProgress not found. Please update jupyter and ipywidgets. See https://ipywidgets.readthedocs.io/en/stable/user_install.html\n",
      "  from tqdm.autonotebook import tqdm, trange\n"
     ]
    },
    {
     "name": "stdout",
     "output_type": "stream",
     "text": [
      "\n",
      "Query: How do plants produce energy?\n",
      "Score: 0.8446 - The process of photosynthesis in plants converts light energy into chemical energy.\n",
      "Score: 0.6265 - The human digestive system breaks down food into nutrients that can be absorbed by the body.\n",
      "Score: 0.5665 - DNA, or deoxyribonucleic acid, is a molecule composed of two chains that coil around each other to form a double helix carrying genetic instructions.\n",
      "\n",
      "Query: What is the basic principle of quantum physics?\n",
      "Score: 0.8054 - Quantum mechanics is a fundamental theory in physics that provides a description of the physical properties of nature at the scale of atoms and subatomic particles.\n",
      "Score: 0.5768 - The theory of relativity, proposed by Albert Einstein, describes the relationship between space and time.\n",
      "Score: 0.5477 - DNA, or deoxyribonucleic acid, is a molecule composed of two chains that coil around each other to form a double helix carrying genetic instructions.\n",
      "\n",
      "Query: Tell me about machine learning and AI.\n",
      "Score: 0.8553 - Machine learning is a subset of artificial intelligence that focuses on the development of algorithms that can learn from and make predictions or decisions based on data.\n",
      "Score: 0.7528 - Artificial neural networks are computing systems inspired by the biological neural networks that constitute animal brains.\n",
      "Score: 0.5746 - Quantum mechanics is a fundamental theory in physics that provides a description of the physical properties of nature at the scale of atoms and subatomic particles.\n",
      "\n",
      "Query: What caused global warming?\n",
      "Score: 0.6965 - Climate change refers to long-term shifts in global weather patterns and average temperatures.\n",
      "Score: 0.6142 - The process of photosynthesis in plants converts light energy into chemical energy.\n",
      "Score: 0.5437 - The human digestive system breaks down food into nutrients that can be absorbed by the body.\n",
      "\n",
      "Query: Explain the structure of DNA.\n",
      "Score: 0.8393 - DNA, or deoxyribonucleic acid, is a molecule composed of two chains that coil around each other to form a double helix carrying genetic instructions.\n",
      "Score: 0.6567 - Quantum mechanics is a fundamental theory in physics that provides a description of the physical properties of nature at the scale of atoms and subatomic particles.\n",
      "Score: 0.6443 - The process of photosynthesis in plants converts light energy into chemical energy.\n"
     ]
    }
   ],
   "source": [
    "from sentence_transformers import SentenceTransformer\n",
    "import numpy as np\n",
    "from typing import List, Tuple\n",
    "\n",
    "# Sample documents\n",
    "documents = [\n",
    "    \"The process of photosynthesis in plants converts light energy into chemical energy.\",\n",
    "    \"Quantum mechanics is a fundamental theory in physics that provides a description of the physical properties of nature at the scale of atoms and subatomic particles.\",\n",
    "    \"The American Civil War was fought from 1861 to 1865 between the Union and the Confederacy.\",\n",
    "    \"Machine learning is a subset of artificial intelligence that focuses on the development of algorithms that can learn from and make predictions or decisions based on data.\",\n",
    "    \"The human digestive system breaks down food into nutrients that can be absorbed by the body.\",\n",
    "    \"Climate change refers to long-term shifts in global weather patterns and average temperatures.\",\n",
    "    \"The Renaissance was a period of cultural, artistic, political, and economic revival following the Middle Ages.\",\n",
    "    \"DNA, or deoxyribonucleic acid, is a molecule composed of two chains that coil around each other to form a double helix carrying genetic instructions.\",\n",
    "    \"The theory of relativity, proposed by Albert Einstein, describes the relationship between space and time.\",\n",
    "    \"Artificial neural networks are computing systems inspired by the biological neural networks that constitute animal brains.\"\n",
    "]\n",
    "\n",
    "# Function to generate embeddings\n",
    "def generate_embeddings(texts: List[str], model: SentenceTransformer) -> np.ndarray:\n",
    "    return model.encode(texts)\n",
    "\n",
    "# Function to perform semantic search\n",
    "def semantic_search(query: str, documents: List[str], embeddings: np.ndarray, model: SentenceTransformer, top_k: int = 3) -> List[Tuple[int, float]]:\n",
    "    query_embedding = model.encode([query])\n",
    "    similarities = np.dot(embeddings, query_embedding.T).squeeze()\n",
    "    top_results = similarities.argsort()[::-1][:top_k]\n",
    "    return [(i, similarities[i]) for i in top_results]\n",
    "\n",
    "# Load BGE model\n",
    "model = SentenceTransformer('BAAI/bge-small-en-v1.5')\n",
    "\n",
    "# Generate embeddings for documents\n",
    "document_embeddings = generate_embeddings(documents, model)\n",
    "\n",
    "# Example queries\n",
    "queries = [\n",
    "    \"How do plants produce energy?\",\n",
    "    \"What is the basic principle of quantum physics?\",\n",
    "    \"Tell me about machine learning and AI.\",\n",
    "    \"What caused global warming?\",\n",
    "    \"Explain the structure of DNA.\",\n",
    "]\n",
    "\n",
    "# Perform semantic search for each query\n",
    "for query in queries:\n",
    "    print(f\"\\nQuery: {query}\")\n",
    "    results = semantic_search(query, documents, document_embeddings, model)\n",
    "    for idx, score in results:\n",
    "        print(f\"Score: {score:.4f} - {documents[idx]}\")"
   ]
  },
  {
   "cell_type": "code",
   "execution_count": null,
   "metadata": {},
   "outputs": [],
   "source": []
  }
 ],
 "metadata": {
  "kernelspec": {
   "display_name": "fyp_test",
   "language": "python",
   "name": "python3"
  },
  "language_info": {
   "codemirror_mode": {
    "name": "ipython",
    "version": 3
   },
   "file_extension": ".py",
   "mimetype": "text/x-python",
   "name": "python",
   "nbconvert_exporter": "python",
   "pygments_lexer": "ipython3",
   "version": "3.12.4"
  }
 },
 "nbformat": 4,
 "nbformat_minor": 2
}
